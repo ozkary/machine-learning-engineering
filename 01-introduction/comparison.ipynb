{
 "cells": [
  {
   "cell_type": "markdown",
   "metadata": {},
   "source": [
    " # ML impacts how computers solve problems. Traditional systems rely on pre-defined rules programmed by humans. This approach struggles with complexity and doesn't adapt to new information. In contrast, ML enables computers to learn directly from data, similar to how humans learn."
   ]
  },
  {
   "cell_type": "markdown",
   "metadata": {},
   "source": [
    "## Traditional Code\n"
   ]
  },
  {
   "cell_type": "code",
   "execution_count": 1,
   "metadata": {},
   "outputs": [],
   "source": [
    "def heart_disease_risk_rule_based(age, overweight, diabetic):\n",
    "     \"\"\"\n",
    "     Assesses heart disease risk based on a set of predefined rules.\n",
    "\n",
    "     Args:\n",
    "         age: Age of the individual (int).\n",
    "         overweight: True if overweight, False otherwise (bool).\n",
    "         diabetic: True if diabetic, False otherwise (bool).\n",
    "\n",
    "     Returns:\n",
    "         \"High Risk\" or \"Low Risk\" (str).\n",
    "     \"\"\"\n",
    "     if age > 50 and overweight and diabetic:\n",
    "         return \"High Risk\"\n",
    "     elif age > 60 and (overweight or diabetic):\n",
    "         return \"High Risk\"\n",
    "     elif age > 40 and overweight and not diabetic:\n",
    "        return \"Moderate Risk\"\n",
    "     else:\n",
    "         return \"Low Risk\""
   ]
  },
  {
   "cell_type": "code",
   "execution_count": 2,
   "metadata": {},
   "outputs": [
    {
     "name": "stdout",
     "output_type": "stream",
     "text": [
      "High Risk\n",
      "Low Risk\n",
      "High Risk\n",
      "Moderate Risk\n"
     ]
    }
   ],
   "source": [
    " # Examples\n",
    " print(heart_disease_risk_rule_based(55, True, True))  # Output: High Risk\n",
    " print(heart_disease_risk_rule_based(45, False, False)) # Output: Low Risk\n",
    " print(heart_disease_risk_rule_based(65, False, True))  # Output: High Risk\n",
    " print(heart_disease_risk_rule_based(45, True, False)) # Output: Moderate Risk"
   ]
  },
  {
   "cell_type": "markdown",
   "metadata": {},
   "source": [
    "# Machine Learning (Data-Driven Approach)"
   ]
  },
  {
   "cell_type": "code",
   "execution_count": 7,
   "metadata": {},
   "outputs": [
    {
     "name": "stdout",
     "output_type": "stream",
     "text": [
      "    Age  Overweight  Diabetic Heart Disease\n",
      "0    69       False      True           Yes\n",
      "1    43        True      True            No\n",
      "2    72       False     False            No\n",
      "3    58        True     False           Yes\n",
      "4    70       False     False           Yes\n",
      "..  ...         ...       ...           ...\n",
      "95   43       False     False            No\n",
      "96   31        True      True            No\n",
      "97   45       False      True            No\n",
      "98   48       False     False            No\n",
      "99   70        True     False           Yes\n",
      "\n",
      "[100 rows x 4 columns]\n"
     ]
    }
   ],
   "source": [
    "# get the data\n",
    "import random\n",
    "import pandas as pd\n",
    "\n",
    "def generate_heart_disease_data(num_records=50):\n",
    "    \"\"\"\n",
    "    Generates synthetic data for heart disease risk assessment.\n",
    "\n",
    "    Args:\n",
    "        num_records: The number of data records to generate.\n",
    "\n",
    "    Returns:\n",
    "        A pandas DataFrame containing the generated data.\n",
    "    \"\"\"\n",
    "\n",
    "    data = {\n",
    "        'Age': [],\n",
    "        'Overweight': [],\n",
    "        'Diabetic': [],\n",
    "        'Heart Disease': []\n",
    "    }\n",
    "\n",
    "    for _ in range(num_records):\n",
    "        age = random.randint(30, 80)  # Assuming age range of 30-80\n",
    "        overweight = random.choice([True, False])\n",
    "        diabetic = random.choice([True, False])\n",
    "\n",
    "        # Introduce some logic for heart disease risk based on factors\n",
    "        if age > 60 and (overweight or diabetic):\n",
    "            heart_disease = random.choices(['Yes', 'No'], weights=[0.8, 0.2])[0]  # Higher chance of Yes\n",
    "        elif age > 50 and overweight and diabetic:\n",
    "             heart_disease = random.choices(['Yes', 'No'], weights=[0.7, 0.3])[0]\n",
    "        elif age > 40 and overweight and not diabetic:\n",
    "            heart_disease = random.choices(['Yes', 'No'], weights=[0.3, 0.7])[0] # Lower chance of Yes\n",
    "        else:\n",
    "            heart_disease = random.choices(['Yes', 'No'], weights=[0.1, 0.9])[0]  # Low chance of Yes\n",
    "\n",
    "        data['Age'].append(age)\n",
    "        data['Overweight'].append(overweight)\n",
    "        data['Diabetic'].append(diabetic)\n",
    "        data['Heart Disease'].append(heart_disease)\n",
    "\n",
    "    return pd.DataFrame(data)\n",
    "\n",
    "\n",
    "# Create a sample dataframe\n",
    "data = generate_heart_disease_data(100)\n",
    "print(data.head(100))"
   ]
  },
  {
   "cell_type": "code",
   "execution_count": null,
   "metadata": {},
   "outputs": [
    {
     "name": "stdout",
     "output_type": "stream",
     "text": [
      "Accuracy of the model: 0.75\n"
     ]
    }
   ],
   "source": [
    "\n",
    "from sklearn.model_selection import train_test_split\n",
    "from sklearn.ensemble import RandomForestClassifier\n",
    "from sklearn.metrics import accuracy_score\n",
    "\n",
    "\n",
    "df = pd.DataFrame(data)\n",
    "# Prepare the data\n",
    "X = df[['Age', 'Overweight', 'Diabetic']]  # Features\n",
    "y = df['Heart Disease']  # Target\n",
    "\n",
    "# Split data into training and testing sets\n",
    "# X has the categories/features\n",
    "# y has the target value\n",
    "# train data is for training\n",
    "# test data is for testing\n",
    "# .2 means 20% of the data is used for testing 80% for training\n",
    "# 42 is the seed for random shuffling\n",
    "\n",
    "X_train, X_test, y_train, y_test = train_test_split(X, y, test_size=0.2, random_state=42)\n",
    "\n",
    "# Train a Random Forest classifier\n",
    "model = RandomForestClassifier()\n",
    "model.fit(X_train, y_train)\n",
    "\n",
    "# Make predictions on the test set\n",
    "y_pred = model.predict(X_test)\n",
    "\n",
    "# Evaluate the model\n",
    "accuracy = accuracy_score(y_test, y_pred)\n",
    "print(f\"Accuracy of the model : {accuracy}\")\n",
    "\n",
    "# 70% - 80%: Often considered a reasonable starting point for many classification problems.\n",
    "# 80% - 90%: Good performance for many applications.\n",
    "# 90% - 95%: Very good performance. Often challenging to achieve, but possible for well-behaved problems with good data.\n",
    "# > 95%: Excellent performance, potentially approaching the limits of what's possible for the problem. Be careful of overfitting if you're achieving very high accuracy.\n",
    "# 100%: Usually a sign of overfitting."
   ]
  },
  {
   "cell_type": "code",
   "execution_count": 11,
   "metadata": {},
   "outputs": [
    {
     "name": "stdout",
     "output_type": "stream",
     "text": [
      "Prediction on the new data ['Yes']\n"
     ]
    }
   ],
   "source": [
    "# New Data prediction\n",
    "new_data = pd.DataFrame({\n",
    "    'Age': [55],\n",
    "    'Overweight': [True],\n",
    "    'Diabetic': [True]\n",
    "})\n",
    "\n",
    "prediction = model.predict(new_data)\n",
    "print(f\"Prediction on the new data {prediction}\")"
   ]
  }
 ],
 "metadata": {
  "kernelspec": {
   "display_name": "Python 3",
   "language": "python",
   "name": "python3"
  },
  "language_info": {
   "codemirror_mode": {
    "name": "ipython",
    "version": 3
   },
   "file_extension": ".py",
   "mimetype": "text/x-python",
   "name": "python",
   "nbconvert_exporter": "python",
   "pygments_lexer": "ipython3",
   "version": "3.8.10"
  }
 },
 "nbformat": 4,
 "nbformat_minor": 2
}
