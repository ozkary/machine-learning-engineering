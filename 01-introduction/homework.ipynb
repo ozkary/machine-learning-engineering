{
 "cells": [
  {
   "cell_type": "markdown",
   "metadata": {},
   "source": [
    "# Introduction to Machine Learning\n",
    "\n",
    "## Set up the development environment\n",
    "\n",
    "Install the following packages using pip:\n",
    "\n",
    "```bash\n",
    "pip install numpy pandas matplotlib seaborn scikit-learn\n",
    "```\n",
    "## Homework 1"
   ]
  },
  {
   "cell_type": "markdown",
   "metadata": {},
   "source": [
    "### Question 1: What's the version of Pandas that you installed?\n",
    "\n",
    "You can get the version information using the __version__ field:"
   ]
  },
  {
   "cell_type": "code",
   "execution_count": 3,
   "metadata": {},
   "outputs": [
    {
     "data": {
      "text/plain": [
       "'1.5.2'"
      ]
     },
     "execution_count": 3,
     "metadata": {},
     "output_type": "execute_result"
    }
   ],
   "source": [
    "import pandas as pd\n",
    "pd.__version__"
   ]
  },
  {
   "cell_type": "markdown",
   "metadata": {},
   "source": [
    " - Download the sample data\n",
    "```bash\n",
    "wget https://raw.githubusercontent.com/alexeygrigorev/datasets/master/housing.csv\n",
    "```"
   ]
  },
  {
   "cell_type": "markdown",
   "metadata": {},
   "source": [
    "### Question 2: How many columns are in the dataset?"
   ]
  },
  {
   "cell_type": "code",
   "execution_count": 6,
   "metadata": {},
   "outputs": [
    {
     "name": "stdout",
     "output_type": "stream",
     "text": [
      "Number of columns: 10\n"
     ]
    }
   ],
   "source": [
    "df = pd.read_csv('housing.csv', iterator=False)\n",
    "\n",
    "# Get the number of columns\n",
    "num_columns = df.shape[1]\n",
    "print('Number of columns:', num_columns)"
   ]
  },
  {
   "cell_type": "markdown",
   "metadata": {},
   "source": [
    "### Question 3: Which columns in the dataset have missing values?"
   ]
  },
  {
   "cell_type": "code",
   "execution_count": 7,
   "metadata": {},
   "outputs": [
    {
     "name": "stdout",
     "output_type": "stream",
     "text": [
      "Missing data in each column:\n",
      "longitude               0\n",
      "latitude                0\n",
      "housing_median_age      0\n",
      "total_rooms             0\n",
      "total_bedrooms        207\n",
      "population              0\n",
      "households              0\n",
      "median_income           0\n",
      "median_house_value      0\n",
      "ocean_proximity         0\n",
      "dtype: int64\n"
     ]
    }
   ],
   "source": [
    "# Check for missing data in each column\n",
    "missing_data = df.isnull().sum()\n",
    "\n",
    "print('Missing data in each column:')\n",
    "print(missing_data)"
   ]
  },
  {
   "cell_type": "markdown",
   "metadata": {},
   "source": [
    "### Question 4: How many unique values does the ocean_proximity column have?"
   ]
  },
  {
   "cell_type": "code",
   "execution_count": 8,
   "metadata": {},
   "outputs": [
    {
     "name": "stdout",
     "output_type": "stream",
     "text": [
      "Unique values of the column \"ocean_proximity\":\n",
      "['NEAR BAY' '<1H OCEAN' 'INLAND' 'NEAR OCEAN' 'ISLAND']\n"
     ]
    }
   ],
   "source": [
    "# get the unique values of the column 'ocean_proximity'\n",
    "unique_values = df['ocean_proximity'].unique()\n",
    "print('Unique values of the column \"ocean_proximity\":')\n",
    "print(unique_values)"
   ]
  },
  {
   "cell_type": "markdown",
   "metadata": {},
   "source": [
    "### Question 5: What's the average value of the median_house_value for the houses located near the bay?"
   ]
  },
  {
   "cell_type": "code",
   "execution_count": 11,
   "metadata": {},
   "outputs": [
    {
     "name": "stdout",
     "output_type": "stream",
     "text": [
      "Average value of the column median_house_value for house located near the bay:\n",
      "259212.31\n"
     ]
    }
   ],
   "source": [
    "# get the average value of the column median_house_value for houses located near the bay\n",
    "bay_area = df[df['ocean_proximity'] == 'NEAR BAY']\n",
    "average_value = bay_area['median_house_value'].mean()\n",
    "print('Average value of the column median_house_value for house located near the bay:')\n",
    "# format the output to 2 decimal places\n",
    "print(f'{average_value:.2f}')\n"
   ]
  },
  {
   "cell_type": "markdown",
   "metadata": {},
   "source": [
    "### Question 6: "
   ]
  },
  {
   "cell_type": "code",
   "execution_count": 17,
   "metadata": {},
   "outputs": [
    {
     "name": "stdout",
     "output_type": "stream",
     "text": [
      "Average of total_bedrooms column in the dataset: 537.871\n",
      "Average of total_bedrooms column in the dataset after filling missing values: 537.871\n",
      "Average has changed after filling the missing values: False\n",
      "Average has changed after filling the missing values: 0.000\n"
     ]
    }
   ],
   "source": [
    "# Calculate the average of total_bedrooms column in the dataset\n",
    "average_bedrooms = df['total_bedrooms'].mean()\n",
    "print(f'Average of total_bedrooms column in the dataset: {average_bedrooms:.3f}')\n",
    "\n",
    "# Use the fillna method to fill the missing values in total_bedrooms with the mean value from the previous step\n",
    "df['total_bedrooms'].fillna(average_bedrooms, inplace=True)\n",
    "\n",
    "# Calculate the average of total_bedrooms column in the dataset again\n",
    "updated_average_bedrooms = df['total_bedrooms'].mean()\n",
    "print(f'Average of total_bedrooms column in the dataset after filling missing values: {updated_average_bedrooms:.3f}')\n",
    "\n",
    "# has the average changed after filling the missing values?\n",
    "print(f'Average has changed after filling the missing values: {average_bedrooms != updated_average_bedrooms}')\n",
    "\n",
    "# round the two averages to 3 decimal places and compare if the value has changed\n",
    "print(f'Average has changed after filling the missing values: {average_bedrooms != updated_average_bedrooms:.3f}')\n",
    "\n",
    "\n",
    "\n",
    "\n"
   ]
  },
  {
   "cell_type": "markdown",
   "metadata": {},
   "source": [
    "### Question 7"
   ]
  },
  {
   "cell_type": "code",
   "execution_count": 25,
   "metadata": {},
   "outputs": [
    {
     "name": "stdout",
     "output_type": "stream",
     "text": [
      "w: [23.12330961 -1.48124183  5.69922946]\n",
      "Value of the last element of w: 5.6992\n"
     ]
    }
   ],
   "source": [
    "# Select all the options located on islands\n",
    "island_options = df[df['ocean_proximity'] == 'ISLAND']\n",
    "\n",
    "# Select only columns housing_median_age, total_rooms, total_bedrooms\n",
    "island_options = island_options[['housing_median_age', 'total_rooms', 'total_bedrooms']]\n",
    "\n",
    "# Get the underlying NumPy array. Let's call it X\n",
    "X = island_options.values\n",
    "\n",
    "# Compute matrix-matrix multiplication between the transpose of X and X. To get the transpose, use X.T. Let's call the result XTX\n",
    "XTX = X.T.dot(X)\n",
    "\n",
    "# Compute the inverse of XTX. Let's call the result inv_XTX\n",
    "from numpy.linalg import inv\n",
    "inv_XTX = inv(XTX)\n",
    "\n",
    "# Create an array y with values [950, 1300, 800, 1000, 1300]\n",
    "y = [950, 1300, 800, 1000, 1300]\n",
    "\n",
    "# Multiply the inverse of XTX with the transpose of X, and then multiply the result by y. Call the result w\n",
    "w = inv_XTX.dot(X.T).dot(y)\n",
    "print('w:', w)\n",
    "\n",
    "# What's the value of the last element of w?\n",
    "print(f'Value of the last element of w: {w[-1]:.4f}')\n",
    "\n"
   ]
  }
 ],
 "metadata": {
  "kernelspec": {
   "display_name": "Python 3 (ipykernel)",
   "language": "python",
   "name": "python3"
  },
  "language_info": {
   "codemirror_mode": {
    "name": "ipython",
    "version": 3
   },
   "file_extension": ".py",
   "mimetype": "text/x-python",
   "name": "python",
   "nbconvert_exporter": "python",
   "pygments_lexer": "ipython3",
   "version": "3.8.10"
  },
  "orig_nbformat": 4
 },
 "nbformat": 4,
 "nbformat_minor": 2
}
