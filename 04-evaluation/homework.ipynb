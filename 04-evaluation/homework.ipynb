{
 "cells": [
  {
   "cell_type": "markdown",
   "metadata": {},
   "source": [
    "# Machine Learning Evaluation\n",
    "\n",
    "Evaluating a machine learning model is a critical step to ensure its performance and reliability in making predictions or classifications. The evaluation process helps you understand how well your model generalizes to unseen data and whether it's meeting the desired objectives."
   ]
  },
  {
   "cell_type": "code",
   "execution_count": null,
   "metadata": {},
   "outputs": [],
   "source": [
    "# download the data\n",
    "!wget https://raw.githubusercontent.com/alexeygrigorev/mlbookcamp-code/master/chapter-02-car-price/data.csv"
   ]
  },
  {
   "cell_type": "code",
   "execution_count": 2,
   "metadata": {},
   "outputs": [],
   "source": [
    "# import all the necessary libraries\n",
    "import numpy as np\n",
    "import pandas as pd\n",
    "import matplotlib.pyplot as plt\n",
    "import seaborn as sns\n",
    "from sklearn.model_selection import train_test_split\n",
    "from sklearn.linear_model import LogisticRegression, Ridge\n",
    "from sklearn.metrics import accuracy_score, classification_report, mutual_info_score, mean_squared_error, roc_auc_score, precision_recall_curve, confusion_matrix\n",
    "from sklearn.preprocessing import OneHotEncoder, StandardScaler\n",
    "from sklearn.feature_extraction import DictVectorizer"
   ]
  },
  {
   "cell_type": "markdown",
   "metadata": {},
   "source": [
    "## Prepare the data and Exploratory Data Analysis (EDA):\n",
    "\n",
    "We'll work with the MSRP variable, and we'll transform it to a classification task.\n",
    "\n",
    "For the rest of the homework, you'll need to use only these columns:\n",
    "\n",
    "- Make,\n",
    "- Model,\n",
    "- Year,\n",
    "- Engine HP,\n",
    "- Engine Cylinders,\n",
    "- Transmission Type,\n",
    "- Vehicle Style,\n",
    "- highway MPG,\n",
    "- city mpg\n",
    "- MSRP"
   ]
  },
  {
   "cell_type": "code",
   "execution_count": 3,
   "metadata": {},
   "outputs": [
    {
     "data": {
      "text/html": [
       "<div>\n",
       "<style scoped>\n",
       "    .dataframe tbody tr th:only-of-type {\n",
       "        vertical-align: middle;\n",
       "    }\n",
       "\n",
       "    .dataframe tbody tr th {\n",
       "        vertical-align: top;\n",
       "    }\n",
       "\n",
       "    .dataframe thead th {\n",
       "        text-align: right;\n",
       "    }\n",
       "</style>\n",
       "<table border=\"1\" class=\"dataframe\">\n",
       "  <thead>\n",
       "    <tr style=\"text-align: right;\">\n",
       "      <th></th>\n",
       "      <th>Make</th>\n",
       "      <th>Model</th>\n",
       "      <th>Year</th>\n",
       "      <th>Engine HP</th>\n",
       "      <th>Engine Cylinders</th>\n",
       "      <th>Transmission Type</th>\n",
       "      <th>Vehicle Style</th>\n",
       "      <th>highway MPG</th>\n",
       "      <th>city mpg</th>\n",
       "      <th>MSRP</th>\n",
       "    </tr>\n",
       "  </thead>\n",
       "  <tbody>\n",
       "    <tr>\n",
       "      <th>0</th>\n",
       "      <td>BMW</td>\n",
       "      <td>1 Series M</td>\n",
       "      <td>2011</td>\n",
       "      <td>335.0</td>\n",
       "      <td>6.0</td>\n",
       "      <td>MANUAL</td>\n",
       "      <td>Coupe</td>\n",
       "      <td>26</td>\n",
       "      <td>19</td>\n",
       "      <td>46135</td>\n",
       "    </tr>\n",
       "    <tr>\n",
       "      <th>1</th>\n",
       "      <td>BMW</td>\n",
       "      <td>1 Series</td>\n",
       "      <td>2011</td>\n",
       "      <td>300.0</td>\n",
       "      <td>6.0</td>\n",
       "      <td>MANUAL</td>\n",
       "      <td>Convertible</td>\n",
       "      <td>28</td>\n",
       "      <td>19</td>\n",
       "      <td>40650</td>\n",
       "    </tr>\n",
       "    <tr>\n",
       "      <th>2</th>\n",
       "      <td>BMW</td>\n",
       "      <td>1 Series</td>\n",
       "      <td>2011</td>\n",
       "      <td>300.0</td>\n",
       "      <td>6.0</td>\n",
       "      <td>MANUAL</td>\n",
       "      <td>Coupe</td>\n",
       "      <td>28</td>\n",
       "      <td>20</td>\n",
       "      <td>36350</td>\n",
       "    </tr>\n",
       "    <tr>\n",
       "      <th>3</th>\n",
       "      <td>BMW</td>\n",
       "      <td>1 Series</td>\n",
       "      <td>2011</td>\n",
       "      <td>230.0</td>\n",
       "      <td>6.0</td>\n",
       "      <td>MANUAL</td>\n",
       "      <td>Coupe</td>\n",
       "      <td>28</td>\n",
       "      <td>18</td>\n",
       "      <td>29450</td>\n",
       "    </tr>\n",
       "    <tr>\n",
       "      <th>4</th>\n",
       "      <td>BMW</td>\n",
       "      <td>1 Series</td>\n",
       "      <td>2011</td>\n",
       "      <td>230.0</td>\n",
       "      <td>6.0</td>\n",
       "      <td>MANUAL</td>\n",
       "      <td>Convertible</td>\n",
       "      <td>28</td>\n",
       "      <td>18</td>\n",
       "      <td>34500</td>\n",
       "    </tr>\n",
       "  </tbody>\n",
       "</table>\n",
       "</div>"
      ],
      "text/plain": [
       "  Make       Model  Year  Engine HP  Engine Cylinders Transmission Type  \\\n",
       "0  BMW  1 Series M  2011      335.0               6.0            MANUAL   \n",
       "1  BMW    1 Series  2011      300.0               6.0            MANUAL   \n",
       "2  BMW    1 Series  2011      300.0               6.0            MANUAL   \n",
       "3  BMW    1 Series  2011      230.0               6.0            MANUAL   \n",
       "4  BMW    1 Series  2011      230.0               6.0            MANUAL   \n",
       "\n",
       "  Vehicle Style  highway MPG  city mpg   MSRP  \n",
       "0         Coupe           26        19  46135  \n",
       "1   Convertible           28        19  40650  \n",
       "2         Coupe           28        20  36350  \n",
       "3         Coupe           28        18  29450  \n",
       "4   Convertible           28        18  34500  "
      ]
     },
     "execution_count": 3,
     "metadata": {},
     "output_type": "execute_result"
    }
   ],
   "source": [
    "features = [\n",
    "    'Make', 'Model','Year','Engine HP','Engine Cylinders','Transmission Type',\n",
    "    'Vehicle Style','highway MPG','city mpg','MSRP'\n",
    "]\n",
    "\n",
    "df = pd.read_csv('../data/data.csv', iterator=False, usecols=features)\n",
    "df.head()"
   ]
  },
  {
   "cell_type": "markdown",
   "metadata": {},
   "source": [
    "### Data Preparation"
   ]
  },
  {
   "cell_type": "code",
   "execution_count": 4,
   "metadata": {},
   "outputs": [
    {
     "data": {
      "text/html": [
       "<div>\n",
       "<style scoped>\n",
       "    .dataframe tbody tr th:only-of-type {\n",
       "        vertical-align: middle;\n",
       "    }\n",
       "\n",
       "    .dataframe tbody tr th {\n",
       "        vertical-align: top;\n",
       "    }\n",
       "\n",
       "    .dataframe thead th {\n",
       "        text-align: right;\n",
       "    }\n",
       "</style>\n",
       "<table border=\"1\" class=\"dataframe\">\n",
       "  <thead>\n",
       "    <tr style=\"text-align: right;\">\n",
       "      <th></th>\n",
       "      <th>make</th>\n",
       "      <th>model</th>\n",
       "      <th>year</th>\n",
       "      <th>engine_hp</th>\n",
       "      <th>engine_cylinders</th>\n",
       "      <th>transmission_type</th>\n",
       "      <th>vehicle_style</th>\n",
       "      <th>highway_mpg</th>\n",
       "      <th>city_mpg</th>\n",
       "      <th>price</th>\n",
       "    </tr>\n",
       "  </thead>\n",
       "  <tbody>\n",
       "    <tr>\n",
       "      <th>0</th>\n",
       "      <td>BMW</td>\n",
       "      <td>1 Series M</td>\n",
       "      <td>2011</td>\n",
       "      <td>335.0</td>\n",
       "      <td>6.0</td>\n",
       "      <td>MANUAL</td>\n",
       "      <td>Coupe</td>\n",
       "      <td>26</td>\n",
       "      <td>19</td>\n",
       "      <td>46135</td>\n",
       "    </tr>\n",
       "    <tr>\n",
       "      <th>1</th>\n",
       "      <td>BMW</td>\n",
       "      <td>1 Series</td>\n",
       "      <td>2011</td>\n",
       "      <td>300.0</td>\n",
       "      <td>6.0</td>\n",
       "      <td>MANUAL</td>\n",
       "      <td>Convertible</td>\n",
       "      <td>28</td>\n",
       "      <td>19</td>\n",
       "      <td>40650</td>\n",
       "    </tr>\n",
       "    <tr>\n",
       "      <th>2</th>\n",
       "      <td>BMW</td>\n",
       "      <td>1 Series</td>\n",
       "      <td>2011</td>\n",
       "      <td>300.0</td>\n",
       "      <td>6.0</td>\n",
       "      <td>MANUAL</td>\n",
       "      <td>Coupe</td>\n",
       "      <td>28</td>\n",
       "      <td>20</td>\n",
       "      <td>36350</td>\n",
       "    </tr>\n",
       "    <tr>\n",
       "      <th>3</th>\n",
       "      <td>BMW</td>\n",
       "      <td>1 Series</td>\n",
       "      <td>2011</td>\n",
       "      <td>230.0</td>\n",
       "      <td>6.0</td>\n",
       "      <td>MANUAL</td>\n",
       "      <td>Coupe</td>\n",
       "      <td>28</td>\n",
       "      <td>18</td>\n",
       "      <td>29450</td>\n",
       "    </tr>\n",
       "    <tr>\n",
       "      <th>4</th>\n",
       "      <td>BMW</td>\n",
       "      <td>1 Series</td>\n",
       "      <td>2011</td>\n",
       "      <td>230.0</td>\n",
       "      <td>6.0</td>\n",
       "      <td>MANUAL</td>\n",
       "      <td>Convertible</td>\n",
       "      <td>28</td>\n",
       "      <td>18</td>\n",
       "      <td>34500</td>\n",
       "    </tr>\n",
       "  </tbody>\n",
       "</table>\n",
       "</div>"
      ],
      "text/plain": [
       "  make       model  year  engine_hp  engine_cylinders transmission_type  \\\n",
       "0  BMW  1 Series M  2011      335.0               6.0            MANUAL   \n",
       "1  BMW    1 Series  2011      300.0               6.0            MANUAL   \n",
       "2  BMW    1 Series  2011      300.0               6.0            MANUAL   \n",
       "3  BMW    1 Series  2011      230.0               6.0            MANUAL   \n",
       "4  BMW    1 Series  2011      230.0               6.0            MANUAL   \n",
       "\n",
       "  vehicle_style  highway_mpg  city_mpg  price  \n",
       "0         Coupe           26        19  46135  \n",
       "1   Convertible           28        19  40650  \n",
       "2         Coupe           28        20  36350  \n",
       "3         Coupe           28        18  29450  \n",
       "4   Convertible           28        18  34500  "
      ]
     },
     "execution_count": 4,
     "metadata": {},
     "output_type": "execute_result"
    }
   ],
   "source": [
    "# transform the column names to lower case and replace spaces with underscores\n",
    "df.columns = df.columns.str.replace(' ', '_').str.lower()\n",
    "\n",
    "# fill the missing values with 0\n",
    "df.fillna(0, inplace=True)\n",
    "\n",
    "# rename msrp to price\n",
    "df.rename(columns={'msrp': 'price'}, inplace=True)\n",
    "\n",
    "df.head()"
   ]
  },
  {
   "cell_type": "markdown",
   "metadata": {},
   "source": [
    "#### Make price binary"
   ]
  },
  {
   "cell_type": "code",
   "execution_count": 5,
   "metadata": {},
   "outputs": [
    {
     "data": {
      "text/html": [
       "<div>\n",
       "<style scoped>\n",
       "    .dataframe tbody tr th:only-of-type {\n",
       "        vertical-align: middle;\n",
       "    }\n",
       "\n",
       "    .dataframe tbody tr th {\n",
       "        vertical-align: top;\n",
       "    }\n",
       "\n",
       "    .dataframe thead th {\n",
       "        text-align: right;\n",
       "    }\n",
       "</style>\n",
       "<table border=\"1\" class=\"dataframe\">\n",
       "  <thead>\n",
       "    <tr style=\"text-align: right;\">\n",
       "      <th></th>\n",
       "      <th>make</th>\n",
       "      <th>model</th>\n",
       "      <th>year</th>\n",
       "      <th>engine_hp</th>\n",
       "      <th>engine_cylinders</th>\n",
       "      <th>transmission_type</th>\n",
       "      <th>vehicle_style</th>\n",
       "      <th>highway_mpg</th>\n",
       "      <th>city_mpg</th>\n",
       "      <th>price</th>\n",
       "      <th>above_average</th>\n",
       "    </tr>\n",
       "  </thead>\n",
       "  <tbody>\n",
       "    <tr>\n",
       "      <th>0</th>\n",
       "      <td>BMW</td>\n",
       "      <td>1 Series M</td>\n",
       "      <td>2011</td>\n",
       "      <td>335.0</td>\n",
       "      <td>6.0</td>\n",
       "      <td>MANUAL</td>\n",
       "      <td>Coupe</td>\n",
       "      <td>26</td>\n",
       "      <td>19</td>\n",
       "      <td>46135</td>\n",
       "      <td>1</td>\n",
       "    </tr>\n",
       "    <tr>\n",
       "      <th>1</th>\n",
       "      <td>BMW</td>\n",
       "      <td>1 Series</td>\n",
       "      <td>2011</td>\n",
       "      <td>300.0</td>\n",
       "      <td>6.0</td>\n",
       "      <td>MANUAL</td>\n",
       "      <td>Convertible</td>\n",
       "      <td>28</td>\n",
       "      <td>19</td>\n",
       "      <td>40650</td>\n",
       "      <td>1</td>\n",
       "    </tr>\n",
       "    <tr>\n",
       "      <th>2</th>\n",
       "      <td>BMW</td>\n",
       "      <td>1 Series</td>\n",
       "      <td>2011</td>\n",
       "      <td>300.0</td>\n",
       "      <td>6.0</td>\n",
       "      <td>MANUAL</td>\n",
       "      <td>Coupe</td>\n",
       "      <td>28</td>\n",
       "      <td>20</td>\n",
       "      <td>36350</td>\n",
       "      <td>1</td>\n",
       "    </tr>\n",
       "    <tr>\n",
       "      <th>3</th>\n",
       "      <td>BMW</td>\n",
       "      <td>1 Series</td>\n",
       "      <td>2011</td>\n",
       "      <td>230.0</td>\n",
       "      <td>6.0</td>\n",
       "      <td>MANUAL</td>\n",
       "      <td>Coupe</td>\n",
       "      <td>28</td>\n",
       "      <td>18</td>\n",
       "      <td>29450</td>\n",
       "      <td>0</td>\n",
       "    </tr>\n",
       "    <tr>\n",
       "      <th>4</th>\n",
       "      <td>BMW</td>\n",
       "      <td>1 Series</td>\n",
       "      <td>2011</td>\n",
       "      <td>230.0</td>\n",
       "      <td>6.0</td>\n",
       "      <td>MANUAL</td>\n",
       "      <td>Convertible</td>\n",
       "      <td>28</td>\n",
       "      <td>18</td>\n",
       "      <td>34500</td>\n",
       "      <td>1</td>\n",
       "    </tr>\n",
       "  </tbody>\n",
       "</table>\n",
       "</div>"
      ],
      "text/plain": [
       "  make       model  year  engine_hp  engine_cylinders transmission_type  \\\n",
       "0  BMW  1 Series M  2011      335.0               6.0            MANUAL   \n",
       "1  BMW    1 Series  2011      300.0               6.0            MANUAL   \n",
       "2  BMW    1 Series  2011      300.0               6.0            MANUAL   \n",
       "3  BMW    1 Series  2011      230.0               6.0            MANUAL   \n",
       "4  BMW    1 Series  2011      230.0               6.0            MANUAL   \n",
       "\n",
       "  vehicle_style  highway_mpg  city_mpg  price  above_average  \n",
       "0         Coupe           26        19  46135              1  \n",
       "1   Convertible           28        19  40650              1  \n",
       "2         Coupe           28        20  36350              1  \n",
       "3         Coupe           28        18  29450              0  \n",
       "4   Convertible           28        18  34500              1  "
      ]
     },
     "execution_count": 5,
     "metadata": {},
     "output_type": "execute_result"
    }
   ],
   "source": [
    "# make the price column binary getting the price median value and then adding a new column above_average = 1 when price > median and 0 otherwise\n",
    "price_median = df['price'].median()\n",
    "df['above_average'] = (df['price'] > price_median).astype(int)\n",
    "df.head()"
   ]
  },
  {
   "cell_type": "markdown",
   "metadata": {},
   "source": [
    "#### Split the data\n",
    "- Split your data in train/val/test sets with 60%/20%/20% distribution.\n",
    "- Use Scikit-Learn for that (the train_test_split function) and set the seed to 42.\n",
    "- Make sure that the target value (price) is not in your dataframe."
   ]
  },
  {
   "cell_type": "code",
   "execution_count": 6,
   "metadata": {},
   "outputs": [
    {
     "name": "stdout",
     "output_type": "stream",
     "text": [
      "train data length:  7148 price values length:  7148\n"
     ]
    }
   ],
   "source": [
    "# split the data in train/val/test sets, with 60%/20%/20% distribution with seed 1\n",
    "# .2 splits the data into 80% train and 20% test\n",
    "df_full_train, df_test = train_test_split(df, test_size=0.2, random_state=1)\n",
    "#.25 splits the 80% train into 60% train and 20% val\n",
    "df_train, df_val = train_test_split(df_full_train, test_size=0.25, random_state=1)\n",
    "\n",
    "# reset the indexes of the dataframes\n",
    "df_train = df_train.reset_index(drop=True)\n",
    "df_val = df_val.reset_index(drop=True)\n",
    "df_test = df_test.reset_index(drop=True)\n",
    "\n",
    "# separate the target variable from the train/val/test sets\n",
    "y_train = df_train.price.values\n",
    "y_val = df_val.price.values\n",
    "y_test = df_test.price.values\n",
    "y_train_binary = df_train.above_average.values\n",
    "y_val_binary = df_val.above_average.values\n",
    "y_test_binary = df_test.above_average.values\n",
    "\n",
    "# delete the price column from the train/val/test sets\n",
    "del df_train['price']\n",
    "del df_val['price']\n",
    "del df_test['price']\n",
    "\n",
    "print('train data length: ',len(df_train),'price values length: ', len(y_train))\n"
   ]
  },
  {
   "cell_type": "markdown",
   "metadata": {},
   "source": [
    "### Question 1: ROC AUC feature importance\n",
    "\n",
    "ROC AUC (Area Under the Curve) could also be used to evaluate feature importance of numerical variables.\n",
    "\n",
    "Let's do that\n",
    "\n",
    "- For each numerical variable, use it as score and compute AUC with the above_average variable\n",
    "- Use the training dataset for that\n",
    "\n",
    "If your AUC is < 0.5, invert this variable by putting \"-\" in front\n",
    "\n",
    "(e.g. -df_train['engine_hp'])\n",
    "\n",
    "AUC can go below 0.5 if the variable is negatively correlated with the target varialble. You can change the direction of the correlation by negating this variable - then negative correlation becomes positive.\n",
    "\n",
    "Which numerical variable (among the following 4) has the highest AUC?\n",
    "\n",
    "- engine_hp\n",
    "- engine_cylinders\n",
    "- highway_mpg\n",
    "- city_mpg"
   ]
  },
  {
   "cell_type": "code",
   "execution_count": 66,
   "metadata": {},
   "outputs": [],
   "source": [
    "# define the numerical features\n",
    "numerical_features = [\n",
    "    'year', 'engine_hp', 'engine_cylinders', 'highway_mpg', 'city_mpg'\n",
    "]   \n",
    "\n",
    "# get the categorical features\n",
    "categorical_features = [\n",
    "    'make', 'model', 'transmission_type', 'vehicle_style'\n",
    "]\n",
    "\n",
    "all_features = numerical_features + categorical_features"
   ]
  },
  {
   "cell_type": "code",
   "execution_count": 67,
   "metadata": {},
   "outputs": [
    {
     "name": "stdout",
     "output_type": "stream",
     "text": [
      "year 0.7355219698158973\n",
      "engine_hp 0.9185032753403845\n",
      "engine_cylinders 0.7359391338287677\n",
      "highway_mpg 0.377306802286729\n",
      "city_mpg 0.34417514781409736\n",
      "max auc score: engine_hp with 0.9185032753403845\n"
     ]
    }
   ],
   "source": [
    "# for each numerical feature, use it as score and compute AUC with the above_average variable\n",
    "auc_scores = {}\n",
    "for feature in numerical_features:\n",
    "\n",
    "     # Compute AUC for the current numerical feature\n",
    "    auc = roc_auc_score(y_train_binary, df_train[feature])    \n",
    "    auc_scores[feature] = auc\n",
    "    print(feature, auc)\n",
    "\n",
    "# get the value and label of the max auc score\n",
    "max_auc = max(auc_scores.values())\n",
    "max_auc_label = max(auc_scores, key=auc_scores.get)\n",
    "print(f'max auc score: { max_auc_label} with {max_auc}')\n"
   ]
  },
  {
   "cell_type": "markdown",
   "metadata": {},
   "source": [
    "#### Explanation\n",
    "\n",
    "When you use each numerical feature as a score and compute the AUC (Area Under the ROC Curve) with the \"above_average\" variable, you're essentially evaluating how well each numerical feature predicts whether a vehicle's price is above average or not.\n",
    "\n",
    " A high AUC score for a specific numerical feature suggests that this feature has good discriminative power in predicting whether the price of a vehicle is above average or not.\n"
   ]
  },
  {
   "cell_type": "code",
   "execution_count": 68,
   "metadata": {},
   "outputs": [
    {
     "name": "stderr",
     "output_type": "stream",
     "text": [
      "No artists with labels found to put in legend.  Note that artists whose label start with an underscore are ignored when legend() is called with no argument.\n"
     ]
    },
    {
     "data": {
      "image/png": "[encoded data removed]",
      "text/plain": [
       "<Figure size 800x400 with 1 Axes>"
      ]
     },
     "metadata": {},
     "output_type": "display_data"
    }
   ],
   "source": [
    "# plot the auc scores for each numerical feature make the highest auc score red and add a label to each bar\n",
    "plt.figure(figsize=(8, 4))\n",
    "plt.bar(auc_scores.keys(), auc_scores.values(), color=['orange' if auc == max_auc else 'blue' for auc in auc_scores.values()])\n",
    "plt.xlabel('Numerical Features')\n",
    "plt.ylabel('AUC Score')\n",
    "plt.title('Numerical Features AUC Scores')\n",
    "# plt.xticks(rotation=90)\n",
    "plt.legend()\n",
    "plt.show()\n"
   ]
  },
  {
   "cell_type": "markdown",
   "metadata": {},
   "source": [
    "### Question 2 - Training the model\n",
    "\n",
    "Apply one-hot-encoding using DictVectorizer and train the logistic regression with these parameters:\n",
    "```python\n",
    "LogisticRegression(solver='liblinear', C=1.0, max_iter=1000)\n",
    "```\n",
    "What's the AUC of this model on the validation dataset? (round to 3 digits)\n",
    "\n",
    "- 0.678\n",
    "- 0.779\n",
    "- 0.878\n",
    "- 0.979"
   ]
  },
  {
   "cell_type": "code",
   "execution_count": 9,
   "metadata": {},
   "outputs": [
    {
     "data": {
      "text/html": [
       "<style>#sk-container-id-1 {color: black;background-color: white;}#sk-container-id-1 pre{padding: 0;}#sk-container-id-1 div.sk-toggleable {background-color: white;}#sk-container-id-1 label.sk-toggleable__label {cursor: pointer;display: block;width: 100%;margin-bottom: 0;padding: 0.3em;box-sizing: border-box;text-align: center;}#sk-container-id-1 label.sk-toggleable__label-arrow:before {content: \"▸\";float: left;margin-right: 0.25em;color: #696969;}#sk-container-id-1 label.sk-toggleable__label-arrow:hover:before {color: black;}#sk-container-id-1 div.sk-estimator:hover label.sk-toggleable__label-arrow:before {color: black;}#sk-container-id-1 div.sk-toggleable__content {max-height: 0;max-width: 0;overflow: hidden;text-align: left;background-color: #f0f8ff;}#sk-container-id-1 div.sk-toggleable__content pre {margin: 0.2em;color: black;border-radius: 0.25em;background-color: #f0f8ff;}#sk-container-id-1 input.sk-toggleable__control:checked~div.sk-toggleable__content {max-height: 200px;max-width: 100%;overflow: auto;}#sk-container-id-1 input.sk-toggleable__control:checked~label.sk-toggleable__label-arrow:before {content: \"▾\";}#sk-container-id-1 div.sk-estimator input.sk-toggleable__control:checked~label.sk-toggleable__label {background-color: #d4ebff;}#sk-container-id-1 div.sk-label input.sk-toggleable__control:checked~label.sk-toggleable__label {background-color: #d4ebff;}#sk-container-id-1 input.sk-hidden--visually {border: 0;clip: rect(1px 1px 1px 1px);clip: rect(1px, 1px, 1px, 1px);height: 1px;margin: -1px;overflow: hidden;padding: 0;position: absolute;width: 1px;}#sk-container-id-1 div.sk-estimator {font-family: monospace;background-color: #f0f8ff;border: 1px dotted black;border-radius: 0.25em;box-sizing: border-box;margin-bottom: 0.5em;}#sk-container-id-1 div.sk-estimator:hover {background-color: #d4ebff;}#sk-container-id-1 div.sk-parallel-item::after {content: \"\";width: 100%;border-bottom: 1px solid gray;flex-grow: 1;}#sk-container-id-1 div.sk-label:hover label.sk-toggleable__label {background-color: #d4ebff;}#sk-container-id-1 div.sk-serial::before {content: \"\";position: absolute;border-left: 1px solid gray;box-sizing: border-box;top: 0;bottom: 0;left: 50%;z-index: 0;}#sk-container-id-1 div.sk-serial {display: flex;flex-direction: column;align-items: center;background-color: white;padding-right: 0.2em;padding-left: 0.2em;position: relative;}#sk-container-id-1 div.sk-item {position: relative;z-index: 1;}#sk-container-id-1 div.sk-parallel {display: flex;align-items: stretch;justify-content: center;background-color: white;position: relative;}#sk-container-id-1 div.sk-item::before, #sk-container-id-1 div.sk-parallel-item::before {content: \"\";position: absolute;border-left: 1px solid gray;box-sizing: border-box;top: 0;bottom: 0;left: 50%;z-index: -1;}#sk-container-id-1 div.sk-parallel-item {display: flex;flex-direction: column;z-index: 1;position: relative;background-color: white;}#sk-container-id-1 div.sk-parallel-item:first-child::after {align-self: flex-end;width: 50%;}#sk-container-id-1 div.sk-parallel-item:last-child::after {align-self: flex-start;width: 50%;}#sk-container-id-1 div.sk-parallel-item:only-child::after {width: 0;}#sk-container-id-1 div.sk-dashed-wrapped {border: 1px dashed gray;margin: 0 0.4em 0.5em 0.4em;box-sizing: border-box;padding-bottom: 0.4em;background-color: white;}#sk-container-id-1 div.sk-label label {font-family: monospace;font-weight: bold;display: inline-block;line-height: 1.2em;}#sk-container-id-1 div.sk-label-container {text-align: center;}#sk-container-id-1 div.sk-container {/* jupyter's `normalize.less` sets `[hidden] { display: none; }` but bootstrap.min.css set `[hidden] { display: none !important; }` so we also need the `!important` here to be able to override the default hidden behavior on the sphinx rendered scikit-learn.org. See: https://github.com/scikit-learn/scikit-learn/issues/21755 */display: inline-block !important;position: relative;}#sk-container-id-1 div.sk-text-repr-fallback {display: none;}</style><div id=\"sk-container-id-1\" class=\"sk-top-container\"><div class=\"sk-text-repr-fallback\"><pre>LogisticRegression(max_iter=1000, solver=&#x27;liblinear&#x27;)</pre><b>In a Jupyter environment, please rerun this cell to show the HTML representation or trust the notebook. <br />On GitHub, the HTML representation is unable to render, please try loading this page with nbviewer.org.</b></div><div class=\"sk-container\" hidden><div class=\"sk-item\"><div class=\"sk-estimator sk-toggleable\"><input class=\"sk-toggleable__control sk-hidden--visually\" id=\"sk-estimator-id-1\" type=\"checkbox\" checked><label for=\"sk-estimator-id-1\" class=\"sk-toggleable__label sk-toggleable__label-arrow\">LogisticRegression</label><div class=\"sk-toggleable__content\"><pre>LogisticRegression(max_iter=1000, solver=&#x27;liblinear&#x27;)</pre></div></div></div></div></div>"
      ],
      "text/plain": [
       "LogisticRegression(max_iter=1000, solver='liblinear')"
      ]
     },
     "execution_count": 9,
     "metadata": {},
     "output_type": "execute_result"
    }
   ],
   "source": [
    "# to the train data apply the OneHotEncoder using DictVectorizer\n",
    "# fit_transform() fits the data and then transforms it\n",
    "\n",
    "dv = DictVectorizer(sparse=False)\n",
    "\n",
    "train_dict = df_train[all_features].to_dict(orient='records')\n",
    "X_train = dv.fit_transform(train_dict)\n",
    "\n",
    "# train the logistic regression model with these parameters: \n",
    "# solver='liblinear', C=1.0, max_iter=1000\n",
    "# fit() fits the model according to the given training data\n",
    "model = LogisticRegression(solver='liblinear', C=1.0, max_iter=1000)\n",
    "model.fit(X_train, y_train_binary)\n"
   ]
  },
  {
   "cell_type": "code",
   "execution_count": 10,
   "metadata": {},
   "outputs": [
    {
     "name": "stdout",
     "output_type": "stream",
     "text": [
      "Prd: [0.94602701 0.05654883 0.98308002 ... 0.01110863 0.99999984 0.84289636]  \n",
      "\n",
      "Actual : [ 43290   6175  36495 ...  23249 102100  26710]\n",
      "AUC score: 0.982\n"
     ]
    }
   ],
   "source": [
    "# what is the AUC of this model on the validation dataset? (round to 3 digits)\n",
    "val_dict = df_val[all_features].to_dict(orient='records')\n",
    "X_val = dv.transform(val_dict)\n",
    "# The [:, 1] notation selects the second column of the result, which contains the probabilities for the positive class.\n",
    "y_pred = model.predict_proba(X_val)[:, 1]\n",
    "print(f'Prd: {y_pred}  \\n\\nActual : {y_val}')\n",
    "# get the auc score using the above_average variable (binary)\n",
    "auc = round(roc_auc_score(y_val_binary, y_pred), 3)\n",
    "print(f'AUC score: {auc}')\n"
   ]
  },
  {
   "cell_type": "markdown",
   "metadata": {},
   "source": [
    "#### Explanation\n",
    "A ROC AUC score of 0.982 is quite high, indicating that your logistic regression model is performing very well in distinguishing between the positive and negative classes. This score suggests that the model has a strong ability to distinguish between the instances with prices above average (positive class) and those below average (negative class).\n"
   ]
  },
  {
   "cell_type": "markdown",
   "metadata": {},
   "source": [
    "### Question 3 - Precision and Recall\n",
    "\n",
    "Now let's compute precision and recall for our model.\n",
    "\n",
    "- Evaluate the model on all thresholds from 0.0 to 1.0 with step 0.01\n",
    "- For each threshold, compute precision and recall\n",
    "- Plot them\n",
    "\n",
    "At which threshold precision and recall curves intersect?\n",
    "\n",
    "- 0.28\n",
    "- 0.48\n",
    "- 0.68"
   ]
  },
  {
   "cell_type": "code",
   "execution_count": 31,
   "metadata": {},
   "outputs": [
    {
     "name": "stdout",
     "output_type": "stream",
     "text": [
      "Precision: 0.9292845257903494 Recall: 0.9285120532003325 Threshold: 0.48\n"
     ]
    },
    {
     "data": {
      "image/png": "[encoded data removed]",
      "text/plain": [
       "<Figure size 640x480 with 1 Axes>"
      ]
     },
     "metadata": {},
     "output_type": "display_data"
    }
   ],
   "source": [
    "# Calculate precision and recall for various thresholds from 0.0 to 1.0 `.0 with step 0.01`\n",
    "precisions = []\n",
    "recalls = []\n",
    "thresholds = np.arange(0, 1, 0.01)\n",
    "actual_positive = (y_val_binary == 1)\n",
    "actual_negative = (y_val_binary == 0)\n",
    "\n",
    "for t in thresholds:    \n",
    "    predict_positive = (y_pred >= t)\n",
    "    predict_negative = (y_pred < t)\n",
    "    tp = (predict_positive & actual_positive).sum()\n",
    "    tn = (predict_negative & actual_negative).sum()\n",
    "    fp = (predict_positive & actual_negative).sum()\n",
    "    fn = (predict_negative & actual_positive).sum()\n",
    "    # calculate precision  true positives / (true positives + false positives)\n",
    "    precision = tp / (tp + fp)\n",
    "\n",
    "    # calculate recall true positives / (true positives + false negatives)\n",
    "    recall = tp / (tp + fn)\n",
    "    precisions.append(precision)\n",
    "    recalls.append(recall)\n",
    "\n",
    "\n",
    "# get the precision and recall values at which they intersect\n",
    "intersect = 0.5\n",
    "for i in range(len(thresholds)):\n",
    "    if round(precisions[i],3) == round(recalls[i],3):\n",
    "        print(f'Precision: {precisions[i]} Recall: {recalls[i]} Threshold: {thresholds[i]}')\n",
    "        intersect = thresholds[i]\n",
    "        break\n",
    "\n",
    "# Plot the precision-recall curve\n",
    "plt.plot(thresholds, precisions, label='precision')\n",
    "plt.plot(thresholds, recalls, label='recall')\n",
    "# label the intersection of the curves\n",
    "plt.plot([intersect, intersect], [0, 1], linestyle='--', color='grey', label='intersection', alpha=0.3)\n",
    "\n",
    "# add a legend for each series\n",
    "plt.xlabel('Threshold')\n",
    "plt.ylabel('Precision and Recall')\n",
    "plt.title('Precision-Recall Curve')\n",
    "\n",
    "plt.legend()\n",
    "plt.show()\n"
   ]
  },
  {
   "cell_type": "markdown",
   "metadata": {},
   "source": [
    "#### Explanation\n",
    "\n",
    "This graph means that at a threshold of 0.48, the model is correctly identifying a good proportion of relevant instances (high recall) while also maintaining a high proportion of true positive predictions (high precision).\n",
    "\n",
    "This balance is often desired, especially in scenarios where false positives and false negatives have significant consequences. A balanced precision and recall indicate that the model is performing well in both identifying relevant instances and minimizing false identifications."
   ]
  },
  {
   "cell_type": "markdown",
   "metadata": {},
   "source": [
    "### Question 4 - F1 Score\n",
    "\n",
    "Precision and recall are conflicting - when one grows, the other goes down. That's why they are often combined into the F1 score - a metrics that takes into account both\n",
    "\n",
    "This is the formula for computing F1:\n",
    "```python\n",
    "F1 = 2 * ((P*R) / P+R)\n",
    "```\n",
    "Where \n",
    " is precision and \n",
    " is recall.\n",
    "\n",
    "Let's compute F1 for all thresholds from 0.0 to 1.0 with increment 0.01\n",
    "At which threshold F1 is maximal?\n",
    "\n",
    "- 0.12\n",
    "- 0.32\n",
    "- 0.52\n",
    "- 0.72"
   ]
  },
  {
   "cell_type": "code",
   "execution_count": 19,
   "metadata": {},
   "outputs": [
    {
     "name": "stdout",
     "output_type": "stream",
     "text": [
      "max f1 score: 0.9362061681453315 at threshold: 0.55\n"
     ]
    }
   ],
   "source": [
    "# Compute the F1 score for various thresholds from 0.0 to 1.0 with step 0.01\n",
    "f1_scores = []\n",
    "\n",
    "# compute theF1 score for each threshold using the previously calculated precision and recall values\n",
    "for i in range(len(thresholds)):\n",
    "    f1 = 2 * (precisions[i] * recalls[i]) / (precisions[i] + recalls[i])\n",
    "    f1_scores.append(f1)\n",
    "\n",
    "# get the max f1 score and the threshold at which it occurs\n",
    "max_f1 = max(f1_scores)\n",
    "max_f1_threshold = thresholds[f1_scores.index(max_f1)]\n",
    "print(f'max f1 score: {max_f1} at threshold: {max_f1_threshold}')\n"
   ]
  },
  {
   "cell_type": "markdown",
   "metadata": {},
   "source": [
    "#### Explanation\n",
    "\n",
    "The threshold at which you achieve the maximum F1 score is often the optimal threshold for binary classification. It balances the trade-off between precision (how many selected instances are relevant) and recall (how many relevant instances are selected). When you have a specific use case where precision and recall are equally important, maximizing the F1 score helps find the optimal threshold."
   ]
  },
  {
   "cell_type": "code",
   "execution_count": 32,
   "metadata": {},
   "outputs": [
    {
     "data": {
      "image/png": "[encoded data removed]",
      "text/plain": [
       "<Figure size 640x480 with 1 Axes>"
      ]
     },
     "metadata": {},
     "output_type": "display_data"
    }
   ],
   "source": [
    "# plot the f1 scores against the thresholds to see the max f1 score and the threshold at which it occurs\n",
    "plt.plot(thresholds, f1_scores, label='f1 score')\n",
    "plt.plot([max_f1_threshold, max_f1_threshold], [0, 1], linestyle='--', color='grey', label='max f1 score', alpha=0.3)\n",
    "# add a legend for each series\n",
    "plt.xlabel('Threshold')\n",
    "plt.ylabel('F1 Score')\n",
    "plt.title('F1 Score')\n",
    "\n",
    "plt.legend()\n",
    "plt.show()\n"
   ]
  },
  {
   "cell_type": "markdown",
   "metadata": {},
   "source": [
    "### Question 5: 5-Fold CV\n",
    "\n",
    "Use the KFold class from Scikit-Learn to evaluate our model on 5 different folds:\n",
    "\n",
    "```python\n",
    "KFold(n_splits=5, shuffle=True, random_state=1)\n",
    "```\n",
    "\n",
    "- Iterate over different folds of df_full_train\n",
    "- Split the data into train and validation\n",
    "- Train the model on train with these parameters: LogisticRegression(solver='liblinear', C=1.0, max_iter=1000)\n",
    "- Use AUC to evaluate the model on validation\n",
    "\n",
    "How large is standard deviation of the scores across different folds?\n",
    "\n",
    "- 0.003\n",
    "- 0.030\n",
    "- 0.090\n",
    "- 0.140"
   ]
  },
  {
   "cell_type": "code",
   "execution_count": 69,
   "metadata": {},
   "outputs": [],
   "source": [
    "# Using KFold and df_full_train let's run cross validation on 5 different folds\n",
    "from sklearn.model_selection import KFold\n",
    "\n",
    "def cross_validation(df, dv, model, features, target_feature, folds=5) -> list:\n",
    "    \"\"\"\n",
    "    This function performs cross validation on a dataframe using KFold\n",
    "    \"\"\"\n",
    "\n",
    "    auc_scores = []\n",
    "\n",
    "    # set kfold to use 5 splits\n",
    "    kfold = KFold(n_splits=folds, shuffle=True, random_state=1)\n",
    "\n",
    "    # iterate over the n folds from df_full_train\n",
    "    for n, (train_idx, val_idx) in enumerate( kfold.split(df)):\n",
    "        \n",
    "        # get the train and val data for each fold\n",
    "        df_train = df_full_train.iloc[train_idx]\n",
    "        df_val = df_full_train.iloc[val_idx]\n",
    "\n",
    "        # separate the target variable from the train/val sets\n",
    "        y_train_binary = df_train[target_feature].values\n",
    "        y_val_binary = df_val[target_feature].values\n",
    "\n",
    "        # if found, delete the price column from the train/val sets\n",
    "        if 'price' in df_train.columns:\n",
    "            del df_train['price']\n",
    "            del df_val['price']\n",
    "\n",
    "        # fit the DictVectorizer to the train data\n",
    "        train_dict = df_train[features].to_dict(orient='records')\n",
    "        # dv = DictVectorizer(sparse=False)\n",
    "        X_train = dv.fit_transform(train_dict)\n",
    "\n",
    "        # train the logistic regression model with these parameters: solver='liblinear', C=1.0, max_iter=1000\n",
    "        model = LogisticRegression(solver='liblinear', C=1.0, max_iter=1000)\n",
    "        model.fit(X_train, y_train_binary)\n",
    "\n",
    "        # transform the val data\n",
    "        val_dict = df_val[features].to_dict(orient='records')\n",
    "        X_val = dv.transform(val_dict)\n",
    "\n",
    "        # get the auc score using the above_average variable (binary)\n",
    "        y_pred = model.predict_proba(X_val)[:, 1]\n",
    "        auc = round(roc_auc_score(y_val_binary, y_pred), 3)        \n",
    "        auc_scores.append(auc)\n",
    "        # print(f'Fold {n} AUC score: {auc}')\n",
    "\n",
    "    return auc_scores"
   ]
  },
  {
   "cell_type": "code",
   "execution_count": 48,
   "metadata": {},
   "outputs": [
    {
     "name": "stdout",
     "output_type": "stream",
     "text": [
      "Fold 0 AUC score: 0.982\n",
      "Fold 1 AUC score: 0.976\n",
      "Fold 2 AUC score: 0.978\n",
      "Fold 3 AUC score: 0.977\n",
      "Fold 4 AUC score: 0.982\n",
      "AUC scores std: 0.003\n"
     ]
    }
   ],
   "source": [
    "# run a cross validation using the df_full_train dataframe\n",
    "auc_scores = cross_validation(df_full_train, dv, model, all_features, 'above_average')\n",
    "\n",
    "# get the std deviation across the 5 folds\n",
    "auc_scores_std = round(np.std(auc_scores), 3)\n",
    "print(f'AUC scores std: {auc_scores_std}')\n"
   ]
  },
  {
   "cell_type": "markdown",
   "metadata": {},
   "source": [
    "#### Explanation\n",
    "\n",
    "The KFold class in scikit-learn is used for implementing a type of cross-validation technique called k-fold cross-validation. In k-fold cross-validation, the original dataset is divided into k equal-sized \"folds\". The model is trained on k-1 of these folds and validated on the remaining one. This process is repeated k times (the \"folds\"), with each fold used exactly once as validation."
   ]
  },
  {
   "cell_type": "markdown",
   "metadata": {},
   "source": [
    "### Question 6: Hyperparemeter Tuning\n",
    "\n",
    "Now let's use 5-Fold cross-validation to find the best parameter C\n",
    "\n",
    "- Iterate over the following C values: [0.01, 0.1, 0.5, 10]\n",
    "- Initialize KFold with the same parameters as previously\n",
    "- Use these parameters for the model: LogisticRegression(solver='liblinear', C=C, max_iter=1000)\n",
    "- Compute the mean score as well as the std (round the mean and std to 3 decimal digits)\n",
    "\n",
    "Which C leads to the best mean score?\n",
    "\n",
    "- 0.01\n",
    "- 0.1\n",
    "- 0.5\n",
    "- 10\n",
    "\n",
    "If you have ties, select the score with the lowest std. If you still have ties, select the smallest C."
   ]
  },
  {
   "cell_type": "code",
   "execution_count": 70,
   "metadata": {},
   "outputs": [
    {
     "name": "stdout",
     "output_type": "stream",
     "text": [
      "C: 0.01 AUC scores mean: 0.979 AUC scores std: 0.003\n",
      "C: 0.1 AUC scores mean: 0.979 AUC scores std: 0.003\n",
      "C: 0.5 AUC scores mean: 0.979 AUC scores std: 0.003\n",
      "C: 10 AUC scores mean: 0.979 AUC scores std: 0.003\n",
      "Best C value: 0.01\n"
     ]
    }
   ],
   "source": [
    "# train the logistic regression model with a range of C values [0.01, 0.1, 0.5, 10]\n",
    "# and get the AUC score for each C value\n",
    "auc_scores_by_c = {}\n",
    "for c in [0.01, 0.1, 0.5, 10]:\n",
    "    logic_reg_model = LogisticRegression(solver='liblinear', C=c, max_iter=1000)\n",
    "    \n",
    "    auc_scores = cross_validation(df_full_train, dv, logic_reg_model, all_features, 'above_average')\n",
    "    auc_scores_by_c[c] = auc_scores\n",
    "\n",
    "# for each C value, get the mean AUC score and the std deviation\n",
    "for c, auc_scores in auc_scores_by_c.items():\n",
    "    auc_scores_mean = round(np.mean(auc_scores), 3)\n",
    "    auc_scores_std = round(np.std(auc_scores), 3)\n",
    "    print(f'C: {c} AUC scores mean: {auc_scores_mean} AUC scores std: {auc_scores_std}')\n",
    "\n",
    "# get the C value with the best mean score\n",
    "best_c = max(auc_scores_by_c, key=auc_scores_by_c.get)\n",
    "print(f'Best C value: {best_c}')\n"
   ]
  }
 ],
 "metadata": {
  "kernelspec": {
   "display_name": "Python 3 (ipykernel)",
   "language": "python",
   "name": "python3"
  },
  "language_info": {
   "codemirror_mode": {
    "name": "ipython",
    "version": 3
   },
   "file_extension": ".py",
   "mimetype": "text/x-python",
   "name": "python",
   "nbconvert_exporter": "python",
   "pygments_lexer": "ipython3",
   "version": "3.8.10"
  },
  "orig_nbformat": 4
 },
 "nbformat": 4,
 "nbformat_minor": 2
}
