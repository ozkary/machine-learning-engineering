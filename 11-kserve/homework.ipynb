{
 "cells": [
  {
   "cell_type": "markdown",
   "metadata": {},
   "source": [
    "# Machine Learning - Hosting Models with KServe"
   ]
  },
  {
   "cell_type": "markdown",
   "metadata": {},
   "source": [
    "## Installing KServe\n",
    "\n",
    "- Install Kind\n",
    "- Install Kubectl\n",
    "- Create a cluster with kind\n"
   ]
  },
  {
   "cell_type": "code",
   "execution_count": 1,
   "metadata": {},
   "outputs": [
    {
     "name": "stdout",
     "output_type": "stream",
     "text": [
      "Creating cluster \"kind\" ...\n",
      " \u001b[32m✓\u001b[0m Ensuring node image (kindest/node:v1.27.3) 🖼7l\n",
      " \u001b[32m✓\u001b[0m Preparing nodes 📦 7l\u001b[?7l\u001b[?7l\u001b[?7l\u001b[?7l\u001b[?7l\u001b[?7l\u001b[?7l\u001b[?7l\u001b[?7l\u001b[?7l\u001b[?7l\u001b[?7l\u001b[?7l\u001b[?7l\u001b[?7l\u001b[?7l\u001b[?7l\u001b[?7l\u001b[?7l\u001b[?7l\u001b[?7l\u001b[?7l\u001b[?7l\u001b[?7l\u001b[?7l\u001b[?7l\u001b[?7l\u001b[?7l\u001b[?7l\u001b[?7l\u001b[?7l\u001b[?7l\u001b[?7l\u001b[?7l\u001b[?7l\u001b[?7l\u001b[?7l\u001b[?7l\u001b[?7l\u001b[?7l\u001b[?7l\u001b[?7l\u001b[?7l\u001b[?7l\u001b[?7l\u001b[?7l\u001b[?7l\u001b[?7l\u001b[?7l\u001b[?7l\u001b[?7l\u001b[?7l\u001b[?7l\u001b[?7l\u001b[?7l\u001b[?7l\u001b[?7l\u001b[?7l\u001b[?7l\u001b[?7l\u001b[?7l\u001b[?7l\u001b[?7l\u001b[?7l\u001b[?7l\n",
      " \u001b[32m✓\u001b[0m Writing configuration 📜7l\u001b[?7l\u001b[?7l\u001b[?7l\u001b[?7l\u001b[?7l\u001b[?7l\u001b[?7l\u001b[?7l\u001b[?7l\n",
      " \u001b[32m✓\u001b[0m Starting control-plane 🕹️7l\u001b[?7l\u001b[?7l\u001b[?7l\u001b[?7l\u001b[?7l\u001b[?7l\u001b[?7l\u001b[?7l\u001b[?7l\u001b[?7l\u001b[?7l\u001b[?7l\u001b[?7l\u001b[?7l\u001b[?7l\u001b[?7l\u001b[?7l\u001b[?7l\u001b[?7l\u001b[?7l\u001b[?7l\u001b[?7l\u001b[?7l\u001b[?7l\u001b[?7l\u001b[?7l\u001b[?7l\u001b[?7l\u001b[?7l\u001b[?7l\u001b[?7l\u001b[?7l\u001b[?7l\u001b[?7l\u001b[?7l\u001b[?7l\u001b[?7l\u001b[?7l\u001b[?7l\u001b[?7l\u001b[?7l\u001b[?7l\u001b[?7l\u001b[?7l\u001b[?7l\u001b[?7l\u001b[?7l\u001b[?7l\u001b[?7l\u001b[?7l\u001b[?7l\u001b[?7l\u001b[?7l\u001b[?7l\u001b[?7l\u001b[?7l\u001b[?7l\u001b[?7l\u001b[?7l\u001b[?7l\u001b[?7l\u001b[?7l\u001b[?7l\u001b[?7l\u001b[?7l\u001b[?7l\u001b[?7l\u001b[?7l\u001b[?7l\u001b[?7l\u001b[?7l\u001b[?7l\u001b[?7l\u001b[?7l\u001b[?7l\u001b[?7l\u001b[?7l\u001b[?7l\u001b[?7l\u001b[?7l\u001b[?7l\u001b[?7l\u001b[?7l\u001b[?7l\u001b[?7l\u001b[?7l\u001b[?7l\u001b[?7l\u001b[?7l\u001b[?7l\u001b[?7l\u001b[?7l\u001b[?7l\u001b[?7l\u001b[?7l\u001b[?7l\u001b[?7l\u001b[?7l\u001b[?7l\u001b[?7l\u001b[?7l\u001b[?7l\u001b[?7l\u001b[?7l\u001b[?7l\u001b[?7l\u001b[?7l\u001b[?7l\u001b[?7l\u001b[?7l\u001b[?7l\u001b[?7l\u001b[?7l\u001b[?7l\u001b[?7l\u001b[?7l\u001b[?7l\u001b[?7l\u001b[?7l\u001b[?7l\u001b[?7l\u001b[?7l\u001b[?7l\u001b[?7l\u001b[?7l\u001b[?7l\u001b[?7l\u001b[?7l\u001b[?7l\u001b[?7l\u001b[?7l\u001b[?7l\u001b[?7l\u001b[?7l\u001b[?7l\u001b[?7l\u001b[?7l\u001b[?7l\u001b[?7l\u001b[?7l\u001b[?7l\u001b[?7l\u001b[?7l\u001b[?7l\u001b[?7l\u001b[?7l\u001b[?7l\u001b[?7l\u001b[?7l\u001b[?7l\u001b[?7l\u001b[?7l\u001b[?7l\u001b[?7l\u001b[?7l\u001b[?7l\u001b[?7l\u001b[?7l\u001b[?7l\u001b[?7l\u001b[?7l\u001b[?7l\u001b[?7l\u001b[?7l\u001b[?7l\u001b[?7l\u001b[?7l\u001b[?7l\u001b[?7l\u001b[?7l\u001b[?7l\u001b[?7l\u001b[?7l\u001b[?7l\u001b[?7l\u001b[?7l\u001b[?7l\u001b[?7l\u001b[?7l\u001b[?7l\u001b[?7l\u001b[?7l\u001b[?7l\u001b[?7l\u001b[?7l\u001b[?7l\u001b[?7l\u001b[?7l\u001b[?7l\u001b[?7l\u001b[?7l\u001b[?7l\u001b[?7l\u001b[?7l\u001b[?7l\u001b[?7l\u001b[?7l\u001b[?7l\u001b[?7l\u001b[?7l\u001b[?7l\u001b[?7l\u001b[?7l\u001b[?7l\u001b[?7l\u001b[?7l\u001b[?7l\u001b[?7l\u001b[?7l\u001b[?7l\u001b[?7l\u001b[?7l\u001b[?7l\u001b[?7l\u001b[?7l\u001b[?7l\u001b[?7l\u001b[?7l\u001b[?7l\u001b[?7l\u001b[?7l\u001b[?7l\u001b[?7l\u001b[?7l\u001b[?7l\u001b[?7l\u001b[?7l\u001b[?7l\u001b[?7l\u001b[?7l\u001b[?7l\u001b[?7l\u001b[?7l\u001b[?7l\u001b[?7l\u001b[?7l\u001b[?7l\u001b[?7l\u001b[?7l\u001b[?7l\u001b[?7l\u001b[?7l\u001b[?7l\u001b[?7l\u001b[?7l\u001b[?7l\u001b[?7l\u001b[?7l\u001b[?7l\u001b[?7l\u001b[?7l\u001b[?7l\u001b[?7l\u001b[?7l\u001b[?7l\u001b[?7l\u001b[?7l\u001b[?7l\u001b[?7l\u001b[?7l\u001b[?7l\u001b[?7l\u001b[?7l\u001b[?7l\u001b[?7l\u001b[?7l\u001b[?7l\u001b[?7l\u001b[?7l\u001b[?7l\u001b[?7l\u001b[?7l\u001b[?7l\u001b[?7l\u001b[?7l\u001b[?7l\u001b[?7l\u001b[?7l\u001b[?7l\u001b[?7l\u001b[?7l\u001b[?7l\u001b[?7l\u001b[?7l\u001b[?7l\u001b[?7l\u001b[?7l\u001b[?7l\u001b[?7l\u001b[?7l\u001b[?7l\u001b[?7l\u001b[?7l\u001b[?7l\u001b[?7l\u001b[?7l\u001b[?7l\u001b[?7l\u001b[?7l\u001b[?7l\u001b[?7l\u001b[?7l\u001b[?7l\u001b[?7l\u001b[?7l\u001b[?7l\u001b[?7l\u001b[?7l\u001b[?7l\u001b[?7l\u001b[?7l\u001b[?7l\u001b[?7l\u001b[?7l\u001b[?7l\u001b[?7l\u001b[?7l\u001b[?7l\u001b[?7l\u001b[?7l\u001b[?7l\u001b[?7l\u001b[?7l\u001b[?7l\u001b[?7l\u001b[?7l\u001b[?7l\u001b[?7l\u001b[?7l\u001b[?7l\u001b[?7l\u001b[?7l\u001b[?7l\u001b[?7l\u001b[?7l\u001b[?7l\u001b[?7l\u001b[?7l\u001b[?7l\u001b[?7l\u001b[?7l\u001b[?7l\u001b[?7l\u001b[?7l\u001b[?7l\u001b[?7l\u001b[?7l\u001b[?7l\u001b[?7l\u001b[?7l\u001b[?7l\u001b[?7l\u001b[?7l\u001b[?7l\u001b[?7l\u001b[?7l\u001b[?7l\n",
      " \u001b[32m✓\u001b[0m Installing CNI 🔌7l\u001b[?7l\u001b[?7l\u001b[?7l\u001b[?7l\u001b[?7l\u001b[?7l\u001b[?7l\u001b[?7l\u001b[?7l\u001b[?7l\u001b[?7l\u001b[?7l\u001b[?7l\u001b[?7l\n",
      " \u001b[32m✓\u001b[0m Installing StorageClass 💾7l\u001b[?7l\u001b[?7l\u001b[?7l\u001b[?7l\u001b[?7l\u001b[?7l\u001b[?7l\n",
      "Set kubectl context to \"kind-kind\"\n",
      "You can now use your cluster with:\n",
      "\n",
      "kubectl cluster-info --context kind-kind\n",
      "\n",
      "Have a nice day! 👋\n"
     ]
    }
   ],
   "source": [
    "# Create a Cluster\n",
    "!kind create cluster\n"
   ]
  },
  {
   "cell_type": "code",
   "execution_count": 2,
   "metadata": {},
   "outputs": [
    {
     "name": "stdout",
     "output_type": "stream",
     "text": [
      "\u001b[0;32mKubernetes control plane\u001b[0m is running at \u001b[0;33mhttps://127.0.0.1:42243\u001b[0m\n",
      "\u001b[0;32mCoreDNS\u001b[0m is running at \u001b[0;33mhttps://127.0.0.1:42243/api/v1/namespaces/kube-system/services/kube-dns:dns/proxy\u001b[0m\n",
      "\n",
      "To further debug and diagnose cluster problems, use 'kubectl cluster-info dump'.\n"
     ]
    }
   ],
   "source": [
    "# configure the cluster\n",
    "!kubectl cluster-info --context kind-kind"
   ]
  },
  {
   "cell_type": "code",
   "execution_count": 3,
   "metadata": {},
   "outputs": [
    {
     "name": "stdout",
     "output_type": "stream",
     "text": [
      "Switched to context \"kind-kind\".\n"
     ]
    }
   ],
   "source": [
    "# prepare the cluster kind-kind\n",
    "!kubectl config use-context kind-kind\n"
   ]
  },
  {
   "cell_type": "code",
   "execution_count": 4,
   "metadata": {},
   "outputs": [
    {
     "name": "stdout",
     "output_type": "stream",
     "text": [
      "--2023-12-04 12:24:50--  https://raw.githubusercontent.com/kserve/kserve/release-0.11/hack/quick_install.sh\n",
      "Resolving raw.githubusercontent.com (raw.githubusercontent.com)... 185.199.109.133, 185.199.110.133, 185.199.111.133, ...\n",
      "Connecting to raw.githubusercontent.com (raw.githubusercontent.com)|185.199.109.133|:443... connected.\n",
      "HTTP request sent, awaiting response... 200 OK\n",
      "Length: 4102 (4.0K) [text/plain]\n",
      "Saving to: ‘quick_install.sh’\n",
      "\n",
      "quick_install.sh    100%[===================>]   4.01K  --.-KB/s    in 0.006s  \n",
      "\n",
      "2023-12-04 12:24:51 (676 KB/s) - ‘quick_install.sh’ saved [4102/4102]\n",
      "\n"
     ]
    }
   ],
   "source": [
    "# Download the kserve script which should install\n",
    "# the kserve layers and kserve itself\n",
    "\n",
    "!wget \"https://raw.githubusercontent.com/kserve/kserve/release-0.11/hack/quick_install.sh\"\n"
   ]
  },
  {
   "cell_type": "code",
   "execution_count": 5,
   "metadata": {},
   "outputs": [
    {
     "name": "stdout",
     "output_type": "stream",
     "text": [
      "Flag --short has been deprecated, and will be removed in the future. The --short output will become the default.\n",
      "WARNING: version difference between client (1.25) and server (1.27) exceeds the supported minor version skew of +/-1\n",
      "  % Total    % Received % Xferd  Average Speed   Time    Time     Time  Current\n",
      "                                 Dload  Upload   Total   Spent    Left  Speed\n",
      "100   102  100   102    0     0    212      0 --:--:-- --:--:-- --:--:--   212\n",
      "100  4899  100  4899    0     0   6766      0 --:--:-- --:--:-- --:--:--  6766\n",
      "\n",
      "Downloading istio-1.17.2 from https://github.com/istio/istio/releases/download/1.17.2/istio-1.17.2-linux-amd64.tar.gz ...\n",
      "\n",
      "Istio 1.17.2 Download Complete!\n",
      "\n",
      "Istio has been successfully downloaded into the istio-1.17.2 folder on your system.\n",
      "\n",
      "Next Steps:\n",
      "See https://istio.io/latest/docs/setup/install/ to add Istio to your Kubernetes cluster.\n",
      "\n",
      "To configure the istioctl client tool for your workstation,\n",
      "add the /home/ozkary/workspace/ml-engineering/11-kserve/istio-1.17.2/bin directory to your environment path variable with:\n",
      "\t export PATH=\"$PATH:/home/ozkary/workspace/ml-engineering/11-kserve/istio-1.17.2/bin\"\n",
      "\n",
      "Begin the Istio pre-installation check by running:\n",
      "\t istioctl x precheck \n",
      "\n",
      "Need more information? Visit https://istio.io/latest/docs/setup/install/ \n",
      "namespace/istio-system created\n",
      "\u001b[32m✔\u001b[0m Istio core installed                                                          \n",
      "\u001b[32m✔\u001b[0m Istiod installed                                                              \n",
      "\u001b[32m✔\u001b[0m Ingress gateways installed                                                    \n",
      "\u001b[32m✔\u001b[0m Installation complete                                                         Making this installation the default for injection and validation.\n",
      "\n",
      "Thank you for installing Istio 1.17.  Please take a few minutes to tell us about your install/upgrade experience!  https://forms.gle/hMHGiwZHPU7UQRWe9\n",
      "😀 Successfully installed Istio\n",
      "customresourcedefinition.apiextensions.k8s.io/certificates.networking.internal.knative.dev created\n",
      "customresourcedefinition.apiextensions.k8s.io/configurations.serving.knative.dev created\n",
      "customresourcedefinition.apiextensions.k8s.io/clusterdomainclaims.networking.internal.knative.dev created\n",
      "customresourcedefinition.apiextensions.k8s.io/domainmappings.serving.knative.dev created\n",
      "customresourcedefinition.apiextensions.k8s.io/ingresses.networking.internal.knative.dev created\n",
      "customresourcedefinition.apiextensions.k8s.io/metrics.autoscaling.internal.knative.dev created\n",
      "customresourcedefinition.apiextensions.k8s.io/podautoscalers.autoscaling.internal.knative.dev created\n",
      "customresourcedefinition.apiextensions.k8s.io/revisions.serving.knative.dev created\n",
      "customresourcedefinition.apiextensions.k8s.io/routes.serving.knative.dev created\n",
      "customresourcedefinition.apiextensions.k8s.io/serverlessservices.networking.internal.knative.dev created\n",
      "customresourcedefinition.apiextensions.k8s.io/services.serving.knative.dev created\n",
      "customresourcedefinition.apiextensions.k8s.io/images.caching.internal.knative.dev created\n",
      "namespace/knative-serving created\n",
      "clusterrole.rbac.authorization.k8s.io/knative-serving-aggregated-addressable-resolver created\n",
      "clusterrole.rbac.authorization.k8s.io/knative-serving-addressable-resolver created\n",
      "clusterrole.rbac.authorization.k8s.io/knative-serving-namespaced-admin created\n",
      "clusterrole.rbac.authorization.k8s.io/knative-serving-namespaced-edit created\n",
      "clusterrole.rbac.authorization.k8s.io/knative-serving-namespaced-view created\n",
      "clusterrole.rbac.authorization.k8s.io/knative-serving-core created\n",
      "clusterrole.rbac.authorization.k8s.io/knative-serving-podspecable-binding created\n",
      "serviceaccount/controller created\n",
      "clusterrole.rbac.authorization.k8s.io/knative-serving-admin created\n",
      "clusterrolebinding.rbac.authorization.k8s.io/knative-serving-controller-admin created\n",
      "clusterrolebinding.rbac.authorization.k8s.io/knative-serving-controller-addressable-resolver created\n",
      "customresourcedefinition.apiextensions.k8s.io/images.caching.internal.knative.dev unchanged\n",
      "customresourcedefinition.apiextensions.k8s.io/certificates.networking.internal.knative.dev unchanged\n",
      "customresourcedefinition.apiextensions.k8s.io/configurations.serving.knative.dev unchanged\n",
      "customresourcedefinition.apiextensions.k8s.io/clusterdomainclaims.networking.internal.knative.dev unchanged\n",
      "customresourcedefinition.apiextensions.k8s.io/domainmappings.serving.knative.dev unchanged\n",
      "customresourcedefinition.apiextensions.k8s.io/ingresses.networking.internal.knative.dev unchanged\n",
      "customresourcedefinition.apiextensions.k8s.io/metrics.autoscaling.internal.knative.dev unchanged\n",
      "customresourcedefinition.apiextensions.k8s.io/podautoscalers.autoscaling.internal.knative.dev unchanged\n",
      "customresourcedefinition.apiextensions.k8s.io/revisions.serving.knative.dev unchanged\n",
      "customresourcedefinition.apiextensions.k8s.io/routes.serving.knative.dev unchanged\n",
      "customresourcedefinition.apiextensions.k8s.io/serverlessservices.networking.internal.knative.dev unchanged\n",
      "customresourcedefinition.apiextensions.k8s.io/services.serving.knative.dev unchanged\n",
      "secret/serving-certs-ctrl-ca created\n",
      "secret/knative-serving-certs created\n",
      "secret/control-serving-certs created\n",
      "secret/routing-serving-certs created\n",
      "image.caching.internal.knative.dev/queue-proxy created\n",
      "configmap/config-autoscaler created\n",
      "configmap/config-defaults created\n",
      "configmap/config-deployment created\n",
      "configmap/config-domain created\n",
      "configmap/config-features created\n",
      "configmap/config-gc created\n",
      "configmap/config-leader-election created\n",
      "configmap/config-logging created\n",
      "configmap/config-network created\n",
      "configmap/config-observability created\n",
      "configmap/config-tracing created\n",
      "horizontalpodautoscaler.autoscaling/activator created\n",
      "poddisruptionbudget.policy/activator-pdb created\n",
      "deployment.apps/activator created\n",
      "service/activator-service created\n",
      "deployment.apps/autoscaler created\n",
      "service/autoscaler created\n",
      "deployment.apps/controller created\n",
      "service/controller created\n",
      "deployment.apps/domain-mapping created\n",
      "deployment.apps/domainmapping-webhook created\n",
      "service/domainmapping-webhook created\n",
      "horizontalpodautoscaler.autoscaling/webhook created\n",
      "poddisruptionbudget.policy/webhook-pdb created\n",
      "deployment.apps/webhook created\n",
      "service/webhook created\n",
      "validatingwebhookconfiguration.admissionregistration.k8s.io/config.webhook.serving.knative.dev created\n",
      "mutatingwebhookconfiguration.admissionregistration.k8s.io/webhook.serving.knative.dev created\n",
      "mutatingwebhookconfiguration.admissionregistration.k8s.io/webhook.domainmapping.serving.knative.dev created\n",
      "secret/domainmapping-webhook-certs created\n",
      "validatingwebhookconfiguration.admissionregistration.k8s.io/validation.webhook.domainmapping.serving.knative.dev created\n",
      "validatingwebhookconfiguration.admissionregistration.k8s.io/validation.webhook.serving.knative.dev created\n",
      "secret/webhook-certs created\n",
      "clusterrole.rbac.authorization.k8s.io/knative-serving-istio created\n",
      "gateway.networking.istio.io/knative-ingress-gateway created\n",
      "gateway.networking.istio.io/knative-local-gateway created\n",
      "service/knative-local-gateway created\n",
      "configmap/config-istio created\n",
      "peerauthentication.security.istio.io/webhook created\n",
      "peerauthentication.security.istio.io/domainmapping-webhook created\n",
      "peerauthentication.security.istio.io/net-istio-webhook created\n",
      "deployment.apps/net-istio-controller created\n",
      "deployment.apps/net-istio-webhook created\n",
      "secret/net-istio-webhook-certs created\n",
      "service/net-istio-webhook created\n",
      "mutatingwebhookconfiguration.admissionregistration.k8s.io/webhook.istio.networking.internal.knative.dev created\n",
      "validatingwebhookconfiguration.admissionregistration.k8s.io/config.webhook.istio.networking.internal.knative.dev created\n",
      "configmap/config-domain patched\n",
      "😀 Successfully installed Knative\n",
      "customresourcedefinition.apiextensions.k8s.io/certificaterequests.cert-manager.io created\n",
      "customresourcedefinition.apiextensions.k8s.io/certificates.cert-manager.io created\n",
      "customresourcedefinition.apiextensions.k8s.io/challenges.acme.cert-manager.io created\n",
      "customresourcedefinition.apiextensions.k8s.io/clusterissuers.cert-manager.io created\n",
      "customresourcedefinition.apiextensions.k8s.io/issuers.cert-manager.io created\n",
      "customresourcedefinition.apiextensions.k8s.io/orders.acme.cert-manager.io created\n",
      "namespace/cert-manager created\n",
      "serviceaccount/cert-manager-cainjector created\n",
      "serviceaccount/cert-manager created\n",
      "serviceaccount/cert-manager-webhook created\n",
      "clusterrole.rbac.authorization.k8s.io/cert-manager-cainjector created\n",
      "clusterrole.rbac.authorization.k8s.io/cert-manager-controller-issuers created\n",
      "clusterrole.rbac.authorization.k8s.io/cert-manager-controller-clusterissuers created\n",
      "clusterrole.rbac.authorization.k8s.io/cert-manager-controller-certificates created\n",
      "clusterrole.rbac.authorization.k8s.io/cert-manager-controller-orders created\n",
      "clusterrole.rbac.authorization.k8s.io/cert-manager-controller-challenges created\n",
      "clusterrole.rbac.authorization.k8s.io/cert-manager-controller-ingress-shim created\n",
      "clusterrole.rbac.authorization.k8s.io/cert-manager-view created\n",
      "clusterrole.rbac.authorization.k8s.io/cert-manager-edit created\n",
      "clusterrole.rbac.authorization.k8s.io/cert-manager-controller-approve:cert-manager-io created\n",
      "clusterrole.rbac.authorization.k8s.io/cert-manager-webhook:subjectaccessreviews created\n",
      "clusterrolebinding.rbac.authorization.k8s.io/cert-manager-cainjector created\n",
      "clusterrolebinding.rbac.authorization.k8s.io/cert-manager-controller-issuers created\n",
      "clusterrolebinding.rbac.authorization.k8s.io/cert-manager-controller-clusterissuers created\n",
      "clusterrolebinding.rbac.authorization.k8s.io/cert-manager-controller-certificates created\n",
      "clusterrolebinding.rbac.authorization.k8s.io/cert-manager-controller-orders created\n",
      "clusterrolebinding.rbac.authorization.k8s.io/cert-manager-controller-challenges created\n",
      "clusterrolebinding.rbac.authorization.k8s.io/cert-manager-controller-ingress-shim created\n",
      "clusterrolebinding.rbac.authorization.k8s.io/cert-manager-controller-approve:cert-manager-io created\n",
      "clusterrolebinding.rbac.authorization.k8s.io/cert-manager-webhook:subjectaccessreviews created\n",
      "role.rbac.authorization.k8s.io/cert-manager-cainjector:leaderelection created\n",
      "role.rbac.authorization.k8s.io/cert-manager:leaderelection created\n",
      "role.rbac.authorization.k8s.io/cert-manager-webhook:dynamic-serving created\n",
      "rolebinding.rbac.authorization.k8s.io/cert-manager-cainjector:leaderelection created\n",
      "rolebinding.rbac.authorization.k8s.io/cert-manager:leaderelection created\n",
      "rolebinding.rbac.authorization.k8s.io/cert-manager-webhook:dynamic-serving created\n",
      "service/cert-manager created\n",
      "service/cert-manager-webhook created\n",
      "deployment.apps/cert-manager-cainjector created\n",
      "deployment.apps/cert-manager created\n",
      "deployment.apps/cert-manager-webhook created\n",
      "mutatingwebhookconfiguration.admissionregistration.k8s.io/cert-manager-webhook created\n",
      "validatingwebhookconfiguration.admissionregistration.k8s.io/cert-manager-webhook created\n",
      "deployment.apps/cert-manager-webhook condition met\n",
      "😀 Successfully installed Cert Manager\n",
      "namespace/kserve created\n",
      "customresourcedefinition.apiextensions.k8s.io/clusterservingruntimes.serving.kserve.io created\n",
      "customresourcedefinition.apiextensions.k8s.io/clusterstoragecontainers.serving.kserve.io created\n",
      "customresourcedefinition.apiextensions.k8s.io/inferencegraphs.serving.kserve.io created\n",
      "customresourcedefinition.apiextensions.k8s.io/inferenceservices.serving.kserve.io created\n",
      "customresourcedefinition.apiextensions.k8s.io/servingruntimes.serving.kserve.io created\n",
      "customresourcedefinition.apiextensions.k8s.io/trainedmodels.serving.kserve.io created\n",
      "serviceaccount/kserve-controller-manager created\n",
      "role.rbac.authorization.k8s.io/kserve-leader-election-role created\n",
      "clusterrole.rbac.authorization.k8s.io/kserve-manager-role created\n",
      "clusterrole.rbac.authorization.k8s.io/kserve-proxy-role created\n",
      "rolebinding.rbac.authorization.k8s.io/kserve-leader-election-rolebinding created\n",
      "clusterrolebinding.rbac.authorization.k8s.io/kserve-manager-rolebinding created\n",
      "clusterrolebinding.rbac.authorization.k8s.io/kserve-proxy-rolebinding created\n",
      "configmap/inferenceservice-config created\n",
      "secret/kserve-webhook-server-secret created\n",
      "service/kserve-controller-manager-metrics-service created\n",
      "service/kserve-controller-manager-service created\n",
      "service/kserve-webhook-server-service created\n",
      "deployment.apps/kserve-controller-manager created\n",
      "certificate.cert-manager.io/serving-cert created\n",
      "issuer.cert-manager.io/selfsigned-issuer created\n",
      "mutatingwebhookconfiguration.admissionregistration.k8s.io/inferenceservice.serving.kserve.io created\n",
      "validatingwebhookconfiguration.admissionregistration.k8s.io/clusterservingruntime.serving.kserve.io created\n",
      "validatingwebhookconfiguration.admissionregistration.k8s.io/inferencegraph.serving.kserve.io created\n",
      "validatingwebhookconfiguration.admissionregistration.k8s.io/inferenceservice.serving.kserve.io created\n",
      "validatingwebhookconfiguration.admissionregistration.k8s.io/servingruntime.serving.kserve.io created\n",
      "validatingwebhookconfiguration.admissionregistration.k8s.io/trainedmodel.serving.kserve.io created\n",
      "pod/kserve-controller-manager-78c666cf85-4gz8p condition met\n",
      "clusterservingruntime.serving.kserve.io/kserve-lgbserver created\n",
      "clusterservingruntime.serving.kserve.io/kserve-mlserver created\n",
      "clusterservingruntime.serving.kserve.io/kserve-paddleserver created\n",
      "clusterservingruntime.serving.kserve.io/kserve-pmmlserver created\n",
      "clusterservingruntime.serving.kserve.io/kserve-sklearnserver created\n",
      "clusterservingruntime.serving.kserve.io/kserve-tensorflow-serving created\n",
      "clusterservingruntime.serving.kserve.io/kserve-torchserve created\n",
      "clusterservingruntime.serving.kserve.io/kserve-tritonserver created\n",
      "clusterservingruntime.serving.kserve.io/kserve-xgbserver created\n",
      "😀 Successfully installed KServe\n"
     ]
    }
   ],
   "source": [
    "# install the script\n",
    "!bash quick_install.sh\n"
   ]
  },
  {
   "cell_type": "code",
   "execution_count": 8,
   "metadata": {},
   "outputs": [
    {
     "name": "stdout",
     "output_type": "stream",
     "text": [
      "NAME                                         READY   STATUS    RESTARTS   AGE\n",
      "kserve-controller-manager-78c666cf85-4gz8p   2/2     Running   0          3h32m\n"
     ]
    }
   ],
   "source": [
    "# check the nodes in the name space\n",
    "!kubectl get pods -n kserve"
   ]
  },
  {
   "cell_type": "markdown",
   "metadata": {},
   "source": [
    "## Create the inference service"
   ]
  },
  {
   "cell_type": "code",
   "execution_count": 9,
   "metadata": {},
   "outputs": [
    {
     "name": "stdout",
     "output_type": "stream",
     "text": [
      "namespace/kserve-test created\n"
     ]
    }
   ],
   "source": [
    "# Create the test namespace\n",
    "!kubectl create namespace kserve-test\n"
   ]
  },
  {
   "cell_type": "code",
   "execution_count": 14,
   "metadata": {},
   "outputs": [
    {
     "name": "stdout",
     "output_type": "stream",
     "text": [
      "inferenceservice.serving.kserve.io/sklearn-iris unchanged\n"
     ]
    }
   ],
   "source": [
    "# Create the deployment iris_example.yaml and install it\n",
    "!kubectl apply -f iris_example.yaml -n kserve-test"
   ]
  },
  {
   "cell_type": "code",
   "execution_count": 1,
   "metadata": {},
   "outputs": [
    {
     "name": "stdout",
     "output_type": "stream",
     "text": [
      "NAME           URL                                           READY   PREV   LATEST   PREVROLLEDOUTREVISION   LATESTREADYREVISION            AGE\n",
      "sklearn-iris   http://sklearn-iris.kserve-test.example.com   True           100                              sklearn-iris-predictor-00001   24h\n"
     ]
    }
   ],
   "source": [
    "# check the status\n",
    "!kubectl get inferenceservices sklearn-iris -n kserve-test\n"
   ]
  },
  {
   "cell_type": "code",
   "execution_count": 2,
   "metadata": {},
   "outputs": [
    {
     "name": "stdout",
     "output_type": "stream",
     "text": [
      "NAME                   TYPE           CLUSTER-IP     EXTERNAL-IP   PORT(S)                                      AGE\n",
      "istio-ingressgateway   LoadBalancer   10.96.33.146   <pending>     15021:31200/TCP,80:31407/TCP,443:30775/TCP   28h\n"
     ]
    }
   ],
   "source": [
    "# determine the ingress IP and port\n",
    "!kubectl get svc istio-ingressgateway -n istio-system\n"
   ]
  },
  {
   "cell_type": "code",
   "execution_count": 3,
   "metadata": {},
   "outputs": [
    {
     "name": "stdout",
     "output_type": "stream",
     "text": [
      "Forwarding from 127.0.0.1:8080 -> 8080\n",
      "Forwarding from [::1]:8080 -> 8080\n",
      "^C\n"
     ]
    }
   ],
   "source": [
    "# create a port forward. This operation runs in the background\n",
    "# !kubectl port-forward svc/istio-ingressgateway -n istio-system 8080:80"
   ]
  },
  {
   "cell_type": "code",
   "execution_count": 4,
   "metadata": {},
   "outputs": [],
   "source": [
    "# set the environment variables\n",
    "!set INGRESS_HOST = localhost\n",
    "!set INGRESS_PORT = 8080\n"
   ]
  },
  {
   "cell_type": "code",
   "execution_count": 10,
   "metadata": {},
   "outputs": [
    {
     "name": "stdout",
     "output_type": "stream",
     "text": [
      "{\"predictions\":[1,1]}\n"
     ]
    }
   ],
   "source": [
    "# make a prediction using this sample json\n",
    "\n",
    "payload = { \"instances\": [\n",
    "        [6.8,  2.8,  4.8,  1.4],\n",
    "        [6.0,  3.4,  4.5,  1.6]\n",
    "        ]}\n",
    "\n",
    "#!SERVICE_HOSTNAME=$(kubectl get inferenceservice sklearn-iris -n kserve-test -o jsonpath='{.status.url}' | cut -d \"/\" -f 3)\n",
    "#!curl -v -H \"Host: ${SERVICE_HOSTNAME}\" -H \"Content-Type: application/json\" \"http://${INGRESS_HOST}:${INGRESS_PORT}/v1/models/sklearn-iris:predict\" -d @./iris-input.json\n",
    "\n",
    "# use requests to make a prediction using the payload json\n",
    "import requests\n",
    "import json\n",
    "\n",
    "headers = {\"Host\": \"sklearn-iris.kserve-test.example.com\", \"Content-Type\": \"application/json\"}\n",
    "url = \"http://localhost:8080/v1/models/sklearn-iris:predict\"\n",
    "response = requests.post(url, json=payload, headers=headers)\n",
    "print(response.text)\n",
    "\n",
    "# You should see two predictions returned (i.e. {\"predictions\": [1, 1]}). \n",
    "# Both sets of data points sent for inference correspond to the flower with index 1. \n",
    "# In this case, the model predicts that both flowers are \"Iris Versicolour\"."
   ]
  },
  {
   "cell_type": "code",
   "execution_count": 11,
   "metadata": {},
   "outputs": [
    {
     "name": "stdout",
     "output_type": "stream",
     "text": [
      "Error from server (NotFound): pods \"load-test8b58n-rgfxr\" not found\n"
     ]
    }
   ],
   "source": [
    "!kubectl logs load-test8b58n-rgfxr -n kserve-test\n"
   ]
  }
 ],
 "metadata": {
  "kernelspec": {
   "display_name": "Python 3",
   "language": "python",
   "name": "python3"
  },
  "language_info": {
   "codemirror_mode": {
    "name": "ipython",
    "version": 3
   },
   "file_extension": ".py",
   "mimetype": "text/x-python",
   "name": "python",
   "nbconvert_exporter": "python",
   "pygments_lexer": "ipython3",
   "version": "3.8.10"
  }
 },
 "nbformat": 4,
 "nbformat_minor": 2
}
