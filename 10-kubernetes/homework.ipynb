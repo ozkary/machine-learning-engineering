{
 "cells": [
  {
   "cell_type": "markdown",
   "metadata": {},
   "source": [
    "# Machine Learning - Kubernetes"
   ]
  },
  {
   "cell_type": "code",
   "execution_count": 2,
   "metadata": {},
   "outputs": [],
   "source": [
    "import requests"
   ]
  },
  {
   "cell_type": "code",
   "execution_count": 17,
   "metadata": {},
   "outputs": [
    {
     "name": "stdout",
     "output_type": "stream",
     "text": [
      "dict_keys(['payload', 'title'])\n"
     ]
    }
   ],
   "source": [
    "# download all the files at this folder_url and write them to the folder ./src\n",
    "\n",
    "folder_url = 'https://github.com/DataTalksClub/machine-learning-zoomcamp/tree/master/cohorts/2023/05-deployment/homework'\n",
    "raw_url = 'https://raw.githubusercontent.com/DataTalksClub/machine-learning-zoomcamp/master/cohorts/2023/05-deployment/homework/'\n",
    "\n",
    "# get every file in the folder\n",
    "response = requests.get(folder_url)\n",
    "\n",
    "# convert the response text to JSON dictionary\n",
    "folder_json = response.json()\n",
    "print(folder_json.keys())"
   ]
  },
  {
   "cell_type": "code",
   "execution_count": 19,
   "metadata": {},
   "outputs": [
    {
     "name": "stdout",
     "output_type": "stream",
     "text": [
      "cohorts/2023/05-deployment/homework/Dockerfile\n",
      "https://raw.githubusercontent.com/DataTalksClub/machine-learning-zoomcamp/master/cohorts/2023/05-deployment/homework//Dockerfile\n",
      "cohorts/2023/05-deployment/homework/Pipfile\n",
      "https://raw.githubusercontent.com/DataTalksClub/machine-learning-zoomcamp/master/cohorts/2023/05-deployment/homework//Pipfile\n",
      "cohorts/2023/05-deployment/homework/Pipfile.lock\n",
      "https://raw.githubusercontent.com/DataTalksClub/machine-learning-zoomcamp/master/cohorts/2023/05-deployment/homework//Pipfile.lock\n",
      "cohorts/2023/05-deployment/homework/dv.bin\n",
      "https://raw.githubusercontent.com/DataTalksClub/machine-learning-zoomcamp/master/cohorts/2023/05-deployment/homework//dv.bin\n",
      "cohorts/2023/05-deployment/homework/model1.bin\n",
      "https://raw.githubusercontent.com/DataTalksClub/machine-learning-zoomcamp/master/cohorts/2023/05-deployment/homework//model1.bin\n",
      "cohorts/2023/05-deployment/homework/q3_test.py\n",
      "https://raw.githubusercontent.com/DataTalksClub/machine-learning-zoomcamp/master/cohorts/2023/05-deployment/homework//q3_test.py\n",
      "cohorts/2023/05-deployment/homework/q4_predict.py\n",
      "https://raw.githubusercontent.com/DataTalksClub/machine-learning-zoomcamp/master/cohorts/2023/05-deployment/homework//q4_predict.py\n",
      "cohorts/2023/05-deployment/homework/q4_test.py\n",
      "https://raw.githubusercontent.com/DataTalksClub/machine-learning-zoomcamp/master/cohorts/2023/05-deployment/homework//q4_test.py\n",
      "cohorts/2023/05-deployment/homework/q6_predict.py\n",
      "https://raw.githubusercontent.com/DataTalksClub/machine-learning-zoomcamp/master/cohorts/2023/05-deployment/homework//q6_predict.py\n",
      "cohorts/2023/05-deployment/homework/q6_test.py\n",
      "https://raw.githubusercontent.com/DataTalksClub/machine-learning-zoomcamp/master/cohorts/2023/05-deployment/homework//q6_test.py\n"
     ]
    }
   ],
   "source": [
    "# display the keys in the payload node\n",
    "# print(folder_json['payload']['tree']['items'])\n",
    "\n",
    "# for each item, download the file and write it to the folder ./src\n",
    "for item in folder_json['payload']['tree']['items']:\n",
    "    print(item['path'])\n",
    "    file_name = item['path'].split('/')[-1]\n",
    "    \n",
    "    # get the github raw url for the folder url in order to download the file        \n",
    "    file_url = raw_url + '/' + file_name\n",
    "    print(file_url)\n",
    "    file_response = requests.get(file_url)\n",
    "    # write the file to the folder ./src with bytes\n",
    "    with open('./src/' + file_name, 'wb') as f:\n",
    "        f.write(file_response.content)\n",
    "    "
   ]
  }
 ],
 "metadata": {
  "kernelspec": {
   "display_name": "Python 3",
   "language": "python",
   "name": "python3"
  },
  "language_info": {
   "codemirror_mode": {
    "name": "ipython",
    "version": 3
   },
   "file_extension": ".py",
   "mimetype": "text/x-python",
   "name": "python",
   "nbconvert_exporter": "python",
   "pygments_lexer": "ipython3",
   "version": "3.8.10"
  }
 },
 "nbformat": 4,
 "nbformat_minor": 2
}
