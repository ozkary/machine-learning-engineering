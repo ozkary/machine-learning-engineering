{
 "cells": [
  {
   "cell_type": "markdown",
   "metadata": {},
   "source": [
    "# Drug to Drug Interactions - API Integration Test"
   ]
  },
  {
   "cell_type": "code",
   "execution_count": 6,
   "metadata": {},
   "outputs": [],
   "source": [
    "# Make the request to make the prediction\n",
    "import requests\n",
    "import pandas as pd\n",
    "import json\n",
    "from ddi_lib import load_test_cases\n"
   ]
  },
  {
   "cell_type": "code",
   "execution_count": 24,
   "metadata": {},
   "outputs": [
    {
     "name": "stdout",
     "output_type": "stream",
     "text": [
      "{839: {'drug1': 'Ritonavir', 'smiles1': 'CC(C)[C@H](NC(=O)N(C)CC1=CSC(=N1)C(C)C)C(=O)N[C@H](C[C@H](O)[C@H](CC1=CC=CC=C1)NC(=O)OCC1=CN=CS1)CC1=CC=CC=C1', 'drug2': 'Formoterol', 'smiles2': 'COC1=CC=C(CC(C)NCC(O)C2=CC(NC=O)=C(O)C=C2)C=C1'}, 1781: {'drug1': 'Ritonavir', 'smiles1': 'CC(C)[C@H](NC(=O)N(C)CC1=CSC(=N1)C(C)C)C(=O)N[C@H](C[C@H](O)[C@H](CC1=CC=CC=C1)NC(=O)OCC1=CN=CS1)CC1=CC=CC=C1', 'drug2': 'Olodaterol', 'smiles2': 'COC1=CC=C(CC(C)(C)NC[C@H](O)C2=C3OCC(=O)NC3=CC(O)=C2)C=C1'}, 61: {'drug1': 'Phentermine', 'smiles1': 'CC(C)(N)CC1=CC=CC=C1', 'drug2': 'Brexpiprazole', 'smiles2': 'O=C1NC2=CC(OCCCCN3CCN(CC3)C3=C4C=CSC4=CC=C3)=CC=C2C=C1'}, 85: {'drug1': 'Mirtazapine', 'smiles1': 'CN1CCN2C(C1)C1=CC=CC=C1CC1=C2N=CC=C1', 'drug2': 'Phenylephrine', 'smiles2': 'CNC[C@H](O)C1=CC(O)=CC=C1'}}\n"
     ]
    }
   ],
   "source": [
    "# open the test cases csv file and read it into a pandas dataframe \n",
    "\n",
    "test_cases = load_test_cases()\n",
    "print(test_cases)"
   ]
  },
  {
   "cell_type": "code",
   "execution_count": 22,
   "metadata": {},
   "outputs": [],
   "source": [
    "def call_api(url,data):\n",
    "    # Make the request and display the response        \n",
    "        \n",
    "    # data = df.to_dict(orient='records')\n",
    "\n",
    "    # Convert DataFrame data to JSON string\n",
    "    payload = json.dumps(data)\n",
    "\n",
    "    print(f\"Payload: {payload}\")\n",
    "    \n",
    "    response = requests.post(url, json=payload)\n",
    "\n",
    "    # Check the response status code\n",
    "    if response.status_code == 200:\n",
    "        # If the response status is 200 (OK), print the JSON response\n",
    "        json_response = response.json()            \n",
    "        for result in json_response:\n",
    "            print(f\"Result: {result}\")        \n",
    "        \n",
    "    else:\n",
    "        # If the response status is not 200, print an error message\n",
    "        print(\"Error:\", response.status_code, response.text)\n"
   ]
  },
  {
   "cell_type": "code",
   "execution_count": 25,
   "metadata": {},
   "outputs": [
    {
     "name": "stdout",
     "output_type": "stream",
     "text": [
      "Payload: {\"839\": {\"drug1\": \"Ritonavir\", \"smiles1\": \"CC(C)[C@H](NC(=O)N(C)CC1=CSC(=N1)C(C)C)C(=O)N[C@H](C[C@H](O)[C@H](CC1=CC=CC=C1)NC(=O)OCC1=CN=CS1)CC1=CC=CC=C1\", \"drug2\": \"Formoterol\", \"smiles2\": \"COC1=CC=C(CC(C)NCC(O)C2=CC(NC=O)=C(O)C=C2)C=C1\"}, \"1781\": {\"drug1\": \"Ritonavir\", \"smiles1\": \"CC(C)[C@H](NC(=O)N(C)CC1=CSC(=N1)C(C)C)C(=O)N[C@H](C[C@H](O)[C@H](CC1=CC=CC=C1)NC(=O)OCC1=CN=CS1)CC1=CC=CC=C1\", \"drug2\": \"Olodaterol\", \"smiles2\": \"COC1=CC=C(CC(C)(C)NC[C@H](O)C2=C3OCC(=O)NC3=CC(O)=C2)C=C1\"}, \"61\": {\"drug1\": \"Phentermine\", \"smiles1\": \"CC(C)(N)CC1=CC=CC=C1\", \"drug2\": \"Brexpiprazole\", \"smiles2\": \"O=C1NC2=CC(OCCCCN3CCN(CC3)C3=C4C=CSC4=CC=C3)=CC=C2C=C1\"}, \"85\": {\"drug1\": \"Mirtazapine\", \"smiles1\": \"CN1CCN2C(C1)C1=CC=CC=C1CC1=C2N=CC=C1\", \"drug2\": \"Phenylephrine\", \"smiles2\": \"CNC[C@H](O)C1=CC(O)=CC=C1\"}}\n",
      "Result: Ritonavir may increase the antipsychotic activitie...\n",
      "Result: Ritonavir may increase the antipsychotic activitie...\n",
      "Result: Phentermine may increase the antipsychotic activitie...\n",
      "Result: Mirtazapine may increase the antipsychotic activitie...\n"
     ]
    }
   ],
   "source": [
    "# define the API local end-point\n",
    "\n",
    "url = 'http://0.0.0.0:8000/predict'\n",
    "\n",
    "call_api(url,data=test_cases)\n"
   ]
  },
  {
   "cell_type": "markdown",
   "metadata": {},
   "source": [
    "# run the API from Docker container\n",
    "- Shutdown the previous API\n",
    "- Build the Docker Container\n",
    "    \n",
    "```bash\n",
    "docker build -t heart_disease_app .\n",
    "```\n",
    "\n",
    "- Once the image is built, you can run the Docker container using:\n",
    "\n",
    "```bash\n",
    "docker run -p 8000:8000 heart_disease_app\n",
    "```\n",
    "\n",
    "- Repeat the API test cases"
   ]
  },
  {
   "cell_type": "code",
   "execution_count": 26,
   "metadata": {},
   "outputs": [
    {
     "name": "stdout",
     "output_type": "stream",
     "text": [
      "Payload: {\"839\": {\"drug1\": \"Ritonavir\", \"smiles1\": \"CC(C)[C@H](NC(=O)N(C)CC1=CSC(=N1)C(C)C)C(=O)N[C@H](C[C@H](O)[C@H](CC1=CC=CC=C1)NC(=O)OCC1=CN=CS1)CC1=CC=CC=C1\", \"drug2\": \"Formoterol\", \"smiles2\": \"COC1=CC=C(CC(C)NCC(O)C2=CC(NC=O)=C(O)C=C2)C=C1\"}, \"1781\": {\"drug1\": \"Ritonavir\", \"smiles1\": \"CC(C)[C@H](NC(=O)N(C)CC1=CSC(=N1)C(C)C)C(=O)N[C@H](C[C@H](O)[C@H](CC1=CC=CC=C1)NC(=O)OCC1=CN=CS1)CC1=CC=CC=C1\", \"drug2\": \"Olodaterol\", \"smiles2\": \"COC1=CC=C(CC(C)(C)NC[C@H](O)C2=C3OCC(=O)NC3=CC(O)=C2)C=C1\"}, \"61\": {\"drug1\": \"Phentermine\", \"smiles1\": \"CC(C)(N)CC1=CC=CC=C1\", \"drug2\": \"Brexpiprazole\", \"smiles2\": \"O=C1NC2=CC(OCCCCN3CCN(CC3)C3=C4C=CSC4=CC=C3)=CC=C2C=C1\"}, \"85\": {\"drug1\": \"Mirtazapine\", \"smiles1\": \"CN1CCN2C(C1)C1=CC=CC=C1CC1=C2N=CC=C1\", \"drug2\": \"Phenylephrine\", \"smiles2\": \"CNC[C@H](O)C1=CC(O)=CC=C1\"}}\n",
      "Result: Ritonavir may increase the antipsychotic activitie...\n",
      "Result: Ritonavir may increase the antipsychotic activitie...\n",
      "Result: Phentermine may increase the antipsychotic activitie...\n",
      "Result: Mirtazapine may increase the antipsychotic activitie...\n"
     ]
    }
   ],
   "source": [
    "# this should call the API from the container\n",
    "call_api(url,data=test_cases)"
   ]
  },
  {
   "cell_type": "markdown",
   "metadata": {},
   "source": [
    "## Azure Function - Cloud Deployment"
   ]
  },
  {
   "cell_type": "code",
   "execution_count": 35,
   "metadata": {},
   "outputs": [
    {
     "name": "stdout",
     "output_type": "stream",
     "text": [
      "Payload: {\"839\": {\"drug1\": \"Ritonavir\", \"smiles1\": \"CC(C)[C@H](NC(=O)N(C)CC1=CSC(=N1)C(C)C)C(=O)N[C@H](C[C@H](O)[C@H](CC1=CC=CC=C1)NC(=O)OCC1=CN=CS1)CC1=CC=CC=C1\", \"drug2\": \"Formoterol\", \"smiles2\": \"COC1=CC=C(CC(C)NCC(O)C2=CC(NC=O)=C(O)C=C2)C=C1\"}, \"1781\": {\"drug1\": \"Ritonavir\", \"smiles1\": \"CC(C)[C@H](NC(=O)N(C)CC1=CSC(=N1)C(C)C)C(=O)N[C@H](C[C@H](O)[C@H](CC1=CC=CC=C1)NC(=O)OCC1=CN=CS1)CC1=CC=CC=C1\", \"drug2\": \"Olodaterol\", \"smiles2\": \"COC1=CC=C(CC(C)(C)NC[C@H](O)C2=C3OCC(=O)NC3=CC(O)=C2)C=C1\"}, \"61\": {\"drug1\": \"Phentermine\", \"smiles1\": \"CC(C)(N)CC1=CC=CC=C1\", \"drug2\": \"Brexpiprazole\", \"smiles2\": \"O=C1NC2=CC(OCCCCN3CCN(CC3)C3=C4C=CSC4=CC=C3)=CC=C2C=C1\"}, \"85\": {\"drug1\": \"Mirtazapine\", \"smiles1\": \"CN1CCN2C(C1)C1=CC=CC=C1CC1=C2N=CC=C1\", \"drug2\": \"Phenylephrine\", \"smiles2\": \"CNC[C@H](O)C1=CC(O)=CC=C1\"}}\n",
      "Result: Ritonavir may increase the antipsychotic activitie...\n",
      "Result: Ritonavir may increase the antipsychotic activitie...\n",
      "Result: Phentermine may increase the antipsychotic activitie...\n",
      "Result: Mirtazapine may increase the antipsychotic activitie...\n"
     ]
    }
   ],
   "source": [
    "# run the function locally\n",
    "url = 'http://localhost:7071/api/predict'\n",
    "call_api(url,data=test_cases)"
   ]
  },
  {
   "cell_type": "code",
   "execution_count": 37,
   "metadata": {},
   "outputs": [
    {
     "name": "stdout",
     "output_type": "stream",
     "text": [
      "Results: [{'risk_score': 0.1065, 'risk_label': 'none'}, {'risk_score': 0.3642, 'risk_label': 'low'}, {'risk_score': 0.0504, 'risk_label': 'none'}]\n"
     ]
    }
   ],
   "source": [
    "# run the function in Azure\n",
    "url = 'https://ozkary-ai-ddi.azurewebsites.net/api/predict'\n",
    "\n",
    "call_api(url,data=test_cases)"
   ]
  }
 ],
 "metadata": {
  "kernelspec": {
   "display_name": "Python 3",
   "language": "python",
   "name": "python3"
  },
  "language_info": {
   "codemirror_mode": {
    "name": "ipython",
    "version": 3
   },
   "file_extension": ".py",
   "mimetype": "text/x-python",
   "name": "python",
   "nbconvert_exporter": "python",
   "pygments_lexer": "ipython3",
   "version": "3.8.10"
  }
 },
 "nbformat": 4,
 "nbformat_minor": 2
}
