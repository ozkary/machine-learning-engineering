{
 "cells": [
  {
   "cell_type": "markdown",
   "metadata": {},
   "source": [
    "# Drug to Drug Interaction - Control File Processor\n",
    "\n",
    "> Use this file to create a control files from the data source\n",
    "\n",
    "Control files are used to test the models."
   ]
  },
  {
   "cell_type": "code",
   "execution_count": null,
   "metadata": {},
   "outputs": [],
   "source": [
    "import numpy as np\n",
    "import pandas as pd\n",
    "\n",
    "df = pd.read_csv('./data/Neuron_input.csv')"
   ]
  },
  {
   "cell_type": "code",
   "execution_count": null,
   "metadata": {},
   "outputs": [],
   "source": [
    "# select 5 rows from the dataframe with unique Y values and keep the first row of each group\n",
    "df_group = df.groupby('Y', as_index=False).first().head(500)\n",
    "# print(df.head())\n",
    "\n",
    "# load all the valid drug names from a tab delimited file\n",
    "df_drugs = pd.read_csv('./data/Approved_drug_Information.txt', sep='\\t', header=None)\n",
    "\n",
    "# join df (Drug1_ID, Drug2_ID) with df_drugs (0)  to get the drug names \n",
    "df_drugs_names = df_drugs[[0, 1]]\n",
    "df_drugs_names.columns = ['drug_id', 'name']\n",
    "\n",
    "# join two dataframes df (Drug1_ID, Drug2_ID) with df_drugs_names drug_id  to get the drug name\n",
    "df_drugs_names = df_drugs_names.set_index('drug_id')\n",
    "\n",
    "# join the drug names with the drug1_id and drug2_id and rename the columns to avoid conflicts \n",
    "df_join = df_group.join(df_drugs_names, on='Drug1_ID', rsuffix='_1')\n",
    "df_join = df_join.join(df_drugs_names, on='Drug2_ID', rsuffix='_2')\n",
    "df_join.rename(columns={'name': 'name_1'}, inplace=True)\n",
    "print(df_join.columns)\n"
   ]
  },
  {
   "cell_type": "code",
   "execution_count": null,
   "metadata": {},
   "outputs": [],
   "source": [
    "\n",
    "# remove all the rows with null and None values\n",
    "df_cleaned = df_join.dropna()\n",
    "print(df_cleaned.head())\n",
    "\n",
    "# select all rows with valid name and name_2 \n",
    "df_cleaned = df_cleaned.loc[(df_cleaned['name_1'].notnull()) & (df_cleaned['name_2'].notnull())]\n",
    "print(df_cleaned.head())\n"
   ]
  },
  {
   "cell_type": "code",
   "execution_count": null,
   "metadata": {},
   "outputs": [],
   "source": [
    "df_unique_set = df_cleaned.drop_duplicates()\n",
    "\n",
    "# set all columns to lowercase and replace spaces with underscore\n",
    "df_unique_set.columns = map(str.lower, df_unique_set.columns)\n",
    "\n",
    "#rename y column to ddi_type\n",
    "df_unique_set.rename(columns={'y': 'ddi_type'}, inplace=True)\n",
    "\n",
    "print(df_unique_set.head(10))\n",
    "\n",
    "# get a set of test cases using only name_1, drug1, drug2 and name_2\n",
    "df_test_cases = df_unique_set[['name_1', 'drug1', 'drug2', 'name_2']]\n",
    "df_test_cases.columns = ['drug1', 'smiles_1', 'drug2', 'smiles_2']\n",
    "\n",
    "#save to csv\n",
    "df_test_cases.to_csv('./data/test_cases_complete.csv', index=False)\n"
   ]
  },
  {
   "cell_type": "code",
   "execution_count": null,
   "metadata": {},
   "outputs": [],
   "source": [
    "# calculate the ssp for each row and add a new column to the dataframe\n",
    "\n",
    "# df_unique_set['ssp'] = df_unique_set.copy().apply(lambda row: predictor.calculate_ssp(row['drug1'], row['drug2']), axis=1)\n",
    "# add the ssp column to the dataframe\n",
    "\n",
    "# print(df_unique_set.head(10))\n",
    "\n",
    "# select all the rows with ssp > 0\n",
    "df_ssp = df_unique_set.loc[df_unique_set['ssp'] > 0]\n",
    "print(df_ssp.head(10))\n",
    "\n",
    "# save this file to a csv file\n",
    "df_ssp.to_csv('./data/control_features.csv', index=False)\n"
   ]
  }
 ],
 "metadata": {
  "kernelspec": {
   "display_name": "Python 3",
   "language": "python",
   "name": "python3"
  },
  "language_info": {
   "name": "python",
   "version": "3.8.10"
  }
 },
 "nbformat": 4,
 "nbformat_minor": 2
}
