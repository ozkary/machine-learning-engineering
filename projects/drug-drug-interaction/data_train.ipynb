{
 "cells": [
  {
   "cell_type": "markdown",
   "metadata": {},
   "source": [
    "# Drug to Drug Interaction (DDI) - Model Training"
   ]
  },
  {
   "cell_type": "markdown",
   "metadata": {},
   "source": [
    "- Load the ./data/ssp_interaction_type.csv.gz\n",
    "- Process the features\n",
    "  - Set the categorical features names\n",
    "  - Set the numeric features names  \n",
    "  - Set the target variable\n",
    "- Split the data\n",
    "  - train/validation/test split with 60%/20%/20% distribution.\n",
    "  - Random_state 42\n",
    "  - Use strategy = y to deal with the class imbalanced problem\n",
    "- Train the model\n",
    "  - LogisticRegression\n",
    "  - RandomForestClassifier\n",
    "  - XGBClassifier\n",
    "  - DecisionTreeClassifier\n",
    "- Evaluate the models and compare them\n",
    "  - accuracy_score\n",
    "  - precision_score\n",
    "  - recall_score\n",
    "  - f1_score\n",
    "- Export the code to ddi_lib\n",
    "  - data_train.py"
   ]
  },
  {
   "cell_type": "code",
   "execution_count": 63,
   "metadata": {},
   "outputs": [],
   "source": [
    "import os\n",
    "import pandas as pd\n",
    "import numpy as np\n",
    "import matplotlib.pyplot as plt\n",
    "import seaborn as sns\n",
    "from sklearn.metrics import precision_score, recall_score, accuracy_score, f1_score\n",
    "from sklearn.model_selection import train_test_split\n",
    "\n",
    "from sklearn.preprocessing import StandardScaler\n",
    "from sklearn.feature_extraction import DictVectorizer\n",
    "\n",
    "from sklearn.linear_model import LogisticRegression\n",
    "from sklearn.ensemble import RandomForestClassifier\n",
    "from xgboost import XGBClassifier\n",
    "from sklearn.tree import DecisionTreeClassifier\n",
    "from sklearn.metrics import confusion_matrix\n",
    "import pickle\n",
    "\n"
   ]
  },
  {
   "cell_type": "code",
   "execution_count": null,
   "metadata": {},
   "outputs": [],
   "source": [
    "class DDIModelFactory():\n",
    "    \"\"\"\n",
    "    Factory class for DDI prediction model    \n",
    "    \"\"\"    \n",
    "\n",
    "    def __init__(self, categorical_features, numeric_features):\n",
    "        # Initialize the preprocessing transformers\n",
    "        self.scaler = StandardScaler()        \n",
    "        self.encoder = DictVectorizer(sparse=False)\n",
    "\n",
    "        self.numeric_features = numeric_features\n",
    "        self.categorical_features = categorical_features\n",
    "        \n",
    "        self.models = None\n",
    "        self.model = None\n",
    "\n",
    "    def preprocess_data(self, X, is_training=True):      \n",
    "        \"\"\"\n",
    "        Preprocess the data for training or validation\n",
    "        \"\"\"  \n",
    "        X_dict = X.to_dict(orient='records')\n",
    "        \n",
    "        if is_training:\n",
    "            X_std = self.encoder.fit_transform(X_dict)        \n",
    "        else:\n",
    "            X_std = self.encoder.transform(X_dict)\n",
    "            \n",
    "        print(f'Preprocess X shape {X.shape} training {is_training}')   \n",
    "        # Return the standardized features and target variable\n",
    "        return X_std\n",
    "    \n",
    "    def preprocess_target(self, y):\n",
    "        \"\"\"\n",
    "        Preprocess the target variable to make sure the data starts from 0 and is continuous\n",
    "        The target range starts at 1, so we need to subtract 1 from the target variable\n",
    "        \"\"\"\n",
    "        # encode the target variable\n",
    "        min = y.min()\n",
    "        max = y.max()\n",
    "        y_encoded = y\n",
    "        \n",
    "        if min != 0:\n",
    "            print('Min target value is not 0, encoding  y - 1')\n",
    "            y_encoded = y - 1\n",
    "\n",
    "        return y_encoded\n",
    "        \n",
    "    def train(self, X_train, y_train, reset=False, random_state=42, reg=10, estimators=100, depth=5):\n",
    "        \"\"\"\n",
    "         Train the models\n",
    "        \"\"\"        \n",
    "        if self.models is None or reset:\n",
    "            self.models = {                \n",
    "                'random_forest': RandomForestClassifier(n_estimators=estimators, max_depth=5, random_state=random_state, n_jobs=-1),\n",
    "                'xgboost': XGBClassifier(n_estimators=estimators, max_depth=depth, random_state=random_state, n_jobs=-1),                \n",
    "                'decision_tree': DecisionTreeClassifier(max_depth=depth, random_state=random_state)\n",
    "            }\n",
    "        \n",
    "        for model in self.models.keys():\n",
    "            print('Training model', model)\n",
    "            self.models[model].fit(X_train, y_train)            \n",
    "\n",
    "    def evaluate(self, X_val, y_val, average='macro'):\n",
    "        \"\"\"\n",
    "        Evaluate the model on the validation data set and return the metrics\n",
    "        \"\"\"\n",
    "\n",
    "        # create a dataframe to store the metrics\n",
    "        df_metrics = pd.DataFrame(columns=['model', 'accuracy', 'precision', 'recall', 'f1', 'y_pred'])\n",
    "\n",
    "        # define the metrics to be calculated\n",
    "        fn_metrics = { 'accuracy': accuracy_score,'precision': precision_score,'recall': recall_score,'f1': f1_score}\n",
    "\n",
    "        # loop through the models and get its metrics\n",
    "        for model_name in self.models.keys():\n",
    "            \n",
    "            model = self.models[model_name]\n",
    "            y_pred = model.predict(X_val)\n",
    "                        \n",
    "            # add a new row to the dataframe for each model            \n",
    "            df_metrics.loc[len(df_metrics)] = [model_name, 0, 0, 0, 0, y_pred]\n",
    "\n",
    "            # get the row index\n",
    "            row_index = len(df_metrics)-1\n",
    "\n",
    "            # Evaluate the model metrics\n",
    "            for metric in fn_metrics.keys():\n",
    "\n",
    "                # determine which metrics call and use the corresponding average and zero_division parameters\n",
    "                score = 0\n",
    "                                \n",
    "                if metric == 'accuracy':\n",
    "                    score = fn_metrics[metric](y_val, y_pred)\n",
    "                elif metric == 'precision':\n",
    "                    score = fn_metrics[metric](y_val, y_pred, average=average, zero_division=0)                                \n",
    "                else:\n",
    "                    score = fn_metrics[metric](y_val, y_pred, average=average)\n",
    "                                \n",
    "                df_metrics.at[row_index,metric] = score\n",
    "                \n",
    "        return df_metrics\n",
    "\n",
    "    def save(self, model_name, path='./models/'):\n",
    "        \"\"\"\n",
    "        Save the model\n",
    "        \"\"\"        \n",
    "        # get the model and the dictionary vectorizer        \n",
    "        model = self.models[model_name]\n",
    "        encoder = self.encoder\n",
    "\n",
    "        # Save the model to a file        \n",
    "        xgb_model_filename = f'{path}_{model_name}.pkl.bin'        \n",
    "        with open(xgb_model_filename, 'wb') as model_file:\n",
    "            pickle.dump(model, model_file)\n",
    "\n",
    "        print(f'Saved model to {xgb_model_filename}')\n",
    "        # Save the encoder to a file\n",
    "        dv_filename = f'{path}_encoder.pkl.bin'\n",
    "        with open(dv_filename, 'wb') as dv_file:\n",
    "            pickle.dump(encoder, dv_file)\n",
    "            \n",
    "        print(f'Saved encoder to {dv_filename}')\n",
    "            \n",
    "    def predict(self,model_name, X_val):\n",
    "        \"\"\"\n",
    "        Predict the target variable on the validation data set and return the predictions\n",
    "        \"\"\"        \n",
    "        model = self.models[model_name]\n",
    "        probs = model.predict(X_val)\n",
    "        return probs\n"
   ]
  },
  {
   "cell_type": "code",
   "execution_count": null,
   "metadata": {},
   "outputs": [],
   "source": [
    "class DDIProcessData():\n",
    "    \"\"\"\n",
    "    Class to hold the training data for the DDI project\n",
    "    \"\"\"\n",
    "\n",
    "    def __init__(self, df, target_variable='interaction_type'):\n",
    "        self.df = df\n",
    "        self.X = None\n",
    "        self.y = None\n",
    "        self.target_variable = target_variable\n",
    "        self.categorical_features = None\n",
    "        self.numerical_features = None\n",
    "        # list of all features\n",
    "        self.all_features = None\n",
    "   \n",
    "    def process_features(self):\n",
    "        \"\"\"\n",
    "        Process the features for the model\n",
    "        \"\"\"        \n",
    "        # get the features\n",
    "        self.categorical_features = list(self.df.select_dtypes(include=['object']).columns)\n",
    "        self.numerical_features = list(self.df.select_dtypes(include=[np.number]).columns)\n",
    "\n",
    "        # remove the target feature from the list of numeric features\n",
    "        if self.target_variable in self.numerical_features:\n",
    "            self.numerical_features.remove(self.target_variable)\n",
    "\n",
    "        print('Categorical features',self.categorical_features)\n",
    "        print('Numerical features',self.numerical_features)\n",
    "        print('Target feature',self.target_variable)\n",
    "\n",
    "        # create a list of all features\n",
    "        self.all_features = self.categorical_features + self.numerical_features\n",
    "                \n",
    "        return self.categorical_features, self.numerical_features\n",
    "    \n",
    "    def split_data(self, test_size=0.2, random_state=42):\n",
    "        \"\"\"\n",
    "        Split the data into training and validation sets\n",
    "        \"\"\"\n",
    "        # split the data in train/val/test sets, with 60%/20%/20% distribution with seed 1\n",
    "        X = self.df[self.all_features]\n",
    "        y = self.df[self.target_variable]\n",
    "        X_full_train, X_test, y_full_train, y_test = train_test_split(X, y, test_size=test_size, random_state=random_state, stratify=y)\n",
    "\n",
    "        # .25 splits the 80% train into 60% train and 20% val\n",
    "        X_train, X_val, y_train, y_val  = train_test_split(X_full_train, y_full_train, test_size=0.25, random_state=random_state)\n",
    "\n",
    "        X_train = X_train.reset_index(drop=True)\n",
    "        X_val = X_val.reset_index(drop=True)\n",
    "        y_train = y_train.reset_index(drop=True)\n",
    "        y_val = y_val.reset_index(drop=True)\n",
    "        X_test = X_test.reset_index(drop=True)\n",
    "        y_test = y_test.reset_index(drop=True)\n",
    "\n",
    "        # print the shape of all the data splits\n",
    "        print('X_train shape', X_train.shape)\n",
    "        print('X_val shape', X_val.shape)\n",
    "        print('X_test shape', X_test.shape)\n",
    "        print('y_train shape', y_train.shape)\n",
    "        print('y_val shape', y_val.shape)\n",
    "        print('y_test shape', y_test.shape)\n",
    "        \n",
    "        return X_train, X_val, y_train, y_val, X_test, y_test\n",
    "    \n",
    "    def preprocess_target(self, y):\n",
    "        \"\"\"\n",
    "        Preprocess the target variable to make sure the data starts from 0 and is continuous\n",
    "        The target range starts at 1, so we need to subtract 1 from the target variable\n",
    "        \"\"\"\n",
    "        # encode the target variable\n",
    "        min = y.min()\n",
    "        max = y.max()\n",
    "        y_encoded = y\n",
    "        \n",
    "        if min != 0:\n",
    "            print('Min target value is not 0, encoding  y - 1')\n",
    "            y_encoded = y - 1\n",
    "\n",
    "        return y_encoded"
   ]
  },
  {
   "cell_type": "code",
   "execution_count": 21,
   "metadata": {},
   "outputs": [
    {
     "name": "stdout",
     "output_type": "stream",
     "text": [
      "Must run data_analysis.ipynb first to generate the csv file\n",
      "<class 'pandas.core.frame.DataFrame'>\n",
      "RangeIndex: 191808 entries, 0 to 191807\n",
      "Columns: 102 entries, interaction_type to ssp\n",
      "dtypes: float64(101), int64(1)\n",
      "memory usage: 149.3 MB\n",
      "None\n",
      "   interaction_type       pc_1      pc_2      pc_3      pc_4      pc_5  \\\n",
      "0                 1  -0.725865 -2.660013  0.615662 -0.113241 -0.314912   \n",
      "1                 1   3.253956 -1.657897  3.332491 -2.052966  1.058092   \n",
      "2                 1  14.490078 -0.097631 -0.825958  0.958193 -1.082541   \n",
      "3                 1  -2.079264 -3.947373  0.046811  0.149965  0.972238   \n",
      "4                 1  -3.772882 -1.382200  0.473197  1.936360 -1.428736   \n",
      "\n",
      "       pc_6      pc_7      pc_8      pc_9  ...     pc_92    pc_93     pc_94  \\\n",
      "0  0.455645  0.239571  0.260137 -0.500869  ...  0.071103  0.05747  0.015822   \n",
      "1 -1.260568 -0.678726 -0.485720 -0.688462  ...  0.071103  0.05747  0.015822   \n",
      "2 -0.180980 -0.137171 -0.611550  0.414799  ...  0.071103  0.05747  0.015822   \n",
      "3 -0.321763 -0.750719 -0.450824 -0.460912  ...  0.071103  0.05747  0.015822   \n",
      "4  0.043750 -0.036289  0.139558 -0.303286  ...  0.071103  0.05747  0.015822   \n",
      "\n",
      "      pc_95     pc_96     pc_97     pc_98     pc_99    pc_100       ssp  \n",
      "0 -0.003996 -0.054127 -0.035013 -0.065355  0.062818 -0.073674  0.091837  \n",
      "1 -0.003996 -0.054127 -0.035013 -0.065355  0.062818 -0.073674  0.093023  \n",
      "2 -0.003996 -0.054127 -0.035013 -0.065355  0.062818 -0.073674  0.012346  \n",
      "3 -0.003996 -0.054127 -0.035013 -0.065355  0.062818 -0.073674  0.069307  \n",
      "4 -0.003996 -0.054127 -0.035013 -0.065355  0.062818 -0.073674  0.043103  \n",
      "\n",
      "[5 rows x 102 columns]\n"
     ]
    }
   ],
   "source": [
    "# add a main function for the entry point to the program\n",
    "# if __name__ == '__main__':\n",
    "#     os.system('clear')\n",
    "#     print('Running main function')\n",
    "\n",
    "# open the csv file and read it into a pandas dataframe \n",
    "print('Must run data_analysis.ipynb first to generate the csv file')\n",
    "df = pd.read_csv('./data/ssp_interaction_type.csv.gz', compression='gzip')\n",
    "print(df.info())\n",
    "print(df.head())"
   ]
  },
  {
   "cell_type": "code",
   "execution_count": 25,
   "metadata": {},
   "outputs": [
    {
     "name": "stdout",
     "output_type": "stream",
     "text": [
      "Categorical features []\n",
      "Numerical features ['pc_1', 'pc_2', 'pc_3', 'pc_4', 'pc_5', 'pc_6', 'pc_7', 'pc_8', 'pc_9', 'pc_10', 'pc_11', 'pc_12', 'pc_13', 'pc_14', 'pc_15', 'pc_16', 'pc_17', 'pc_18', 'pc_19', 'pc_20', 'pc_21', 'pc_22', 'pc_23', 'pc_24', 'pc_25', 'pc_26', 'pc_27', 'pc_28', 'pc_29', 'pc_30', 'pc_31', 'pc_32', 'pc_33', 'pc_34', 'pc_35', 'pc_36', 'pc_37', 'pc_38', 'pc_39', 'pc_40', 'pc_41', 'pc_42', 'pc_43', 'pc_44', 'pc_45', 'pc_46', 'pc_47', 'pc_48', 'pc_49', 'pc_50', 'pc_51', 'pc_52', 'pc_53', 'pc_54', 'pc_55', 'pc_56', 'pc_57', 'pc_58', 'pc_59', 'pc_60', 'pc_61', 'pc_62', 'pc_63', 'pc_64', 'pc_65', 'pc_66', 'pc_67', 'pc_68', 'pc_69', 'pc_70', 'pc_71', 'pc_72', 'pc_73', 'pc_74', 'pc_75', 'pc_76', 'pc_77', 'pc_78', 'pc_79', 'pc_80', 'pc_81', 'pc_82', 'pc_83', 'pc_84', 'pc_85', 'pc_86', 'pc_87', 'pc_88', 'pc_89', 'pc_90', 'pc_91', 'pc_92', 'pc_93', 'pc_94', 'pc_95', 'pc_96', 'pc_97', 'pc_98', 'pc_99', 'pc_100', 'ssp']\n",
      "Target feature interaction_type\n"
     ]
    }
   ],
   "source": [
    "# Process the features\n",
    "target_variable = 'interaction_type'\n",
    "\n",
    "# create an instance of the DDIProcessData class to process the data\n",
    "train_data = DDIProcessData(df, target_variable=target_variable)\n",
    "\n",
    "# get the features and target series\n",
    "cat_features, num_features = train_data.process_features()\n"
   ]
  },
  {
   "cell_type": "code",
   "execution_count": 26,
   "metadata": {},
   "outputs": [
    {
     "name": "stdout",
     "output_type": "stream",
     "text": [
      "X_train shape (115084, 101)\n",
      "X_val shape (38362, 101)\n",
      "X_test shape (38362, 101)\n",
      "y_train shape (115084,)\n",
      "y_val shape (38362,)\n",
      "y_test shape (38362,)\n",
      "       pc_1      pc_2      pc_3      pc_4      pc_5      pc_6      pc_7  \\\n",
      "0 -4.474871 -1.420015  0.386037  2.157895 -1.428521 -0.066201 -0.213543   \n",
      "1 -4.707394  0.533446  1.415538 -0.247122 -0.708595  0.599160  0.509179   \n",
      "2 -1.410837 -0.828310  0.788593 -1.445569  0.743267 -0.829015  0.776411   \n",
      "3 -1.950339  3.424931 -0.597613  1.105325  0.913297  0.362010  0.165745   \n",
      "4 -1.500347 -2.907609  1.796562 -1.088626  0.603406  1.460407 -0.478001   \n",
      "\n",
      "       pc_8      pc_9     pc_10  ...     pc_92     pc_93     pc_94     pc_95  \\\n",
      "0  0.149528 -0.397332 -0.201503  ... -0.155556  0.078033  0.105660  0.006252   \n",
      "1  0.326951  0.590208  0.243947  ...  0.136711 -0.006834  0.203448  0.127883   \n",
      "2 -0.419093  0.826265 -0.236162  ...  0.056998 -0.030566  0.064489  0.080340   \n",
      "3  0.025645 -0.317981  0.203119  ... -0.025481 -0.035118  0.055954 -0.033530   \n",
      "4  0.832299  0.264726 -0.286911  ... -0.031816  0.032665 -0.126011 -0.081635   \n",
      "\n",
      "      pc_96     pc_97     pc_98     pc_99    pc_100       ssp  \n",
      "0 -0.074045  0.030296  0.030659 -0.061065 -0.027411  0.121622  \n",
      "1 -0.040144 -0.004844 -0.100067 -0.001793  0.184363  0.116279  \n",
      "2  0.085814 -0.035716 -0.044979 -0.025626 -0.058755  0.082353  \n",
      "3 -0.053929  0.260959 -0.049181  0.113010 -0.199113  0.091954  \n",
      "4 -0.003313 -0.056536  0.082482  0.071403 -0.003002  0.117647  \n",
      "\n",
      "[5 rows x 101 columns]\n"
     ]
    }
   ],
   "source": [
    "# split the data in train/val/test sets\n",
    "# use 60%/20%/20% distribution with seed 1\n",
    "# use stratified sampling to ensure the distribution of the target feature is the same in all sets\n",
    "X_train, X_val, y_train, y_val, X_test, y_test = train_data.split_data(test_size=0.2, random_state=42)\n",
    "\n",
    "print(X_train.head())"
   ]
  },
  {
   "cell_type": "code",
   "execution_count": 31,
   "metadata": {},
   "outputs": [
    {
     "name": "stdout",
     "output_type": "stream",
     "text": [
      "Preprocess X shape (115084, 101) training True\n",
      "Preprocess X shape (38362, 101) training False\n",
      "Min target value is not 0, encoding  y - 1\n"
     ]
    }
   ],
   "source": [
    "# hot encode the categorical features for the train data\n",
    "model_factory = DDIModelFactory(cat_features, num_features)\n",
    "X_train_std = model_factory.preprocess_data(X_train[cat_features + num_features], True)\n",
    "\n",
    "# hot encode the categorical features for the validation data\n",
    "X_val_std = model_factory.preprocess_data(X_val[cat_features + num_features], False)\n",
    "\n",
    "# preprocess the target variable\n",
    "y_train_encoded = model_factory.preprocess_target(y_train)\n"
   ]
  },
  {
   "cell_type": "code",
   "execution_count": 32,
   "metadata": {},
   "outputs": [
    {
     "name": "stdout",
     "output_type": "stream",
     "text": [
      "Training model random_forest\n",
      "Training model xgboost\n",
      "Training model decision_tree\n"
     ]
    }
   ],
   "source": [
    "# train the models\n",
    "model_factory.train(X_train_std, y_train_encoded)\n"
   ]
  },
  {
   "cell_type": "code",
   "execution_count": 34,
   "metadata": {},
   "outputs": [
    {
     "name": "stdout",
     "output_type": "stream",
     "text": [
      "Min target value is not 0, encoding  y - 1\n",
      "Min target value is not 0, encoding  y - 1\n"
     ]
    },
    {
     "data": {
      "text/html": [
       "<div>\n",
       "<style scoped>\n",
       "    .dataframe tbody tr th:only-of-type {\n",
       "        vertical-align: middle;\n",
       "    }\n",
       "\n",
       "    .dataframe tbody tr th {\n",
       "        vertical-align: top;\n",
       "    }\n",
       "\n",
       "    .dataframe thead th {\n",
       "        text-align: right;\n",
       "    }\n",
       "</style>\n",
       "<table border=\"1\" class=\"dataframe\">\n",
       "  <thead>\n",
       "    <tr style=\"text-align: right;\">\n",
       "      <th></th>\n",
       "      <th>model</th>\n",
       "      <th>accuracy</th>\n",
       "      <th>precision</th>\n",
       "      <th>recall</th>\n",
       "      <th>f1</th>\n",
       "    </tr>\n",
       "  </thead>\n",
       "  <tbody>\n",
       "    <tr>\n",
       "      <th>0</th>\n",
       "      <td>random_forest</td>\n",
       "      <td>0.436474</td>\n",
       "      <td>0.031082</td>\n",
       "      <td>0.029320</td>\n",
       "      <td>0.025582</td>\n",
       "    </tr>\n",
       "    <tr>\n",
       "      <th>1</th>\n",
       "      <td>xgboost</td>\n",
       "      <td>0.883765</td>\n",
       "      <td>0.843175</td>\n",
       "      <td>0.768203</td>\n",
       "      <td>0.794142</td>\n",
       "    </tr>\n",
       "    <tr>\n",
       "      <th>2</th>\n",
       "      <td>decision_tree</td>\n",
       "      <td>0.421381</td>\n",
       "      <td>0.070120</td>\n",
       "      <td>0.046643</td>\n",
       "      <td>0.046055</td>\n",
       "    </tr>\n",
       "  </tbody>\n",
       "</table>\n",
       "</div>"
      ],
      "text/plain": [
       "           model  accuracy  precision    recall        f1\n",
       "0  random_forest  0.436474   0.031082  0.029320  0.025582\n",
       "1        xgboost  0.883765   0.843175  0.768203  0.794142\n",
       "2  decision_tree  0.421381   0.070120  0.046643  0.046055"
      ]
     },
     "execution_count": 34,
     "metadata": {},
     "output_type": "execute_result"
    }
   ],
   "source": [
    "# Evaluate the model\n",
    "y_val_encoded = model_factory.preprocess_target(y_val)\n",
    "y_test_encoded = model_factory.preprocess_target(y_test)\n",
    "df_metrics = model_factory.evaluate(X_val_std, y_val_encoded, average='macro')\n",
    "\n",
    "# print the metrics\n",
    "df_metrics[['model','accuracy', 'precision', 'recall', 'f1']].head()\n"
   ]
  },
  {
   "cell_type": "code",
   "execution_count": 36,
   "metadata": {},
   "outputs": [
    {
     "name": "stdout",
     "output_type": "stream",
     "text": [
      "Training model random_forest\n",
      "Training model xgboost\n",
      "Training model decision_tree\n"
     ]
    }
   ],
   "source": [
    "# fine tune the model hyperparameters\n",
    "model_factory.train(X_train_std, y_train_encoded, reset=True, estimators=150, depth=7)\n"
   ]
  },
  {
   "cell_type": "code",
   "execution_count": 37,
   "metadata": {},
   "outputs": [
    {
     "data": {
      "text/html": [
       "<div>\n",
       "<style scoped>\n",
       "    .dataframe tbody tr th:only-of-type {\n",
       "        vertical-align: middle;\n",
       "    }\n",
       "\n",
       "    .dataframe tbody tr th {\n",
       "        vertical-align: top;\n",
       "    }\n",
       "\n",
       "    .dataframe thead th {\n",
       "        text-align: right;\n",
       "    }\n",
       "</style>\n",
       "<table border=\"1\" class=\"dataframe\">\n",
       "  <thead>\n",
       "    <tr style=\"text-align: right;\">\n",
       "      <th></th>\n",
       "      <th>model</th>\n",
       "      <th>accuracy</th>\n",
       "      <th>precision</th>\n",
       "      <th>recall</th>\n",
       "      <th>f1</th>\n",
       "    </tr>\n",
       "  </thead>\n",
       "  <tbody>\n",
       "    <tr>\n",
       "      <th>0</th>\n",
       "      <td>random_forest</td>\n",
       "      <td>0.440697</td>\n",
       "      <td>0.031069</td>\n",
       "      <td>0.029685</td>\n",
       "      <td>0.025856</td>\n",
       "    </tr>\n",
       "    <tr>\n",
       "      <th>1</th>\n",
       "      <td>xgboost</td>\n",
       "      <td>0.914968</td>\n",
       "      <td>0.872246</td>\n",
       "      <td>0.777030</td>\n",
       "      <td>0.808129</td>\n",
       "    </tr>\n",
       "    <tr>\n",
       "      <th>2</th>\n",
       "      <td>decision_tree</td>\n",
       "      <td>0.483916</td>\n",
       "      <td>0.143749</td>\n",
       "      <td>0.075598</td>\n",
       "      <td>0.077136</td>\n",
       "    </tr>\n",
       "  </tbody>\n",
       "</table>\n",
       "</div>"
      ],
      "text/plain": [
       "           model  accuracy  precision    recall        f1\n",
       "0  random_forest  0.440697   0.031069  0.029685  0.025856\n",
       "1        xgboost  0.914968   0.872246  0.777030  0.808129\n",
       "2  decision_tree  0.483916   0.143749  0.075598  0.077136"
      ]
     },
     "execution_count": 37,
     "metadata": {},
     "output_type": "execute_result"
    }
   ],
   "source": [
    "df_metrics_hyp = model_factory.evaluate(X_val_std, y_val_encoded, average='macro')\n",
    "\n",
    "# print the metrics with adjusted hyperparameters\n",
    "df_metrics_hyp[['model','accuracy', 'precision', 'recall', 'f1']].head()\n"
   ]
  },
  {
   "cell_type": "code",
   "execution_count": 41,
   "metadata": {},
   "outputs": [],
   "source": [
    "def build_compare_metrics(df_metrics):\n",
    "  # visualize the metrics\n",
    "  df_metrics.sort_values(by='accuracy', ascending=False, inplace=True)\n",
    "  # Define the models, metrics, and corresponding scores\n",
    "  models = df_metrics['model']\n",
    "  metrics =['accuracy', 'precision', 'recall', 'f1']\n",
    "  scores = df_metrics_hyp[['accuracy', 'precision', 'recall', 'f1']]\n",
    "\n",
    "  # Set the positions for the models\n",
    "  model_positions = np.arange(len(models))\n",
    "\n",
    "  # Define the width of each bar group\n",
    "  bar_width = 0.15\n",
    "\n",
    "  # Create a grouped bar chart\n",
    "  plt.figure(figsize=(10, 6))\n",
    "\n",
    "  for i, metric in enumerate(metrics):\n",
    "      plt.barh(model_positions + i * bar_width, scores[metric.lower()], bar_width, label=metric)\n",
    "\n",
    "        # Add score labels over the bars\n",
    "      for index, row in df_metrics.iterrows():\n",
    "          score = row[metric.lower()]\n",
    "          plt.text(score, index, f'{score:.3f}', va='top', ha='center', fontsize=9)\n",
    "\n",
    "  # Customize the chart\n",
    "  plt.yticks(model_positions, models)\n",
    "  plt.xlabel('Score')\n",
    "  plt.ylabel('ML Models')\n",
    "  plt.title('Model Comparison for Drug-Drug Interaction (DDI) Prediction')\n",
    "  plt.legend(loc='upper right')\n",
    "\n",
    "  plt.savefig('./images/ozkary-ml-ddi-model-evaluation.png')"
   ]
  },
  {
   "cell_type": "code",
   "execution_count": 43,
   "metadata": {},
   "outputs": [
    {
     "data": {
      "image/png": "[encoded data removed]",
      "text/plain": [
       "<Figure size 1000x600 with 1 Axes>"
      ]
     },
     "metadata": {},
     "output_type": "display_data"
    }
   ],
   "source": [
    "# compare the metrics\n",
    "build_compare_metrics(df_metrics_hyp)"
   ]
  },
  {
   "cell_type": "code",
   "execution_count": 51,
   "metadata": {},
   "outputs": [],
   "source": [
    "def build_confusion_matrix(df_metrics, y_val):\n",
    "    cms = []\n",
    "    model_names = []\n",
    "    total_samples = []\n",
    "\n",
    "    # Create a 2x2 grid of subplots\n",
    "    fig, axes = plt.subplots(2, 2, figsize=(10, 10))\n",
    "\n",
    "    for i, model_name in enumerate(df_metrics['model']):\n",
    "        y_pred = df_metrics[df_metrics['model'] == model_name]['y_pred'].iloc[0]\n",
    "\n",
    "        # Compute the confusion matrix\n",
    "        cm = confusion_matrix(y_val, y_pred)\n",
    "        cms.append(cm)\n",
    "        model_names.append(model_name)\n",
    "        total_samples.append(np.sum(cm))\n",
    "\n",
    "        # Plot the confusion matrix on the corresponding subplot\n",
    "        ax = axes[i // 2, i % 2]\n",
    "        im = ax.imshow(cm, interpolation='nearest', cmap=plt.cm.Blues)\n",
    "        ax.figure.colorbar(im, ax=ax, shrink=0.6)\n",
    "\n",
    "        # Loop to annotate each quadrant with its count\n",
    "        for row in range(cm.shape[0]):\n",
    "            for col in range(cm.shape[1]):\n",
    "                ax.text(col, row, str(cm[row, col]), ha=\"center\", va=\"center\", color=\"white\")\n",
    "\n",
    "        ax.set_title(f\"{model_name} - Total Samples: {total_samples[-1]}\")\n",
    "        ax.set_xlabel('Predicted', fontsize=10)\n",
    "        ax.set_ylabel('Actual', fontsize=10)\n",
    "        ax.xaxis.set_label_position('top')\n",
    "    # Adjust the layout\n",
    "    plt.tight_layout()    \n",
    "\n",
    "    plt.savefig('./images/ozkary-ml-ddi-model-confusion-matrix.png')"
   ]
  },
  {
   "cell_type": "code",
   "execution_count": 61,
   "metadata": {},
   "outputs": [
    {
     "name": "stdout",
     "output_type": "stream",
     "text": [
      "Saved model to ./models/ozkary_ddi_xgboost.pkl.bin\n",
      "Saved encoder to ./models/ozkary_ddi_encoder.pkl.bin\n"
     ]
    }
   ],
   "source": [
    "# save the xgboost model\n",
    "model_factory.save('xgboost', './models/ozkary_ddi')"
   ]
  },
  {
   "cell_type": "code",
   "execution_count": 64,
   "metadata": {},
   "outputs": [
    {
     "name": "stdout",
     "output_type": "stream",
     "text": [
      "/usr/bin/jupyter:6: DeprecationWarning: pkg_resources is deprecated as an API. See https://setuptools.pypa.io/en/latest/pkg_resources.html\n",
      "  from pkg_resources import load_entry_point\n",
      "[NbConvertApp] Converting notebook data_train.ipynb to script\n",
      "[NbConvertApp] Writing 14167 bytes to data_train.py\n"
     ]
    }
   ],
   "source": [
    "# save the notebook into a python file\n",
    "!jupyter nbconvert --to script data_train.ipynb\n",
    "# move the python file to the ddi_lib folder\n",
    "!mv data_train.py ./ddi_lib/"
   ]
  }
 ],
 "metadata": {
  "kernelspec": {
   "display_name": "Python 3",
   "language": "python",
   "name": "python3"
  },
  "language_info": {
   "codemirror_mode": {
    "name": "ipython",
    "version": 3
   },
   "file_extension": ".py",
   "mimetype": "text/x-python",
   "name": "python",
   "nbconvert_exporter": "python",
   "pygments_lexer": "ipython3",
   "version": "3.8.10"
  }
 },
 "nbformat": 4,
 "nbformat_minor": 2
}
