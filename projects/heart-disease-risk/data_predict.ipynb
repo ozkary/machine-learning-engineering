{
 "cells": [
  {
   "cell_type": "markdown",
   "metadata": {},
   "source": [
    "# Heart Disease Risk Analysis Data - Predicting Heart Disease\n",
    "\n",
    "## Importing Libraries\n",
    "- Import the model\n",
    "- Import the Dict Vectorizer"
   ]
  },
  {
   "cell_type": "code",
   "execution_count": 1,
   "metadata": {},
   "outputs": [
    {
     "name": "stdout",
     "output_type": "stream",
     "text": [
      "1.2.2\n"
     ]
    }
   ],
   "source": [
    "import pickle\n",
    "import numpy as np\n",
    "import pandas as pd\n",
    "import sklearn\n",
    "\n",
    "print(sklearn.__version__)"
   ]
  },
  {
   "cell_type": "code",
   "execution_count": 3,
   "metadata": {},
   "outputs": [],
   "source": [
    "# load the models\n",
    "model_filename = './bin/hd_xgboost_model.pkl.bin'\n",
    "dv_filename = './bin/hd_dictvectorizer.pkl.bin'\n",
    "\n",
    "# Load the model and dv from the files\n",
    "with open(model_filename, 'rb') as model_file:\n",
    "    loaded_model = pickle.load(model_file)\n",
    "\n",
    "with open(dv_filename, 'rb') as dv_file:\n",
    "    loaded_dv = pickle.load(dv_file)\n"
   ]
  },
  {
   "cell_type": "code",
   "execution_count": 6,
   "metadata": {},
   "outputs": [],
   "source": [
    "def probability_label(probability):\n",
    "    \n",
    "    labels = ['none','low', 'medium', 'high']\n",
    "    label = 'unknown'\n",
    "\n",
    "    # return the label based on the probability\n",
    "    if probability < 0.3:\n",
    "        label = labels[0]\n",
    "    elif probability < 0.50:\n",
    "        label = labels[1]\n",
    "    elif probability < 0.75:\n",
    "        label = labels[2]\n",
    "    elif probability >= 0.75:\n",
    "        label = labels[3]\n",
    "    \n",
    "    return label\n",
    "\n",
    "def predict(data):\n",
    "    # Transform the data\n",
    "    X = loaded_dv.transform(data)\n",
    "    # Predict the probability\n",
    "    y_pred = loaded_model.predict_proba(X)[:, 1]\n",
    "    \n",
    "    return y_pred\n"
   ]
  },
  {
   "cell_type": "markdown",
   "metadata": {},
   "source": [
    "## Run risks test cases\n",
    "\n",
    "- Load the models (xgboost and dictvectorizer)\n",
    "  - Load the ./bin/hd_xgboost_model.pkl.bin\n",
    "  - Load the ./bin/hd_dictvectorizer.pkl.bin\n",
    "- Load data/test_cases.csv \n",
    "  - Call Predict() for each test case\n",
    "  - Map the score to a risk label\n"
   ]
  },
  {
   "cell_type": "code",
   "execution_count": 7,
   "metadata": {},
   "outputs": [
    {
     "data": {
      "text/html": [
       "<div>\n",
       "<style scoped>\n",
       "    .dataframe tbody tr th:only-of-type {\n",
       "        vertical-align: middle;\n",
       "    }\n",
       "\n",
       "    .dataframe tbody tr th {\n",
       "        vertical-align: top;\n",
       "    }\n",
       "\n",
       "    .dataframe thead th {\n",
       "        text-align: right;\n",
       "    }\n",
       "</style>\n",
       "<table border=\"1\" class=\"dataframe\">\n",
       "  <thead>\n",
       "    <tr style=\"text-align: right;\">\n",
       "      <th></th>\n",
       "      <th>bmi</th>\n",
       "      <th>smoking</th>\n",
       "      <th>alcoholdrinking</th>\n",
       "      <th>stroke</th>\n",
       "      <th>physicalhealth</th>\n",
       "      <th>mentalhealth</th>\n",
       "      <th>diffwalking</th>\n",
       "      <th>sex</th>\n",
       "      <th>agecategory</th>\n",
       "      <th>race</th>\n",
       "      <th>diabetic</th>\n",
       "      <th>physicalactivity</th>\n",
       "      <th>genhealth</th>\n",
       "      <th>sleeptime</th>\n",
       "      <th>asthma</th>\n",
       "      <th>kidneydisease</th>\n",
       "      <th>skincancer</th>\n",
       "    </tr>\n",
       "  </thead>\n",
       "  <tbody>\n",
       "    <tr>\n",
       "      <th>0</th>\n",
       "      <td>40</td>\n",
       "      <td>0</td>\n",
       "      <td>0</td>\n",
       "      <td>0</td>\n",
       "      <td>0</td>\n",
       "      <td>0</td>\n",
       "      <td>1</td>\n",
       "      <td>Male</td>\n",
       "      <td>65-69</td>\n",
       "      <td>White</td>\n",
       "      <td>No</td>\n",
       "      <td>1</td>\n",
       "      <td>Good</td>\n",
       "      <td>10</td>\n",
       "      <td>0</td>\n",
       "      <td>0</td>\n",
       "      <td>0</td>\n",
       "    </tr>\n",
       "    <tr>\n",
       "      <th>1</th>\n",
       "      <td>34</td>\n",
       "      <td>1</td>\n",
       "      <td>0</td>\n",
       "      <td>0</td>\n",
       "      <td>30</td>\n",
       "      <td>0</td>\n",
       "      <td>1</td>\n",
       "      <td>Male</td>\n",
       "      <td>60-64</td>\n",
       "      <td>White</td>\n",
       "      <td>Yes</td>\n",
       "      <td>0</td>\n",
       "      <td>Poor</td>\n",
       "      <td>15</td>\n",
       "      <td>1</td>\n",
       "      <td>0</td>\n",
       "      <td>0</td>\n",
       "    </tr>\n",
       "    <tr>\n",
       "      <th>2</th>\n",
       "      <td>28</td>\n",
       "      <td>1</td>\n",
       "      <td>0</td>\n",
       "      <td>0</td>\n",
       "      <td>0</td>\n",
       "      <td>0</td>\n",
       "      <td>0</td>\n",
       "      <td>Female</td>\n",
       "      <td>55-59</td>\n",
       "      <td>White</td>\n",
       "      <td>No</td>\n",
       "      <td>1</td>\n",
       "      <td>Very good</td>\n",
       "      <td>5</td>\n",
       "      <td>0</td>\n",
       "      <td>0</td>\n",
       "      <td>0</td>\n",
       "    </tr>\n",
       "  </tbody>\n",
       "</table>\n",
       "</div>"
      ],
      "text/plain": [
       "   bmi  smoking  alcoholdrinking  stroke  physicalhealth  mentalhealth  \\\n",
       "0   40        0                0       0               0             0   \n",
       "1   34        1                0       0              30             0   \n",
       "2   28        1                0       0               0             0   \n",
       "\n",
       "   diffwalking     sex agecategory   race diabetic  physicalactivity  \\\n",
       "0            1    Male       65-69  White       No                 1   \n",
       "1            1    Male       60-64  White      Yes                 0   \n",
       "2            0  Female       55-59  White       No                 1   \n",
       "\n",
       "   genhealth  sleeptime  asthma  kidneydisease  skincancer  \n",
       "0       Good         10       0              0           0  \n",
       "1       Poor         15       1              0           0  \n",
       "2  Very good          5       0              0           0  "
      ]
     },
     "execution_count": 7,
     "metadata": {},
     "output_type": "execute_result"
    }
   ],
   "source": [
    "# open the test cases csv file and read it into a pandas dataframe \n",
    "df = pd.read_csv('./data/test_cases.csv', sep=',', quotechar='\"')\n",
    "\n",
    "df.head()"
   ]
  },
  {
   "cell_type": "code",
   "execution_count": 8,
   "metadata": {},
   "outputs": [
    {
     "data": {
      "text/html": [
       "<div>\n",
       "<style scoped>\n",
       "    .dataframe tbody tr th:only-of-type {\n",
       "        vertical-align: middle;\n",
       "    }\n",
       "\n",
       "    .dataframe tbody tr th {\n",
       "        vertical-align: top;\n",
       "    }\n",
       "\n",
       "    .dataframe thead th {\n",
       "        text-align: right;\n",
       "    }\n",
       "</style>\n",
       "<table border=\"1\" class=\"dataframe\">\n",
       "  <thead>\n",
       "    <tr style=\"text-align: right;\">\n",
       "      <th></th>\n",
       "      <th>risk_score</th>\n",
       "      <th>risk_label</th>\n",
       "    </tr>\n",
       "  </thead>\n",
       "  <tbody>\n",
       "    <tr>\n",
       "      <th>0</th>\n",
       "      <td>0.106512</td>\n",
       "      <td>none</td>\n",
       "    </tr>\n",
       "    <tr>\n",
       "      <th>1</th>\n",
       "      <td>0.364203</td>\n",
       "      <td>low</td>\n",
       "    </tr>\n",
       "    <tr>\n",
       "      <th>2</th>\n",
       "      <td>0.050394</td>\n",
       "      <td>none</td>\n",
       "    </tr>\n",
       "  </tbody>\n",
       "</table>\n",
       "</div>"
      ],
      "text/plain": [
       "   risk_score risk_label\n",
       "0    0.106512       none\n",
       "1    0.364203        low\n",
       "2    0.050394       none"
      ]
     },
     "execution_count": 8,
     "metadata": {},
     "output_type": "execute_result"
    }
   ],
   "source": [
    "# Predict the probability for each test case\n",
    "df['risk_score'] = predict(df.to_dict(orient='records'))\n",
    "\n",
    "# get the label for each probability\n",
    "df['risk_label'] = df['risk_score'].apply(probability_label)\n",
    "\n",
    "# print the risk score and label for each test case\n",
    "df[['risk_score', 'risk_label']].head()\n"
   ]
  },
  {
   "cell_type": "code",
   "execution_count": 1,
   "metadata": {},
   "outputs": [
    {
     "name": "stdout",
     "output_type": "stream",
     "text": [
      "/usr/bin/jupyter:6: DeprecationWarning: pkg_resources is deprecated as an API. See https://setuptools.pypa.io/en/latest/pkg_resources.html\n",
      "  from pkg_resources import load_entry_point\n",
      "[NbConvertApp] Converting notebook data_predict.ipynb to script\n",
      "[NbConvertApp] Writing 2013 bytes to data_predict.py\n"
     ]
    }
   ],
   "source": [
    "# Export this file\n",
    "!jupyter nbconvert --to script data_predict.ipynb\n"
   ]
  }
 ],
 "metadata": {
  "kernelspec": {
   "display_name": "Python 3",
   "language": "python",
   "name": "python3"
  },
  "language_info": {
   "codemirror_mode": {
    "name": "ipython",
    "version": 3
   },
   "file_extension": ".py",
   "mimetype": "text/x-python",
   "name": "python",
   "nbconvert_exporter": "python",
   "pygments_lexer": "ipython3",
   "version": "3.8.10"
  }
 },
 "nbformat": 4,
 "nbformat_minor": 2
}
