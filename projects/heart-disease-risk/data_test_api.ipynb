{
 "cells": [
  {
   "cell_type": "markdown",
   "metadata": {},
   "source": [
    "# Heart Disease Risk Analysis Data - Test the API"
   ]
  },
  {
   "cell_type": "code",
   "execution_count": 1,
   "metadata": {},
   "outputs": [],
   "source": [
    "# Make the request to make the prediction\n",
    "import requests\n",
    "import pandas as pd\n"
   ]
  },
  {
   "cell_type": "code",
   "execution_count": 2,
   "metadata": {},
   "outputs": [
    {
     "data": {
      "text/html": [
       "<div>\n",
       "<style scoped>\n",
       "    .dataframe tbody tr th:only-of-type {\n",
       "        vertical-align: middle;\n",
       "    }\n",
       "\n",
       "    .dataframe tbody tr th {\n",
       "        vertical-align: top;\n",
       "    }\n",
       "\n",
       "    .dataframe thead th {\n",
       "        text-align: right;\n",
       "    }\n",
       "</style>\n",
       "<table border=\"1\" class=\"dataframe\">\n",
       "  <thead>\n",
       "    <tr style=\"text-align: right;\">\n",
       "      <th></th>\n",
       "      <th>bmi</th>\n",
       "      <th>smoking</th>\n",
       "      <th>alcoholdrinking</th>\n",
       "      <th>stroke</th>\n",
       "      <th>physicalhealth</th>\n",
       "      <th>mentalhealth</th>\n",
       "      <th>diffwalking</th>\n",
       "      <th>sex</th>\n",
       "      <th>agecategory</th>\n",
       "      <th>race</th>\n",
       "      <th>diabetic</th>\n",
       "      <th>physicalactivity</th>\n",
       "      <th>genhealth</th>\n",
       "      <th>sleeptime</th>\n",
       "      <th>asthma</th>\n",
       "      <th>kidneydisease</th>\n",
       "      <th>skincancer</th>\n",
       "    </tr>\n",
       "  </thead>\n",
       "  <tbody>\n",
       "    <tr>\n",
       "      <th>0</th>\n",
       "      <td>40</td>\n",
       "      <td>0</td>\n",
       "      <td>0</td>\n",
       "      <td>0</td>\n",
       "      <td>0</td>\n",
       "      <td>0</td>\n",
       "      <td>1</td>\n",
       "      <td>Male</td>\n",
       "      <td>65-69</td>\n",
       "      <td>White</td>\n",
       "      <td>No</td>\n",
       "      <td>1</td>\n",
       "      <td>Good</td>\n",
       "      <td>10</td>\n",
       "      <td>0</td>\n",
       "      <td>0</td>\n",
       "      <td>0</td>\n",
       "    </tr>\n",
       "    <tr>\n",
       "      <th>1</th>\n",
       "      <td>34</td>\n",
       "      <td>1</td>\n",
       "      <td>0</td>\n",
       "      <td>0</td>\n",
       "      <td>30</td>\n",
       "      <td>0</td>\n",
       "      <td>1</td>\n",
       "      <td>Male</td>\n",
       "      <td>60-64</td>\n",
       "      <td>White</td>\n",
       "      <td>Yes</td>\n",
       "      <td>0</td>\n",
       "      <td>Poor</td>\n",
       "      <td>15</td>\n",
       "      <td>1</td>\n",
       "      <td>0</td>\n",
       "      <td>0</td>\n",
       "    </tr>\n",
       "    <tr>\n",
       "      <th>2</th>\n",
       "      <td>28</td>\n",
       "      <td>1</td>\n",
       "      <td>0</td>\n",
       "      <td>0</td>\n",
       "      <td>0</td>\n",
       "      <td>0</td>\n",
       "      <td>0</td>\n",
       "      <td>Female</td>\n",
       "      <td>55-59</td>\n",
       "      <td>White</td>\n",
       "      <td>No</td>\n",
       "      <td>1</td>\n",
       "      <td>Very good</td>\n",
       "      <td>5</td>\n",
       "      <td>0</td>\n",
       "      <td>0</td>\n",
       "      <td>0</td>\n",
       "    </tr>\n",
       "  </tbody>\n",
       "</table>\n",
       "</div>"
      ],
      "text/plain": [
       "   bmi  smoking  alcoholdrinking  stroke  physicalhealth  mentalhealth  \\\n",
       "0   40        0                0       0               0             0   \n",
       "1   34        1                0       0              30             0   \n",
       "2   28        1                0       0               0             0   \n",
       "\n",
       "   diffwalking     sex agecategory   race diabetic  physicalactivity  \\\n",
       "0            1    Male       65-69  White       No                 1   \n",
       "1            1    Male       60-64  White      Yes                 0   \n",
       "2            0  Female       55-59  White       No                 1   \n",
       "\n",
       "   genhealth  sleeptime  asthma  kidneydisease  skincancer  \n",
       "0       Good         10       0              0           0  \n",
       "1       Poor         15       1              0           0  \n",
       "2  Very good          5       0              0           0  "
      ]
     },
     "execution_count": 2,
     "metadata": {},
     "output_type": "execute_result"
    }
   ],
   "source": [
    "# open the test cases csv file and read it into a pandas dataframe \n",
    "df = pd.read_csv('./data/test_cases.csv', sep=',', quotechar='\"')\n",
    "df.head()\n"
   ]
  },
  {
   "cell_type": "code",
   "execution_count": 3,
   "metadata": {},
   "outputs": [
    {
     "name": "stdout",
     "output_type": "stream",
     "text": [
      "[{'bmi': 40, 'smoking': 0, 'alcoholdrinking': 0, 'stroke': 0, 'physicalhealth': 0, 'mentalhealth': 0, 'diffwalking': 1, 'sex': 'Male', 'agecategory': '65-69', 'race': 'White', 'diabetic': 'No', 'physicalactivity': 1, 'genhealth': 'Good', 'sleeptime': 10, 'asthma': 0, 'kidneydisease': 0, 'skincancer': 0}, {'bmi': 34, 'smoking': 1, 'alcoholdrinking': 0, 'stroke': 0, 'physicalhealth': 30, 'mentalhealth': 0, 'diffwalking': 1, 'sex': 'Male', 'agecategory': '60-64', 'race': 'White', 'diabetic': 'Yes', 'physicalactivity': 0, 'genhealth': 'Poor', 'sleeptime': 15, 'asthma': 1, 'kidneydisease': 0, 'skincancer': 0}, {'bmi': 28, 'smoking': 1, 'alcoholdrinking': 0, 'stroke': 0, 'physicalhealth': 0, 'mentalhealth': 0, 'diffwalking': 0, 'sex': 'Female', 'agecategory': '55-59', 'race': 'White', 'diabetic': 'No', 'physicalactivity': 1, 'genhealth': 'Very good', 'sleeptime': 5, 'asthma': 0, 'kidneydisease': 0, 'skincancer': 0}]\n"
     ]
    }
   ],
   "source": [
    "# define the API end-point\n",
    "\n",
    "url = 'http://0.0.0.0:8000/predict'\n",
    "\n",
    "data = df.to_dict(orient='records')\n",
    "\n",
    "response = requests.post(url, json=client)\n",
    "\n",
    "# Check the response status code\n",
    "if response.status_code == 200:\n",
    "    # If the response status is 200 (OK), print the JSON response\n",
    "    json_response = response.json()\n",
    "    print(f\"JSON Response: {json_response}\")    \n",
    "else:\n",
    "    # If the response status is not 200, print an error message\n",
    "    print(\"Error:\", response.status_code)\n",
    "\n"
   ]
  },
  {
   "cell_type": "markdown",
   "metadata": {},
   "source": [
    "# run the API from Docker container\n",
    "- Shutdown the previous API\n",
    "- Build the Docker Container\n",
    "    \n",
    "```bash\n",
    "docker build -t heart_disease_app .\n",
    "```\n",
    "\n",
    "- Once the image is built, you can run the Docker container using:\n",
    "\n",
    "```bash\n",
    "docker run -p 8000:8000 heart_disease_app\n",
    "```\n",
    "\n",
    "- Repeat the API test cases"
   ]
  },
  {
   "cell_type": "code",
   "execution_count": null,
   "metadata": {},
   "outputs": [],
   "source": []
  }
 ],
 "metadata": {
  "kernelspec": {
   "display_name": "Python 3",
   "language": "python",
   "name": "python3"
  },
  "language_info": {
   "codemirror_mode": {
    "name": "ipython",
    "version": 3
   },
   "file_extension": ".py",
   "mimetype": "text/x-python",
   "name": "python",
   "nbconvert_exporter": "python",
   "pygments_lexer": "ipython3",
   "version": "3.8.10"
  }
 },
 "nbformat": 4,
 "nbformat_minor": 2
}
