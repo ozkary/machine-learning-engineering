{
 "cells": [
  {
   "cell_type": "markdown",
   "metadata": {},
   "source": [
    "# Machine Learning - Deep Learning\n",
    "\n",
    "In this homework, we'll build a model for predicting if we have an image of a bee or a wasp. For this, we will use the \"Bee or Wasp?\" dataset that was obtained from Kaggle and slightly rebuilt.\n"
   ]
  },
  {
   "cell_type": "code",
   "execution_count": null,
   "metadata": {},
   "outputs": [],
   "source": [
    "# get the dataset\n",
    "\n",
    "# !wget https://github.com/SVizor42/ML_Zoomcamp/releases/download/bee-wasp-data/data.zip\n",
    "# unzip data.zip"
   ]
  },
  {
   "cell_type": "markdown",
   "metadata": {},
   "source": [
    "## Data Preparation\n",
    "\n",
    "The dataset contains around 2500 images of bees and around 2100 images of wasps.\n",
    "\n",
    "The dataset contains separate folders for training and test sets.\n",
    "\n",
    "## Model\n",
    "For this homework we will use Convolutional Neural Network (CNN). Like in the lectures, we'll use Keras.\n",
    "\n",
    "You need to develop the model with following structure:\n",
    "\n",
    "- The shape for input should be (150, 150, 3)\n",
    "- Next, create a convolutional layer (Conv2D):\n",
    "  - Use 32 filters\n",
    "  - Kernel size should be (3, 3) (that's the size of the filter)\n",
    "  - Use 'relu' as activation\n",
    "- Reduce the size of the feature map with max pooling (MaxPooling2D)\n",
    " - Set the pooling size to (2, 2)\n",
    "- Turn the multi-dimensional result into vectors using a Flatten layer\n",
    "- Next, add a Dense layer with 64 neurons and 'relu' activation\n",
    "- Finally, create the Dense layer with 1 neuron - this will be the output\n",
    " - The output layer should have an activation - use the appropriate activation for the binary classification case\n",
    "\n",
    "As optimizer use SGD with the following parameters:\n",
    "- SGD(lr=0.002, momentum=0.8)"
   ]
  },
  {
   "cell_type": "code",
   "execution_count": 14,
   "metadata": {},
   "outputs": [],
   "source": [
    "# build the model\n",
    "from keras.models import Sequential\n",
    "from keras.layers import Conv2D, MaxPooling2D, Flatten, Dense\n",
    "from keras.optimizers import SGD\n",
    "from keras.preprocessing.image import ImageDataGenerator\n",
    "from keras.callbacks import History\n",
    "import numpy as np\n",
    "\n",
    "\n",
    "def build_model():\n",
    "\n",
    "    model = Sequential([\n",
    "        # Convolutional layer\n",
    "        Conv2D(32, (3, 3), activation='relu', input_shape=(150, 150, 3)),\n",
    "        # MaxPooling layer\n",
    "        MaxPooling2D(pool_size=(2, 2)),\n",
    "        # Flatten layer\n",
    "        Flatten(),        \n",
    "        # Dense layer with 64 neurons and 'relu' activation\n",
    "        Dense(64, activation='relu'),\n",
    "        # Output layer with 1 neuron and 'sigmoid' activation for binary classification\n",
    "        Dense(1, activation='sigmoid')\n",
    "    ])\n",
    "  \n",
    "    # Define the SGD optimizer with the specified parameters\n",
    "    optimizer = SGD(learning_rate=0.002, momentum=0.8)\n",
    "\n",
    "    # Compile the model with binary crossentropy loss and the defined optimizer\n",
    "    model.compile(optimizer=optimizer, \n",
    "                 loss='binary_crossentropy', \n",
    "                 metrics=['accuracy'])\n",
    "\n",
    "    # Print the model summary\n",
    "    model.summary()\n",
    "\n",
    "    return model"
   ]
  },
  {
   "cell_type": "markdown",
   "metadata": {},
   "source": [
    "## Question 1 - Since we have a binary classification problem, what is the best loss function for us?\n",
    "\n",
    "- mean squared error\n",
    "- binary crossentropy\n",
    "- categorical crossentropy\n",
    "- cosine similarity\n",
    "\n",
    "For binary classification problems, the most commonly used loss function is binary crossentropy. Binary crossentropy is suitable when you have a binary outcome (e.g., 0 or 1) and is particularly well-suited for models outputting probabilities."
   ]
  },
  {
   "cell_type": "markdown",
   "metadata": {},
   "source": [
    "##  Question 2 - What's the number of parameters in the convolutional layer of our model? You can use the summary method for that.\n",
    "\n",
    "- 1\n",
    "- 65\n",
    "- 896\n",
    "- 11214912"
   ]
  },
  {
   "cell_type": "code",
   "execution_count": 24,
   "metadata": {},
   "outputs": [
    {
     "name": "stdout",
     "output_type": "stream",
     "text": [
      "Model: \"sequential_3\"\n",
      "_________________________________________________________________\n",
      " Layer (type)                Output Shape              Param #   \n",
      "=================================================================\n",
      " conv2d_3 (Conv2D)           (None, 148, 148, 32)      896       \n",
      "                                                                 \n",
      " max_pooling2d_3 (MaxPoolin  (None, 74, 74, 32)        0         \n",
      " g2D)                                                            \n",
      "                                                                 \n",
      " flatten_3 (Flatten)         (None, 175232)            0         \n",
      "                                                                 \n",
      " dense_6 (Dense)             (None, 64)                11214912  \n",
      "                                                                 \n",
      " dense_7 (Dense)             (None, 1)                 65        \n",
      "                                                                 \n",
      "=================================================================\n",
      "Total params: 11215873 (42.79 MB)\n",
      "Trainable params: 11215873 (42.79 MB)\n",
      "Non-trainable params: 0 (0.00 Byte)\n",
      "_________________________________________________________________\n"
     ]
    }
   ],
   "source": [
    "model = build_model()"
   ]
  },
  {
   "cell_type": "markdown",
   "metadata": {},
   "source": [
    "## Generators and Training\n",
    "For the next two questions, use the following data generator for both train and test sets:\n",
    "\n",
    "\n",
    "```python\n",
    "ImageDataGenerator(rescale=1./255)\n",
    "\n",
    "```\n",
    "\n",
    "-We don't need to do any additional pre-processing for the images.\n",
    "-When reading the data from train/test directories, check the class_mode parameter. Which value should it be for a binary classification problem?\n",
    "-Use batch_size=20\n",
    "-Use shuffle=True for both training and test sets.\n",
    "\n",
    "For training use .fit() with the following params:\n",
    "\n",
    "```python\n",
    "\n",
    "model.fit(\n",
    "    train_generator,\n",
    "    epochs=10,\n",
    "    validation_data=test_generator\n",
    ")\n",
    "```"
   ]
  },
  {
   "cell_type": "markdown",
   "metadata": {},
   "source": [
    "## Question 3 - What is the median of training accuracy for all the epochs for this model?\n",
    "\n",
    "- 0.20\n",
    "- 0.40\n",
    "- 0.60\n",
    "- 0.80"
   ]
  },
  {
   "cell_type": "code",
   "execution_count": 25,
   "metadata": {},
   "outputs": [
    {
     "name": "stdout",
     "output_type": "stream",
     "text": [
      "Found 3677 images belonging to 2 classes.\n",
      "Found 918 images belonging to 2 classes.\n"
     ]
    }
   ],
   "source": [
    "# Create an ImageDataGenerator for both training and test sets\n",
    "datagen = ImageDataGenerator(rescale=1./255)\n",
    "\n",
    "def get_data_gen(datagen, path):\n",
    "    \"\"\"\n",
    "    Create an ImageDataGenerator and return the data generators for the training and test sets.\n",
    "    \"\"\"\n",
    "    \n",
    "    # Set up the data generators for the training set\n",
    "    generator = datagen.flow_from_directory(\n",
    "        path,\n",
    "        target_size=(150, 150),\n",
    "        batch_size=20,\n",
    "        class_mode='binary',  # Use 'binary' for binary classification\n",
    "        shuffle=True\n",
    "    )\n",
    "\n",
    "    return generator\n",
    "\n",
    "# define the path to the training and test directories\n",
    "train_dir = './train'\n",
    "test_dir = './test'\n",
    "\n",
    "# Set up the data generators for the training set\n",
    "train_generator = get_data_gen(datagen, train_dir)\n",
    "    \n",
    "# Set up the data generators for test set\n",
    "test_generator = get_data_gen(datagen, test_dir)\n"
   ]
  },
  {
   "cell_type": "code",
   "execution_count": 44,
   "metadata": {},
   "outputs": [],
   "source": [
    "# define a function to plot the loss and accuracy\n",
    "import matplotlib.pyplot as plt\n",
    "\n",
    "def plot_history(history, img_name='cnn_metrics.png'):\n",
    "    \"\"\"\n",
    "    Plot the loss and accuracy metrics.\n",
    "    \"\"\"\n",
    "    \n",
    "    # Get the classification accuracy and loss-value\n",
    "    accuracy_values = history.history['accuracy']\n",
    "    loss_values = history.history['loss']\n",
    "\n",
    "    # Get the number of epochs\n",
    "    epochs = range(len(accuracy_values))\n",
    "\n",
    "    # Calculate median and std\n",
    "    median_loss = np.median(loss_values)\n",
    "    std_loss = np.std(loss_values)\n",
    "    median_accuracy = np.median(accuracy_values)\n",
    "    std_accuracy = np.std(accuracy_values)\n",
    "\n",
    "    # Create a bar chart for Loss\n",
    "    plt.figure(figsize=(10, 6))\n",
    "    plt.subplot(2, 1, 1)\n",
    "    plt.bar(range(1, len(loss_values) + 1), loss_values, color='blue', label='Loss')\n",
    "    plt.axhline(median_loss, color='red', linestyle='dashed', linewidth=2, label='Median Loss')\n",
    "    plt.title('Training Loss Over Epochs')\n",
    "    plt.xlabel('Epoch')\n",
    "    plt.ylabel('Loss')\n",
    "    plt.legend()\n",
    "\n",
    "    # Create a bar chart for Accuracy\n",
    "    plt.subplot(2, 1, 2)\n",
    "    plt.bar(range(1, len(accuracy_values) + 1), accuracy_values, color='green', label='Accuracy')\n",
    "    plt.axhline(median_accuracy, color='orange', linestyle='dashed', linewidth=2, label='Median Accuracy')\n",
    "    plt.title('Training Accuracy Over Epochs')\n",
    "    plt.xlabel('Epoch')\n",
    "    plt.ylabel('Accuracy')\n",
    "    plt.legend()\n",
    "\n",
    "    # Display the charts\n",
    "    plt.tight_layout()\n",
    "    # plt.show()\n",
    "    img_path = f'./images/{img_name}'\n",
    "    plt.savefig(img_path)\n",
    "\n",
    "    # Print median and std values\n",
    "    print(f\"Median Loss: {median_loss:.3f}, Standard Deviation of Loss: {std_loss:.3f}\")\n",
    "    print(f\"Median Accuracy: {median_accuracy:.3f}, Standard Deviation of Accuracy: {std_accuracy:.3f}\")\n"
   ]
  },
  {
   "cell_type": "code",
   "execution_count": 26,
   "metadata": {},
   "outputs": [
    {
     "name": "stdout",
     "output_type": "stream",
     "text": [
      "Epoch 1/10\n",
      "184/184 [==============================] - 20s 107ms/step - loss: 0.6683 - accuracy: 0.5776 - val_loss: 0.6559 - val_accuracy: 0.5501\n",
      "Epoch 2/10\n",
      "184/184 [==============================] - 20s 106ms/step - loss: 0.6111 - accuracy: 0.6535 - val_loss: 0.5727 - val_accuracy: 0.6983\n",
      "Epoch 3/10\n",
      "184/184 [==============================] - 19s 104ms/step - loss: 0.5556 - accuracy: 0.7193 - val_loss: 0.5493 - val_accuracy: 0.7211\n",
      "Epoch 4/10\n",
      "184/184 [==============================] - 20s 111ms/step - loss: 0.5247 - accuracy: 0.7555 - val_loss: 0.5510 - val_accuracy: 0.7081\n",
      "Epoch 5/10\n",
      "184/184 [==============================] - 19s 100ms/step - loss: 0.5096 - accuracy: 0.7607 - val_loss: 0.5592 - val_accuracy: 0.7124\n",
      "Epoch 6/10\n",
      "184/184 [==============================] - 19s 104ms/step - loss: 0.4819 - accuracy: 0.7778 - val_loss: 0.5186 - val_accuracy: 0.7593\n",
      "Epoch 7/10\n",
      "184/184 [==============================] - 20s 106ms/step - loss: 0.4525 - accuracy: 0.7974 - val_loss: 0.5392 - val_accuracy: 0.7440\n",
      "Epoch 8/10\n",
      "184/184 [==============================] - 19s 103ms/step - loss: 0.4344 - accuracy: 0.8077 - val_loss: 0.5444 - val_accuracy: 0.7200\n",
      "Epoch 9/10\n",
      "184/184 [==============================] - 20s 109ms/step - loss: 0.4015 - accuracy: 0.8306 - val_loss: 0.4957 - val_accuracy: 0.7756\n",
      "Epoch 10/10\n",
      "184/184 [==============================] - 19s 104ms/step - loss: 0.3806 - accuracy: 0.8404 - val_loss: 0.5145 - val_accuracy: 0.7484\n"
     ]
    }
   ],
   "source": [
    "# Train the model\n",
    "history = model.fit(\n",
    "    train_generator,\n",
    "    epochs=10,\n",
    "    validation_data=test_generator\n",
    ")"
   ]
  },
  {
   "cell_type": "code",
   "execution_count": 27,
   "metadata": {},
   "outputs": [
    {
     "name": "stdout",
     "output_type": "stream",
     "text": [
      "Median Training Accuracy: 0.77\n"
     ]
    }
   ],
   "source": [
    "# Get the training accuracy values for each epoch\n",
    "training_accuracy_values = history.history['accuracy']\n",
    "\n",
    "# Calculate the median of training accuracy\n",
    "median_training_accuracy = round(np.median(training_accuracy_values),2)\n",
    "\n",
    "# Print the median training accuracy\n",
    "print(\"Median Training Accuracy:\", median_training_accuracy)"
   ]
  },
  {
   "cell_type": "markdown",
   "metadata": {},
   "source": [
    "## Question 4 - What is the standard deviation of training loss for all the epochs for this model?\n",
    "\n",
    "- 0.031\n",
    "- 0.061\n",
    "- 0.091\n",
    "- 0.131"
   ]
  },
  {
   "cell_type": "code",
   "execution_count": 29,
   "metadata": {},
   "outputs": [
    {
     "name": "stdout",
     "output_type": "stream",
     "text": [
      "Standard Deviation of Training Loss: 0.087\n"
     ]
    }
   ],
   "source": [
    "# Get the training loss values for each epoch\n",
    "training_loss_values = history.history['loss']\n",
    "\n",
    "# Calculate the standard deviation of training loss\n",
    "std_dev_training_loss = round(np.std(training_loss_values),3)\n",
    "\n",
    "# Print the standard deviation of training loss\n",
    "print(\"Standard Deviation of Training Loss:\", std_dev_training_loss)"
   ]
  },
  {
   "cell_type": "code",
   "execution_count": 45,
   "metadata": {},
   "outputs": [
    {
     "name": "stdout",
     "output_type": "stream",
     "text": [
      "Median Loss: 0.496, Standard Deviation of Loss: 0.087\n",
      "Median Accuracy: 0.769, Standard Deviation of Accuracy: 0.078\n"
     ]
    },
    {
     "data": {
      "image/png": "[encoded data removed]",
      "text/plain": [
       "<Figure size 1000x600 with 2 Axes>"
      ]
     },
     "metadata": {},
     "output_type": "display_data"
    }
   ],
   "source": [
    "plot_history(history)"
   ]
  },
  {
   "cell_type": "markdown",
   "metadata": {},
   "source": [
    "## Data Augmentation\n",
    "\n",
    "For the next two questions, we'll generate more data using data augmentations.\n",
    "\n",
    "Add the following augmentations to your training data generator:\n",
    "\n",
    "- rotation_range=50,\n",
    "- width_shift_range=0.1,\n",
    "- height_shift_range=0.1,\n",
    "- zoom_range=0.1,\n",
    "- horizontal_flip=True,\n",
    "- fill_mode='nearest'"
   ]
  },
  {
   "cell_type": "code",
   "execution_count": 30,
   "metadata": {},
   "outputs": [
    {
     "name": "stdout",
     "output_type": "stream",
     "text": [
      "Found 3677 images belonging to 2 classes.\n"
     ]
    }
   ],
   "source": [
    "\n",
    "# Create an augmented ImageDataGenerator \n",
    "augmented_train_datagen = ImageDataGenerator(\n",
    "    rescale=1./255,\n",
    "    rotation_range=50,\n",
    "    width_shift_range=0.1,\n",
    "    height_shift_range=0.1,\n",
    "    zoom_range=0.1,\n",
    "    horizontal_flip=True,\n",
    "    fill_mode='nearest'\n",
    ")\n",
    "\n",
    "augmented_train_generator = get_data_gen(augmented_train_datagen, train_dir)"
   ]
  },
  {
   "cell_type": "code",
   "execution_count": 31,
   "metadata": {},
   "outputs": [
    {
     "name": "stdout",
     "output_type": "stream",
     "text": [
      "Epoch 1/10\n",
      "184/184 [==============================] - 33s 179ms/step - loss: 0.5021 - accuracy: 0.7658 - val_loss: 0.5737 - val_accuracy: 0.7266\n",
      "Epoch 2/10\n",
      "184/184 [==============================] - 32s 172ms/step - loss: 0.4897 - accuracy: 0.7713 - val_loss: 0.5561 - val_accuracy: 0.7386\n",
      "Epoch 3/10\n",
      "184/184 [==============================] - 34s 184ms/step - loss: 0.4785 - accuracy: 0.7762 - val_loss: 0.4859 - val_accuracy: 0.7669\n",
      "Epoch 4/10\n",
      "184/184 [==============================] - 32s 173ms/step - loss: 0.4836 - accuracy: 0.7716 - val_loss: 0.4968 - val_accuracy: 0.7680\n",
      "Epoch 5/10\n",
      "184/184 [==============================] - 30s 161ms/step - loss: 0.4998 - accuracy: 0.7629 - val_loss: 0.4758 - val_accuracy: 0.7930\n",
      "Epoch 6/10\n",
      "184/184 [==============================] - 32s 173ms/step - loss: 0.4779 - accuracy: 0.7735 - val_loss: 0.4814 - val_accuracy: 0.7952\n",
      "Epoch 7/10\n",
      "184/184 [==============================] - 31s 167ms/step - loss: 0.4644 - accuracy: 0.7879 - val_loss: 0.4724 - val_accuracy: 0.7865\n",
      "Epoch 8/10\n",
      "184/184 [==============================] - 32s 173ms/step - loss: 0.4662 - accuracy: 0.7803 - val_loss: 0.4706 - val_accuracy: 0.7745\n",
      "Epoch 9/10\n",
      "184/184 [==============================] - 31s 171ms/step - loss: 0.4580 - accuracy: 0.7914 - val_loss: 0.4514 - val_accuracy: 0.7941\n",
      "Epoch 10/10\n",
      "184/184 [==============================] - 33s 181ms/step - loss: 0.4600 - accuracy: 0.7841 - val_loss: 0.4567 - val_accuracy: 0.7854\n"
     ]
    }
   ],
   "source": [
    "# Train the model with the augmented data generator\n",
    "aug_history = model.fit(\n",
    "    augmented_train_generator,\n",
    "    epochs=10,\n",
    "    validation_data=test_generator\n",
    ")"
   ]
  },
  {
   "cell_type": "markdown",
   "metadata": {},
   "source": [
    "## Question 5 - Let's train our model for 10 more epochs using the same code as previously.\n",
    "\n",
    "> Note: make sure you don't re-create the model - we want to continue training the model we already started training.\n",
    "\n",
    "What is the mean of test loss for all the epochs for the model trained with augmentations?\n",
    "\n",
    "- 0.18\n",
    "- 0.48\n",
    "- 0.78\n",
    "- 0.108"
   ]
  },
  {
   "cell_type": "code",
   "execution_count": 32,
   "metadata": {},
   "outputs": [
    {
     "name": "stdout",
     "output_type": "stream",
     "text": [
      "Mean of the Test Loss for the Augmented Model: 0.48\n"
     ]
    }
   ],
   "source": [
    "# get the mean of all the epochs for the test loss for the augmented model\n",
    "aug_test_loss = round(np.mean(aug_history.history['loss']), 2)\n",
    "\n",
    "# print the mean of the test loss for the aumented model\n",
    "print(\"Mean of the Test Loss for the Augmented Model:\", aug_test_loss)"
   ]
  },
  {
   "cell_type": "markdown",
   "metadata": {},
   "source": [
    "## Question 6 - What's the average of test accuracy for the last 5 epochs (from 6 to 10) for the model trained with augmentations?\n",
    "\n",
    "- 0.38\n",
    "- 0.58\n",
    "- 0.78\n",
    "- 0.98"
   ]
  },
  {
   "cell_type": "code",
   "execution_count": 33,
   "metadata": {},
   "outputs": [
    {
     "name": "stdout",
     "output_type": "stream",
     "text": [
      "Average of the Test Accuracy for the Augmented Model: 0.78\n"
     ]
    }
   ],
   "source": [
    "# average of epochs 6 to 10 for the test accuracy for the augmented model \n",
    "aug_test_accuracy = round(np.mean(aug_history.history['accuracy'][5:]), 2)\n",
    "\n",
    "# print the average of epochs 6 to 10 for the test accuracy for the augmented model\n",
    "print(\"Average of the Test Accuracy for the Augmented Model:\", aug_test_accuracy)\n"
   ]
  },
  {
   "cell_type": "code",
   "execution_count": 46,
   "metadata": {},
   "outputs": [
    {
     "name": "stdout",
     "output_type": "stream",
     "text": [
      "Median Loss: 0.478, Standard Deviation of Loss: 0.015\n",
      "Median Accuracy: 0.775, Standard Deviation of Accuracy: 0.009\n"
     ]
    },
    {
     "data": {
      "image/png": "[encoded data removed]",
      "text/plain": [
       "<Figure size 1000x600 with 2 Axes>"
      ]
     },
     "metadata": {},
     "output_type": "display_data"
    }
   ],
   "source": [
    "plot_history(aug_history,'cnn_metrics_augmented.png')"
   ]
  }
 ],
 "metadata": {
  "kernelspec": {
   "display_name": "Python 3",
   "language": "python",
   "name": "python3"
  },
  "language_info": {
   "codemirror_mode": {
    "name": "ipython",
    "version": 3
   },
   "file_extension": ".py",
   "mimetype": "text/x-python",
   "name": "python",
   "nbconvert_exporter": "python",
   "pygments_lexer": "ipython3",
   "version": "3.8.10"
  }
 },
 "nbformat": 4,
 "nbformat_minor": 2
}
