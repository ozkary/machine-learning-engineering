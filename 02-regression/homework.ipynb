{
 "cells": [
  {
   "cell_type": "markdown",
   "metadata": {},
   "source": [
    "# Machine Learning Regression\n",
    "\n",
    "Regression is a fundamental technique in machine learning used for predicting continuous outcomes. It's widely used in various domains, such as finance, healthcare, and economics, to forecast trends, analyze relationships, and make predictions based on input variables.\n"
   ]
  },
  {
   "cell_type": "code",
   "execution_count": null,
   "metadata": {},
   "outputs": [],
   "source": [
    "# download the data\n",
    "!wget https://raw.githubusercontent.com/alexeygrigorev/datasets/master/housing.csv"
   ]
  },
  {
   "cell_type": "code",
   "execution_count": 1,
   "metadata": {},
   "outputs": [],
   "source": [
    "# import all the necessary libraries\n",
    "import numpy as np\n",
    "import pandas as pd\n",
    "import matplotlib.pyplot as plt\n",
    "import seaborn as sns\n",
    "# from sklearn.preprocessing import StandardScaler, MinMaxScaler, OneHotEncoder"
   ]
  },
  {
   "cell_type": "markdown",
   "metadata": {},
   "source": [
    "## Prepare the data and Exploratory Data Analysis (EDA):"
   ]
  },
  {
   "cell_type": "code",
   "execution_count": 2,
   "metadata": {},
   "outputs": [
    {
     "data": {
      "text/html": [
       "<div>\n",
       "<style scoped>\n",
       "    .dataframe tbody tr th:only-of-type {\n",
       "        vertical-align: middle;\n",
       "    }\n",
       "\n",
       "    .dataframe tbody tr th {\n",
       "        vertical-align: top;\n",
       "    }\n",
       "\n",
       "    .dataframe thead th {\n",
       "        text-align: right;\n",
       "    }\n",
       "</style>\n",
       "<table border=\"1\" class=\"dataframe\">\n",
       "  <thead>\n",
       "    <tr style=\"text-align: right;\">\n",
       "      <th></th>\n",
       "      <th>longitude</th>\n",
       "      <th>latitude</th>\n",
       "      <th>housing_median_age</th>\n",
       "      <th>total_rooms</th>\n",
       "      <th>total_bedrooms</th>\n",
       "      <th>population</th>\n",
       "      <th>households</th>\n",
       "      <th>median_income</th>\n",
       "      <th>median_house_value</th>\n",
       "      <th>ocean_proximity</th>\n",
       "    </tr>\n",
       "  </thead>\n",
       "  <tbody>\n",
       "    <tr>\n",
       "      <th>0</th>\n",
       "      <td>-122.23</td>\n",
       "      <td>37.88</td>\n",
       "      <td>41.0</td>\n",
       "      <td>880.0</td>\n",
       "      <td>129.0</td>\n",
       "      <td>322.0</td>\n",
       "      <td>126.0</td>\n",
       "      <td>8.3252</td>\n",
       "      <td>452600.0</td>\n",
       "      <td>NEAR BAY</td>\n",
       "    </tr>\n",
       "    <tr>\n",
       "      <th>1</th>\n",
       "      <td>-122.22</td>\n",
       "      <td>37.86</td>\n",
       "      <td>21.0</td>\n",
       "      <td>7099.0</td>\n",
       "      <td>1106.0</td>\n",
       "      <td>2401.0</td>\n",
       "      <td>1138.0</td>\n",
       "      <td>8.3014</td>\n",
       "      <td>358500.0</td>\n",
       "      <td>NEAR BAY</td>\n",
       "    </tr>\n",
       "    <tr>\n",
       "      <th>2</th>\n",
       "      <td>-122.24</td>\n",
       "      <td>37.85</td>\n",
       "      <td>52.0</td>\n",
       "      <td>1467.0</td>\n",
       "      <td>190.0</td>\n",
       "      <td>496.0</td>\n",
       "      <td>177.0</td>\n",
       "      <td>7.2574</td>\n",
       "      <td>352100.0</td>\n",
       "      <td>NEAR BAY</td>\n",
       "    </tr>\n",
       "    <tr>\n",
       "      <th>3</th>\n",
       "      <td>-122.25</td>\n",
       "      <td>37.85</td>\n",
       "      <td>52.0</td>\n",
       "      <td>1274.0</td>\n",
       "      <td>235.0</td>\n",
       "      <td>558.0</td>\n",
       "      <td>219.0</td>\n",
       "      <td>5.6431</td>\n",
       "      <td>341300.0</td>\n",
       "      <td>NEAR BAY</td>\n",
       "    </tr>\n",
       "    <tr>\n",
       "      <th>4</th>\n",
       "      <td>-122.25</td>\n",
       "      <td>37.85</td>\n",
       "      <td>52.0</td>\n",
       "      <td>1627.0</td>\n",
       "      <td>280.0</td>\n",
       "      <td>565.0</td>\n",
       "      <td>259.0</td>\n",
       "      <td>3.8462</td>\n",
       "      <td>342200.0</td>\n",
       "      <td>NEAR BAY</td>\n",
       "    </tr>\n",
       "  </tbody>\n",
       "</table>\n",
       "</div>"
      ],
      "text/plain": [
       "   longitude  latitude  housing_median_age  total_rooms  total_bedrooms  \\\n",
       "0    -122.23     37.88                41.0        880.0           129.0   \n",
       "1    -122.22     37.86                21.0       7099.0          1106.0   \n",
       "2    -122.24     37.85                52.0       1467.0           190.0   \n",
       "3    -122.25     37.85                52.0       1274.0           235.0   \n",
       "4    -122.25     37.85                52.0       1627.0           280.0   \n",
       "\n",
       "   population  households  median_income  median_house_value ocean_proximity  \n",
       "0       322.0       126.0         8.3252            452600.0        NEAR BAY  \n",
       "1      2401.0      1138.0         8.3014            358500.0        NEAR BAY  \n",
       "2       496.0       177.0         7.2574            352100.0        NEAR BAY  \n",
       "3       558.0       219.0         5.6431            341300.0        NEAR BAY  \n",
       "4       565.0       259.0         3.8462            342200.0        NEAR BAY  "
      ]
     },
     "execution_count": 2,
     "metadata": {},
     "output_type": "execute_result"
    }
   ],
   "source": [
    "df = pd.read_csv('housing.csv', iterator=False)\n",
    "df.head()"
   ]
  },
  {
   "cell_type": "markdown",
   "metadata": {},
   "source": [
    "### Get only the records with where ocean_proximity is either '<1H OCEAN' or 'INLAND'"
   ]
  },
  {
   "cell_type": "code",
   "execution_count": 3,
   "metadata": {},
   "outputs": [
    {
     "data": {
      "text/html": [
       "<div>\n",
       "<style scoped>\n",
       "    .dataframe tbody tr th:only-of-type {\n",
       "        vertical-align: middle;\n",
       "    }\n",
       "\n",
       "    .dataframe tbody tr th {\n",
       "        vertical-align: top;\n",
       "    }\n",
       "\n",
       "    .dataframe thead th {\n",
       "        text-align: right;\n",
       "    }\n",
       "</style>\n",
       "<table border=\"1\" class=\"dataframe\">\n",
       "  <thead>\n",
       "    <tr style=\"text-align: right;\">\n",
       "      <th></th>\n",
       "      <th>longitude</th>\n",
       "      <th>latitude</th>\n",
       "      <th>housing_median_age</th>\n",
       "      <th>total_rooms</th>\n",
       "      <th>total_bedrooms</th>\n",
       "      <th>population</th>\n",
       "      <th>households</th>\n",
       "      <th>median_income</th>\n",
       "      <th>median_house_value</th>\n",
       "      <th>ocean_proximity</th>\n",
       "    </tr>\n",
       "  </thead>\n",
       "  <tbody>\n",
       "    <tr>\n",
       "      <th>701</th>\n",
       "      <td>-121.97</td>\n",
       "      <td>37.64</td>\n",
       "      <td>32.0</td>\n",
       "      <td>1283.0</td>\n",
       "      <td>194.0</td>\n",
       "      <td>485.0</td>\n",
       "      <td>171.0</td>\n",
       "      <td>6.0574</td>\n",
       "      <td>431000.0</td>\n",
       "      <td>&lt;1H OCEAN</td>\n",
       "    </tr>\n",
       "    <tr>\n",
       "      <th>830</th>\n",
       "      <td>-121.99</td>\n",
       "      <td>37.61</td>\n",
       "      <td>9.0</td>\n",
       "      <td>3666.0</td>\n",
       "      <td>711.0</td>\n",
       "      <td>2341.0</td>\n",
       "      <td>703.0</td>\n",
       "      <td>4.6458</td>\n",
       "      <td>217000.0</td>\n",
       "      <td>&lt;1H OCEAN</td>\n",
       "    </tr>\n",
       "    <tr>\n",
       "      <th>859</th>\n",
       "      <td>-121.97</td>\n",
       "      <td>37.57</td>\n",
       "      <td>21.0</td>\n",
       "      <td>4342.0</td>\n",
       "      <td>783.0</td>\n",
       "      <td>2172.0</td>\n",
       "      <td>789.0</td>\n",
       "      <td>4.6146</td>\n",
       "      <td>247600.0</td>\n",
       "      <td>&lt;1H OCEAN</td>\n",
       "    </tr>\n",
       "    <tr>\n",
       "      <th>860</th>\n",
       "      <td>-121.96</td>\n",
       "      <td>37.58</td>\n",
       "      <td>15.0</td>\n",
       "      <td>3575.0</td>\n",
       "      <td>597.0</td>\n",
       "      <td>1777.0</td>\n",
       "      <td>559.0</td>\n",
       "      <td>5.7192</td>\n",
       "      <td>283500.0</td>\n",
       "      <td>&lt;1H OCEAN</td>\n",
       "    </tr>\n",
       "    <tr>\n",
       "      <th>861</th>\n",
       "      <td>-121.98</td>\n",
       "      <td>37.58</td>\n",
       "      <td>20.0</td>\n",
       "      <td>4126.0</td>\n",
       "      <td>1031.0</td>\n",
       "      <td>2079.0</td>\n",
       "      <td>975.0</td>\n",
       "      <td>3.6832</td>\n",
       "      <td>216900.0</td>\n",
       "      <td>&lt;1H OCEAN</td>\n",
       "    </tr>\n",
       "  </tbody>\n",
       "</table>\n",
       "</div>"
      ],
      "text/plain": [
       "     longitude  latitude  housing_median_age  total_rooms  total_bedrooms  \\\n",
       "701    -121.97     37.64                32.0       1283.0           194.0   \n",
       "830    -121.99     37.61                 9.0       3666.0           711.0   \n",
       "859    -121.97     37.57                21.0       4342.0           783.0   \n",
       "860    -121.96     37.58                15.0       3575.0           597.0   \n",
       "861    -121.98     37.58                20.0       4126.0          1031.0   \n",
       "\n",
       "     population  households  median_income  median_house_value ocean_proximity  \n",
       "701       485.0       171.0         6.0574            431000.0       <1H OCEAN  \n",
       "830      2341.0       703.0         4.6458            217000.0       <1H OCEAN  \n",
       "859      2172.0       789.0         4.6146            247600.0       <1H OCEAN  \n",
       "860      1777.0       559.0         5.7192            283500.0       <1H OCEAN  \n",
       "861      2079.0       975.0         3.6832            216900.0       <1H OCEAN  "
      ]
     },
     "execution_count": 3,
     "metadata": {},
     "output_type": "execute_result"
    }
   ],
   "source": [
    "# get the records where ocean_proximity is '<1H OCEAN' or 'INLAND' \n",
    "df = df[df['ocean_proximity'].isin(['<1H OCEAN', 'INLAND'])]\n",
    "df.head()"
   ]
  },
  {
   "cell_type": "code",
   "execution_count": 119,
   "metadata": {},
   "outputs": [
    {
     "data": {
      "text/html": [
       "<div>\n",
       "<style scoped>\n",
       "    .dataframe tbody tr th:only-of-type {\n",
       "        vertical-align: middle;\n",
       "    }\n",
       "\n",
       "    .dataframe tbody tr th {\n",
       "        vertical-align: top;\n",
       "    }\n",
       "\n",
       "    .dataframe thead th {\n",
       "        text-align: right;\n",
       "    }\n",
       "</style>\n",
       "<table border=\"1\" class=\"dataframe\">\n",
       "  <thead>\n",
       "    <tr style=\"text-align: right;\">\n",
       "      <th></th>\n",
       "      <th>latitude</th>\n",
       "      <th>longitude</th>\n",
       "      <th>housing_median_age</th>\n",
       "      <th>total_rooms</th>\n",
       "      <th>total_bedrooms</th>\n",
       "      <th>population</th>\n",
       "      <th>households</th>\n",
       "      <th>median_income</th>\n",
       "      <th>median_house_value</th>\n",
       "    </tr>\n",
       "  </thead>\n",
       "  <tbody>\n",
       "    <tr>\n",
       "      <th>701</th>\n",
       "      <td>37.64</td>\n",
       "      <td>-121.97</td>\n",
       "      <td>32.0</td>\n",
       "      <td>1283.0</td>\n",
       "      <td>194.0</td>\n",
       "      <td>485.0</td>\n",
       "      <td>171.0</td>\n",
       "      <td>6.0574</td>\n",
       "      <td>431000.0</td>\n",
       "    </tr>\n",
       "    <tr>\n",
       "      <th>830</th>\n",
       "      <td>37.61</td>\n",
       "      <td>-121.99</td>\n",
       "      <td>9.0</td>\n",
       "      <td>3666.0</td>\n",
       "      <td>711.0</td>\n",
       "      <td>2341.0</td>\n",
       "      <td>703.0</td>\n",
       "      <td>4.6458</td>\n",
       "      <td>217000.0</td>\n",
       "    </tr>\n",
       "    <tr>\n",
       "      <th>859</th>\n",
       "      <td>37.57</td>\n",
       "      <td>-121.97</td>\n",
       "      <td>21.0</td>\n",
       "      <td>4342.0</td>\n",
       "      <td>783.0</td>\n",
       "      <td>2172.0</td>\n",
       "      <td>789.0</td>\n",
       "      <td>4.6146</td>\n",
       "      <td>247600.0</td>\n",
       "    </tr>\n",
       "    <tr>\n",
       "      <th>860</th>\n",
       "      <td>37.58</td>\n",
       "      <td>-121.96</td>\n",
       "      <td>15.0</td>\n",
       "      <td>3575.0</td>\n",
       "      <td>597.0</td>\n",
       "      <td>1777.0</td>\n",
       "      <td>559.0</td>\n",
       "      <td>5.7192</td>\n",
       "      <td>283500.0</td>\n",
       "    </tr>\n",
       "    <tr>\n",
       "      <th>861</th>\n",
       "      <td>37.58</td>\n",
       "      <td>-121.98</td>\n",
       "      <td>20.0</td>\n",
       "      <td>4126.0</td>\n",
       "      <td>1031.0</td>\n",
       "      <td>2079.0</td>\n",
       "      <td>975.0</td>\n",
       "      <td>3.6832</td>\n",
       "      <td>216900.0</td>\n",
       "    </tr>\n",
       "  </tbody>\n",
       "</table>\n",
       "</div>"
      ],
      "text/plain": [
       "     latitude  longitude  housing_median_age  total_rooms  total_bedrooms  \\\n",
       "701     37.64    -121.97                32.0       1283.0           194.0   \n",
       "830     37.61    -121.99                 9.0       3666.0           711.0   \n",
       "859     37.57    -121.97                21.0       4342.0           783.0   \n",
       "860     37.58    -121.96                15.0       3575.0           597.0   \n",
       "861     37.58    -121.98                20.0       4126.0          1031.0   \n",
       "\n",
       "     population  households  median_income  median_house_value  \n",
       "701       485.0       171.0         6.0574            431000.0  \n",
       "830      2341.0       703.0         4.6458            217000.0  \n",
       "859      2172.0       789.0         4.6146            247600.0  \n",
       "860      1777.0       559.0         5.7192            283500.0  \n",
       "861      2079.0       975.0         3.6832            216900.0  "
      ]
     },
     "execution_count": 119,
     "metadata": {},
     "output_type": "execute_result"
    }
   ],
   "source": [
    "# from the data frame select only these features:\n",
    "features = ['latitude', 'longitude', 'housing_median_age','total_rooms','total_bedrooms', 'population', 'households', 'median_income']\n",
    "base_feature = ['median_house_value']\n",
    "df = df[features + base_feature]\n",
    "df.head()\n"
   ]
  },
  {
   "cell_type": "markdown",
   "metadata": {},
   "source": [
    "### Question 1 - Find the feature with missing values"
   ]
  },
  {
   "cell_type": "code",
   "execution_count": 5,
   "metadata": {},
   "outputs": [
    {
     "data": {
      "text/plain": [
       "latitude                0\n",
       "longitude               0\n",
       "housing_median_age      0\n",
       "total_rooms             0\n",
       "total_bedrooms        157\n",
       "population              0\n",
       "households              0\n",
       "median_income           0\n",
       "median_house_value      0\n",
       "dtype: int64"
      ]
     },
     "execution_count": 5,
     "metadata": {},
     "output_type": "execute_result"
    }
   ],
   "source": [
    "# find the feature with missing values\n",
    "df_missing_data = df.isnull().sum()\n",
    "df_missing_data.head(9)"
   ]
  },
  {
   "cell_type": "markdown",
   "metadata": {},
   "source": [
    "### Question 2 - What's the median (50% percentile) for variable 'population'?"
   ]
  },
  {
   "cell_type": "code",
   "execution_count": 6,
   "metadata": {},
   "outputs": [
    {
     "data": {
      "text/plain": [
       "1195.0"
      ]
     },
     "execution_count": 6,
     "metadata": {},
     "output_type": "execute_result"
    }
   ],
   "source": [
    "# get the median for population\n",
    "median_population = df['population'].median()\n",
    "median_population"
   ]
  },
  {
   "cell_type": "code",
   "execution_count": 7,
   "metadata": {},
   "outputs": [
    {
     "name": "stdout",
     "output_type": "stream",
     "text": [
      "Total: 15687 Train: 9412 Validate: 3137 Test: 3138\n",
      "Compare the sets: 15687 = 15687\n"
     ]
    }
   ],
   "source": [
    "# shuffle the dataset with the seed 42\n",
    "df_sample = df.sample(frac=1, random_state=42)\n",
    "\n",
    "# split the dataset into parts: train (60%) validate (20%) and test (20%)\n",
    "df_train = (df_sample.iloc[:int(len(df_sample)*0.6)]).reset_index(drop=True)\n",
    "df_validate = (df_sample.iloc[int(len(df_sample)*0.6):int(len(df_sample)*0.8)]).reset_index(drop=True)\n",
    "df_test = (df_sample.iloc[int(len(df_sample)*0.8):]).reset_index(drop=True)\n",
    "\n",
    "# check the size of each part matches the expected\n",
    "total_len = len(df_sample)\n",
    "train_len = len(df_train)\n",
    "validate_len = len(df_validate)\n",
    "test_len = len(df_test)\n",
    "print(f\"Total: {total_len} Train: {train_len} Validate: {validate_len} Test: {test_len}\")\n",
    "print(f\"Compare the sets: {total_len} = {train_len + validate_len + test_len}\")\n"
   ]
  },
  {
   "cell_type": "code",
   "execution_count": 143,
   "metadata": {},
   "outputs": [
    {
     "name": "stdout",
     "output_type": "stream",
     "text": [
      " 9412 3137 3138\n"
     ]
    }
   ],
   "source": [
    "# Apply the log transformation to the median_house_value variable using the np.log1p() function\n",
    "y_train = np.log1p(df_train[base_feature])\n",
    "y_validate = np.log1p(df_validate[base_feature])\n",
    "y_test = np.log1p(df_test[base_feature])\n",
    "print(f\" {len(y_train)} {len(y_validate)} {len(y_test)}\") \n",
    "\n",
    "# drop the median_house_value from the train, validate and test datasets\n",
    "df_train = df_train.drop(base_feature, axis=1)\n",
    "df_validate = df_validate.drop(base_feature, axis=1)"
   ]
  },
  {
   "cell_type": "code",
   "execution_count": 22,
   "metadata": {},
   "outputs": [],
   "source": [
    "# define hte function to calculate the root mean squared error, use the regularized linear regression when provided with the parameter r\n",
    "def train_linear_regression(X, y, r=None):\n",
    "    \"\"\"\n",
    "    Take the input feature matrix X and target variable y, calculates the optimal weights \n",
    "    for the linear regression model using the Ordinary Least Square (OLS) method, and returns the intercept and weights for the model.\n",
    "    Use the regularized linear regression when provided with the parameter r\n",
    "    \"\"\"\n",
    "\n",
    "    # add 1s to the feature matrix X to consider the bias term (intercept) in the linear regression\n",
    "    ones = np.ones(X.shape[0])\n",
    "    X = np.column_stack([ones, X])\n",
    "\n",
    "    XTX = X.T.dot(X)\n",
    "\n",
    "    # add the regularization term to the diagonal of the XTX matrix when r is provided\n",
    "    if r is not None:\n",
    "        XTX = XTX + r * np.eye(XTX.shape[0])\n",
    "\n",
    "    XTX_inv = np.linalg.inv(XTX)\n",
    "    w_full = XTX_inv.dot(X.T).dot(y)\n",
    "    \n",
    "    return w_full[0], w_full[1:]"
   ]
  },
  {
   "cell_type": "code",
   "execution_count": 10,
   "metadata": {},
   "outputs": [],
   "source": [
    "# prepare the data for the model, fill base features na with 0\n",
    "def prepare_X(df, base_feature, fillna_value=0):\n",
    "    \"\"\"\n",
    "    Take the input data frame df and the list of features base_feature,\n",
    "    fills the missing values with fillna_value, and returns the feature matrix X.\n",
    "    \"\"\"\n",
    "    X = df[base_feature].fillna(fillna_value).values    \n",
    "    return X\n"
   ]
  },
  {
   "cell_type": "code",
   "execution_count": 23,
   "metadata": {},
   "outputs": [],
   "source": [
    "def get_the_model_prediction(df, base_feature, y, fillna_value):\n",
    "    \"\"\"\n",
    "    Take the input data frame df, the base_feature, and the target variable y, \n",
    "    calculates the optimal weights for the linear regression model using the Ordinary Least Square (OLS) method, \n",
    "    and returns the predictions for the target variable y.\n",
    "    \"\"\"\n",
    "\n",
    "    # fill in the missing values with the median value from the train set\n",
    "    X_train = df[base_feature].fillna(fillna_value).values\n",
    "\n",
    "    # train the linear regression model on the train set and the intercept and weights for the model\n",
    "    w0, w = train_linear_regression(X_train, y)\n",
    "\n",
    "    # get the predictions for the train set \n",
    "    y_pred = w0 + X_train.dot(w)    \n",
    "    \n",
    "    return y_pred"
   ]
  },
  {
   "cell_type": "code",
   "execution_count": 145,
   "metadata": {},
   "outputs": [
    {
     "name": "stdout",
     "output_type": "stream",
     "text": [
      "Prediction with 0: [[11.48901068]\n",
      " [12.1484566 ]] \n",
      "Prediction with median (12.033509321931893): [[11.48874549]\n",
      " [12.14824704]]\n"
     ]
    },
    {
     "data": {
      "text/plain": [
       "<Axes: xlabel='median_house_value', ylabel='Count'>"
      ]
     },
     "execution_count": 145,
     "metadata": {},
     "output_type": "execute_result"
    },
    {
     "data": {
      "image/png": "[encoded data removed]",
      "text/plain": [
       "<Figure size 640x480 with 1 Axes>"
      ]
     },
     "metadata": {},
     "output_type": "display_data"
    }
   ],
   "source": [
    "# on the train set, fill the missing values with 0 and calculate the predictions\n",
    "y_pred_with_zero = get_the_model_prediction(df_train, features, y_train, 0)\n",
    "\n",
    "# on the train set, fill the missing values with the median value from the train set and calculate the predictions\n",
    "y_pred_with_median = get_the_model_prediction(df_train, features, y_train, y_train.median().values[0])\n",
    "\n",
    "# print the prediction results\n",
    "print(f\"Prediction with 0: {y_pred_with_zero[:2]} \")\n",
    "print(f\"Prediction with median ({y_train.median().values[0]}): {y_pred_with_median[:2]}\")\n",
    "\n",
    "# use sns.histplot to compare the distribution of the target variable y_train and the predictions y_train_pred_with_zero and y_train_pred_with_median\n",
    "sns.histplot(y_pred_with_zero, color='red', alpha=0.5, bins=50)\n",
    "sns.histplot(y_pred_with_median, color='blue', alpha=0.5, bins=50)\n",
    "sns.histplot(y_train['median_house_value'], color='green', alpha=0.2, bins=50)\n"
   ]
  },
  {
   "cell_type": "code",
   "execution_count": 42,
   "metadata": {},
   "outputs": [],
   "source": [
    "# define the rmse function\n",
    "def rmse(y, y_pred):\n",
    "    \"\"\"\n",
    "    This function takes the target variable y and the predictions y_pred, calculates the root mean squared error, and returns the rmse value.\n",
    "    \"\"\"\n",
    "    se = (y - y_pred) ** 2\n",
    "    mse = se.mean()\n",
    "    return np.sqrt(mse)"
   ]
  },
  {
   "cell_type": "markdown",
   "metadata": {},
   "source": [
    "### Question 3 - Which option (r) provides the best RMSE?"
   ]
  },
  {
   "cell_type": "code",
   "execution_count": 146,
   "metadata": {},
   "outputs": [
    {
     "name": "stdout",
     "output_type": "stream",
     "text": [
      "RMSE with 0: 0.34\n",
      "RMSE with median: 0.34\n",
      "RMSE is the same\n"
     ]
    }
   ],
   "source": [
    "# use the validation set to evaluate the predicted models y_pred_with_zero, y_pred_with_median \n",
    "# and compare the rmse values and round to 2 decimal places\n",
    "rmse_with_zero = round(rmse(y_train, y_pred_with_zero),2)[0]\n",
    "rmse_with_median = round(rmse(y_train, y_pred_with_median),2)[0] \n",
    "print(f\"RMSE with 0: {rmse_with_zero}\")\n",
    "print(f\"RMSE with median: {rmse_with_median}\")\n",
    "result = rmse_with_zero - rmse_with_median\n",
    "label = \"the same\" if result == 0 else \"better with zero\" if result < 0 else \"better with mean\"\n",
    "print(f\"RMSE is {label}\")"
   ]
  },
  {
   "cell_type": "markdown",
   "metadata": {},
   "source": [
    "### Question 4 - regularized linear regression which r results in the best rmse"
   ]
  },
  {
   "cell_type": "code",
   "execution_count": 148,
   "metadata": {},
   "outputs": [
    {
     "name": "stdout",
     "output_type": "stream",
     "text": [
      "r=0: 0.340924, w:[-9.76028239], rmse:0.340924\n",
      "r=1e-06: 0.340924, w:[-9.76026175], rmse:0.340924\n",
      "r=0.0001: 0.340924, w:[-9.75821872], rmse:0.340924\n",
      "r=0.001: 0.340926, w:[-9.73968492], rmse:0.340926\n",
      "r=0.01: 0.340954, w:[-9.55814571], rmse:0.340954\n",
      "r=0.1: 0.341364, w:[-8.05640624], rmse:0.341364\n",
      "r=1: 0.344976, w:[-3.13214983], rmse:0.344976\n",
      "r=5: 0.34782, w:[-0.84081192], rmse:0.34782\n",
      "r=10: 0.348395, w:[-0.43797334], rmse:0.348395\n"
     ]
    }
   ],
   "source": [
    "# List of regularization parameters (r)\n",
    "r_values = [0, 0.000001, 0.0001, 0.001, 0.01, 0.1, 1, 5, 10]\n",
    "\n",
    "# prepare the data for the model, fill base features na with 0\n",
    "X_train = prepare_X(df_train, features, fillna_value=0)\n",
    "X_validate = prepare_X(df_validate, features, fillna_value=0)\n",
    "\n",
    "# train with linear regression with regularization and get the predictions\n",
    "for r in r_values:\n",
    "    w0, w = train_linear_regression(X_train, y_train, r=r)\n",
    "    y_pred = w0 + X_validate.dot(w)\n",
    "    \n",
    "    # get the rmse value and round to 2 decimal places\n",
    "    rmse_value = round(rmse(y_validate, y_pred)[0],6)\n",
    "    print(f\"r={r}: {rmse_value}, w:{w0}, rmse:{rmse_value}\")    \n",
    "    "
   ]
  },
  {
   "cell_type": "markdown",
   "metadata": {},
   "source": [
    "### Question 5 - What is the STD value"
   ]
  },
  {
   "cell_type": "code",
   "execution_count": 142,
   "metadata": {},
   "outputs": [
    {
     "name": "stdout",
     "output_type": "stream",
     "text": [
      "RMSE mean: 0.34, RMSE std: 0.005631\n"
     ]
    }
   ],
   "source": [
    "# lets try other seed values\n",
    "seeds = [0, 1, 2, 3, 4, 5, 6, 7, 8, 9]\n",
    "rmse_values = list()\n",
    "\n",
    "# for each seed value, shuffle the dataset \n",
    "for seed in seeds:\n",
    "\n",
    "    # shuffle the dataset with the seed\n",
    "    df_seed_sample = df.sample(frac=1, random_state=seed)\n",
    "    # split the dataset into parts: train (60%) validate (20%) and test (20%)\n",
    "    df_seed_train = (df_seed_sample.iloc[:int(len(df_seed_sample)*0.6)]).reset_index(drop=True)\n",
    "    df_seed_validate = (df_seed_sample.iloc[int(len(df_seed_sample)*0.6):int(len(df_seed_sample)*0.8)]).reset_index(drop=True)\n",
    "    df_seed_test = (df_seed_sample.iloc[int(len(df_seed_sample)*0.8):]).reset_index(drop=True)\n",
    "\n",
    "    # print the len of each part\n",
    "    # print(f\"Total: {len(df_seed_sample)} Train: {len(df_seed_train)} Validate: {len(df_seed_validate)} Test: {len(df_seed_test)}\")\n",
    "\n",
    "    # normalized the data and get the y_seed_train, y_seed_validate, y_seed_test\n",
    "    y_seed_train = np.log1p(df_seed_train[base_feature])\n",
    "    y_seed_validate = np.log1p(df_seed_validate[base_feature])\n",
    "    y_seed_test = np.log1p(df_seed_test[base_feature])\n",
    "\n",
    "    df_seed_train = df_seed_train.drop(base_feature, axis=1)\n",
    "    df_seed_validate = df_seed_validate.drop(base_feature, axis=1)\n",
    "\n",
    "    # prepare the data for the model, fill base features na with 0\n",
    "    X_seed_train = prepare_X(df_seed_train, features, fillna_value=0)\n",
    "    X_seed_validate = prepare_X(df_seed_validate, features, fillna_value=0)\n",
    "\n",
    "    # train the mode using the train set and get the predictions\n",
    "    w0, w = train_linear_regression(X_seed_train, y_seed_train)\n",
    "    y_seed_pred = w0 + X_seed_validate.dot(w)\n",
    "    # get the rmse value and round to 2 decimal places\n",
    "    rmse_value = rmse(y_seed_validate, y_seed_pred)\n",
    "\n",
    "    # collect all the rmse scores so we can calculate the mean and std\n",
    "    rmse_values.append(rmse_value)\n",
    "\n",
    "# calculate the mean and std of the rmse scores round to 3 decimal places\n",
    "rmse_mean = round(np.mean(rmse_values),3)\n",
    "rmse_std = round(np.std(rmse_values),6)\n",
    "print(f\"RMSE mean: {rmse_mean}, RMSE std: {rmse_std}\")\n"
   ]
  },
  {
   "cell_type": "markdown",
   "metadata": {},
   "source": [
    "### Question 6 - What's the RMSE on the test dataset?\n",
    "- Split the dataset like previously, use seed 9.\n",
    "- Combine train and validation datasets.\n",
    "- Fill the missing values with 0 and train a model with r=0.001.\n",
    "- What's the RMSE on the test dataset?"
   ]
  },
  {
   "cell_type": "code",
   "execution_count": 138,
   "metadata": {},
   "outputs": [
    {
     "name": "stdout",
     "output_type": "stream",
     "text": [
      "Total: 15687 Train: 9412 Validate: 3137 Test: 3138\n",
      "Combine the train and validate sets: X 12549 y 12549\n",
      "RMSE with r=0.001: 0.2354\n"
     ]
    }
   ],
   "source": [
    "# shuffle the dataset with the seed 9\n",
    "df_rmse_sample = df.sample(frac=1, random_state=9)\n",
    "# split the dataset into parts: train (60%) validate (20%) and test (20%)\n",
    "df_rmse_train = (df_rmse_sample.iloc[:int(len(df_rmse_sample)*0.6)]).reset_index(drop=True)\n",
    "df_rmse_validate = (df_rmse_sample.iloc[int(len(df_rmse_sample)*0.6):int(len(df_rmse_sample)*0.8)]).reset_index(drop=True)\n",
    "df_rmse_test = (df_rmse_sample.iloc[int(len(df_rmse_sample)*0.8):]).reset_index(drop=True)\n",
    "\n",
    "print (f\"Total: {len(df_rmse_sample)} Train: {len(df_rmse_train)} Validate: {len(df_rmse_validate)} Test: {len(df_rmse_test)}\")\n",
    "\n",
    "# combine the train and validate sets\n",
    "df_full_train = pd.concat([df_rmse_train, df_rmse_validate]).reset_index(drop=True)\n",
    "\n",
    "# normalized the data and get the y_rmse_train, y_rmse_validate, y_rmse_test\n",
    "y_rmse_train = np.log1p(df_rmse_train[base_feature])\n",
    "y_rmse_validate = np.log1p(df_rmse_validate[base_feature])\n",
    "y_rmse_test = np.log1p(df_rmse_test[base_feature])\n",
    "\n",
    "# drop the target column from the train and validate sets\n",
    "df_full_train = df_full_train.drop(base_feature, axis=1)\n",
    "df_rmse_test = df_rmse_test.drop(base_feature, axis=1)\n",
    "\n",
    "# combine the train and validate sets \n",
    "y_full_train = np.concatenate([y_rmse_train, y_rmse_validate])\n",
    "print(f\"Combine the train and validate sets: X {len(df_full_train)} y {len(y_full_train)}\")\n",
    "\n",
    "# prepare the data for the model\n",
    "X_full_train = prepare_X(df_full_train, features, fillna_value=0)\n",
    "X_rmse_validate = prepare_X(df_rmse_validate, features, fillna_value=0) \n",
    "X_rmse_test = prepare_X(df_rmse_test, features, fillna_value=0)\n",
    "\n",
    "# train the model using the combine data, r=0.001 and get the predictions\n",
    "r_value = 0.001\n",
    "w0, w = train_linear_regression(X_full_train, y_full_train, r=r_value)\n",
    "\n",
    "y_rmse_pred = w0 + X_rmse_test.dot(w)\n",
    "\n",
    "# get the rmse value and round to 2 decimal places\n",
    "rmse_value = round(rmse(df_rmse_test, y_rmse_pred),2)[0]/100\n",
    "print(f\"RMSE with r={r_value}: {rmse_value}\")\n"
   ]
  },
  {
   "cell_type": "code",
   "execution_count": 137,
   "metadata": {},
   "outputs": [
    {
     "data": {
      "image/png": "[encoded data removed]",
      "text/plain": [
       "<Figure size 640x480 with 1 Axes>"
      ]
     },
     "metadata": {},
     "output_type": "display_data"
    }
   ],
   "source": [
    "# create a liner regression plot using sns.regplot and the predicted vs target values\n",
    "sns.regplot(x=y_rmse_pred, y=y_rmse_test, scatter_kws={'alpha':0.1}, line_kws={\"color\": \"red\"})\n",
    "plt.xlabel('Predicted')\n",
    "plt.ylabel('Actual')\n",
    "plt.title('Predicted vs Actual')\n",
    "plt.show()\n",
    "\n"
   ]
  }
 ],
 "metadata": {
  "kernelspec": {
   "display_name": "Python 3 (ipykernel)",
   "language": "python",
   "name": "python3"
  },
  "language_info": {
   "codemirror_mode": {
    "name": "ipython",
    "version": 3
   },
   "file_extension": ".py",
   "mimetype": "text/x-python",
   "name": "python",
   "nbconvert_exporter": "python",
   "pygments_lexer": "ipython3",
   "version": "3.8.10"
  },
  "orig_nbformat": 4
 },
 "nbformat": 4,
 "nbformat_minor": 2
}
